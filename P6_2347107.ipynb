{
 "cells": [
  {
   "cell_type": "code",
   "execution_count": 6,
   "metadata": {},
   "outputs": [
    {
     "name": "stdout",
     "output_type": "stream",
     "text": [
      "\n",
      "-------------------------------------------------\n",
      "\n",
      "|           Welcome to Spotify PREMIUM          |\n",
      "\n",
      "-------------------------------------------------\n",
      "\n",
      "Some entries are incorrect.\n",
      "Your Entries : \n",
      "\n",
      "\n",
      "-------------------------------------------------\n",
      "\n",
      "Name : John Doe\n",
      "Phone Number : 1234567890\n",
      "Email : john.doe@example.com\n",
      "Date of Birth : 1990-05-15\n",
      "Payment Options : Credit Card\n",
      "\n",
      "-------------------------------------------------\n",
      "\n"
     ]
    }
   ],
   "source": [
    "import re\n",
    "\n",
    "def verify_inputs(name, phoneNumber, email, dob, payment_option):\n",
    "    \n",
    "    if not re.match(r'^[A-Za-z\\s]+\\.[A-Za-z\\s]+$', name):\n",
    "        return False\n",
    "    \n",
    "    #only 10 digits\n",
    "    if not re.match(r'^\\d{10}$', phoneNumber):\n",
    "        return False\n",
    "    \n",
    "    if not re.match(r'^[a-zA-Z0-9._%+-]+@[a-zA-Z0-9.-]+\\.[a-zA-Z]{2,}$', email):\n",
    "        return False\n",
    "    \n",
    "    # YYYY-MM-DD\n",
    "    if not re.match(r'^\\d{4}-\\d{2}-\\d{2}$', dob):\n",
    "        return False\n",
    "    \n",
    "    if not re.match(r'^(credit card|debit card|upi)$', payment_option, re.IGNORECASE):\n",
    "        return False\n",
    "    \n",
    "    return True\n",
    "\n",
    "if __name__ == \"__main__\":\n",
    "    \n",
    "    print(\"\\n-------------------------------------------------\\n\")\n",
    "    print(\"|           Welcome to Spotify PREMIUM          |\")\n",
    "    print(\"\\n-------------------------------------------------\\n\")\n",
    "    # name = input(\"Enter your name: \")\n",
    "    # phoneNumber = int(input(\"Enter your phone number: \"))\n",
    "    # email = input(\"Email address : \")\n",
    "    # dob = input(\"Enter your date of birth : \")\n",
    "    # paymentOption = input(\"Payment option ( Credit Card/ Debit Card/ Upi ) : \")\n",
    "    name = \"John Doe\"\n",
    "    phoneNumber = \"1234567890\"\n",
    "    email = \"john.doe@example.com\"\n",
    "    dob = \"1990-05-15\"\n",
    "    paymentOption = \"Credit Card\"\n",
    "\n",
    "    if verify_inputs(name, phoneNumber, email, dob, paymentOption):\n",
    "        print(\"Everything looks fine!\")\n",
    "    else:\n",
    "        print(\"Some entries are incorrect.\")\n",
    "        print(\"Your Entries : \\n\")\n",
    "        print(\"\\n-------------------------------------------------\\n\")\n",
    "        print(f\"Name : {name}\")\n",
    "        print(f\"Phone Number : {phoneNumber}\")\n",
    "        print(f\"Email : {email}\")\n",
    "        print(f\"Date of Birth : {dob}\")\n",
    "        print(f\"Payment Options : {paymentOption}\")\n",
    "        print(\"\\n-------------------------------------------------\\n\")\n"
   ]
  }
 ],
 "metadata": {
  "kernelspec": {
   "display_name": "Python 3",
   "language": "python",
   "name": "python3"
  },
  "language_info": {
   "codemirror_mode": {
    "name": "ipython",
    "version": 3
   },
   "file_extension": ".py",
   "mimetype": "text/x-python",
   "name": "python",
   "nbconvert_exporter": "python",
   "pygments_lexer": "ipython3",
   "version": "3.10.4"
  },
  "orig_nbformat": 4
 },
 "nbformat": 4,
 "nbformat_minor": 2
}
