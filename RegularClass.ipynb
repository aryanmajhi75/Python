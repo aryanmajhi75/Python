{
  "cells": [
    {
      "cell_type": "markdown",
      "metadata": {
        "id": "jYWSWuMqF2Gv"
      },
      "source": [
        "Lambda"
      ]
    },
    {
      "cell_type": "code",
      "execution_count": null,
      "metadata": {
        "colab": {
          "base_uri": "https://localhost:8080/"
        },
        "id": "dGSunCJ8FsMJ",
        "outputId": "501a1423-a152-4077-a5ee-91923ee4ca42"
      },
      "outputs": [
        {
          "name": "stdout",
          "output_type": "stream",
          "text": [
            "15\n"
          ]
        }
      ],
      "source": [
        "x=lambda a,b: a*b\n",
        "x(1,2)\n",
        "print(x(3,5))"
      ]
    },
    {
      "cell_type": "code",
      "execution_count": null,
      "metadata": {
        "colab": {
          "base_uri": "https://localhost:8080/"
        },
        "id": "7h5ePCdQGLHq",
        "outputId": "b1855608-6ae2-44d2-dee2-9a7ba7b9c296"
      },
      "outputs": [
        {
          "name": "stdout",
          "output_type": "stream",
          "text": [
            "5\n",
            "14\n",
            "17\n"
          ]
        }
      ],
      "source": [
        "f=lambda x,y,z=0,w=0: x+2*y+3*z+4*w\n",
        "print(f(1,2))\n",
        "print(f(1,2,3))\n",
        "print(f(1,2,w=3))"
      ]
    },
    {
      "cell_type": "code",
      "execution_count": null,
      "metadata": {
        "colab": {
          "base_uri": "https://localhost:8080/",
          "height": 134
        },
        "id": "bYTMErTEGp-W",
        "outputId": "f4acc98f-d944-42d4-ad0a-6ff6038a00a9"
      },
      "outputs": [
        {
          "ename": "SyntaxError",
          "evalue": "ignored",
          "output_type": "error",
          "traceback": [
            "\u001b[0;36m  File \u001b[0;32m\"<ipython-input-7-d8c0cfc579c4>\"\u001b[0;36m, line \u001b[0;32m1\u001b[0m\n\u001b[0;31m    f=lambda x,y=0,z=0,w: x+2*y+3*z+4*w\u001b[0m\n\u001b[0m                       ^\u001b[0m\n\u001b[0;31mSyntaxError\u001b[0m\u001b[0;31m:\u001b[0m non-default argument follows default argument\n"
          ]
        }
      ],
      "source": [
        "f=lambda x,y=0,z=0,w: x+2*y+3*z+4*w\n",
        "f(1,2)"
      ]
    },
    {
      "cell_type": "markdown",
      "metadata": {
        "id": "aXOtMxJKHYad"
      },
      "source": [
        "Express the expression x^3+y^2+5 in lambda"
      ]
    },
    {
      "cell_type": "code",
      "execution_count": null,
      "metadata": {
        "colab": {
          "base_uri": "https://localhost:8080/"
        },
        "id": "6J3ooT_LG-Wx",
        "outputId": "a592bb38-3ac2-47e7-d972-4c38c98330ab"
      },
      "outputs": [
        {
          "data": {
            "text/plain": [
              "7"
            ]
          },
          "execution_count": 10,
          "metadata": {},
          "output_type": "execute_result"
        }
      ],
      "source": [
        "f=lambda x=1,y=1: pow(x,3)+pow(y,2)+5\n",
        "f()"
      ]
    },
    {
      "cell_type": "code",
      "execution_count": null,
      "metadata": {
        "colab": {
          "base_uri": "https://localhost:8080/"
        },
        "id": "T4b4EwA3LDDO",
        "outputId": "49fe53f2-50f4-4355-96db-b96680200206"
      },
      "outputs": [
        {
          "name": "stdout",
          "output_type": "stream",
          "text": [
            "ZOOM\n",
            "POP\n",
            "Cupid\n",
            "Shinzo wo Sasageyo\n",
            "Way I Am\n"
          ]
        },
        {
          "data": {
            "text/plain": [
              "[None, None, None, None, None]"
            ]
          },
          "execution_count": 12,
          "metadata": {},
          "output_type": "execute_result"
        }
      ],
      "source": [
        "songList=[\"ZOOM\",\"POP\",\"Cupid\",\"Shinzo wo Sasageyo\",\"Way I Am\"]\n",
        "\n",
        "[print(x) for x in songList]"
      ]
    },
    {
      "cell_type": "code",
      "execution_count": null,
      "metadata": {
        "colab": {
          "base_uri": "https://localhost:8080/"
        },
        "id": "y7HJxFmuL6Vo",
        "outputId": "ebe6f944-a743-48a0-f412-a4657112087a"
      },
      "outputs": [
        {
          "name": "stdout",
          "output_type": "stream",
          "text": [
            "['ZOOM', 'POP', 'Cupid', 'AOT', 'Way I Am']\n"
          ]
        }
      ],
      "source": [
        "newList=[x if x!=\"Shinzo wo Sasageyo\" else \"AOT\" for x in songList ]\n",
        "print(newList)"
      ]
    },
    {
      "cell_type": "markdown",
      "metadata": {},
      "source": [
        "CLASS"
      ]
    },
    {
      "cell_type": "code",
      "execution_count": 16,
      "metadata": {},
      "outputs": [
        {
          "name": "stdout",
          "output_type": "stream",
          "text": [
            "<class '__main__.Account'>\n",
            "<__main__.Account object at 0x00000222E72A8BE0>\n",
            "Name : Anupam : 2348911549360\n",
            "Balance : 12000 : 2348939080688\n",
            "<__main__.Account object at 0x00000222E73FF4F0>\n",
            "Balance : 12000 : 2348939080144\n",
            "Value : 12345 : 2348939080176\n"
          ]
        }
      ],
      "source": [
        "class Account: #class name Account\n",
        "    pass    #\"pass\" does nothing\n",
        "\n",
        "a1=Account()    #constructor called\n",
        "a2=Account()\n",
        "\n",
        "a1.name=\"Anupam\"\n",
        "a1.bal=12000\n",
        "\n",
        "a2.surname=\"Kumar\"\n",
        "a2.value=12345\n",
        "a2.balance=12000\n",
        "print(Account)\n",
        "print(a1)\n",
        "print(f\"Name : {a1.name} : {id(a1.name)}\")\n",
        "print(f\"Balance : {a1.bal} : {id(a1.bal)}\")\n",
        "\n",
        "print(a2)\n",
        "print(f\"Balance : {a2.balance} : {id(a2.balance)}\")\n",
        "print(f\"Value : {a2.value} : {id(a2.value)}\")\n",
        "\n",
        "del(a2.value)   #Removing an attribute"
      ]
    },
    {
      "cell_type": "code",
      "execution_count": 23,
      "metadata": {},
      "outputs": [
        {
          "name": "stdout",
          "output_type": "stream",
          "text": [
            "1000\n",
            "13000\n",
            "14000\n"
          ]
        }
      ],
      "source": [
        "class Account:\n",
        "    def deposit(self, amount):\n",
        "        self.balance += amount\n",
        "\n",
        "a=Account()\n",
        "# print(a.balance)\n",
        "a.balance=1000\n",
        "print(a.balance)\n",
        "a.deposit(12000)    #implicit call\n",
        "print(a.balance)\n",
        "# a.balance\n",
        "\n",
        "Account.deposit(a,1000)\n",
        "print(a.balance)    #explicit call"
      ]
    },
    {
      "cell_type": "code",
      "execution_count": 40,
      "metadata": {},
      "outputs": [
        {
          "name": "stdout",
          "output_type": "stream",
          "text": [
            "10000\n",
            "9000\n",
            "None\n",
            "{'name': 'Anupam', 'accNumber': 123456789, 'balance': 9000}\n",
            "__main__\n",
            "Account Name : Anupam , Balance : 9000\n",
            "10000\n",
            "0\n",
            "{'name': 'Rishita', 'accNumber': 123456780, 'balance': 0}\n"
          ]
        }
      ],
      "source": [
        "class Account:\n",
        "    def __init__(self,name,accNumber,balance=0):\n",
        "        self.name = name\n",
        "        self.accNumber = accNumber\n",
        "        self.balance = balance\n",
        "    def deposit(self, amount):\n",
        "        if amount<=0:\n",
        "            print(\"ERROR! Negative deposit amount\")\n",
        "            return\n",
        "        self.balance += amount\n",
        "        print(self.balance)\n",
        "    def withdraw(self, amount):\n",
        "        if amount<=0:\n",
        "            print(\"ERROR! Negative deposit amount\")\n",
        "            return\n",
        "        if amount>self.balance:\n",
        "            print(\"ERROR! Insufficient deposit amount\")\n",
        "            return\n",
        "        self.balance -= amount\n",
        "    def display(self):\n",
        "        print(self.balance)\n",
        "    def __str__(self):\n",
        "        return f\"Account Name : {self.name} , Balance : {self.balance}\"\n",
        "\n",
        "a=Account(\"Anupam\",123456789,10000)\n",
        "b=Account(\"Rishita\",123456780)\n",
        "a.display()\n",
        "a.withdraw(1000)\n",
        "a.display()\n",
        "print(a.__doc__)\n",
        "print(a.__dict__)\n",
        "print(a.__module__)\n",
        "print(a.__str__())\n",
        "a.deposit(1000)\n",
        "# a.__str__()\n",
        "\n",
        "b.display()\n",
        "print(b.__dict__)"
      ]
    },
    {
      "cell_type": "code",
      "execution_count": 39,
      "metadata": {},
      "outputs": [
        {
          "name": "stdout",
          "output_type": "stream",
          "text": [
            "\n",
            " Song Name : PERFECT\n",
            " Duration of the song : 3.1\n",
            " Album Name : Divide\n",
            " Artist Name : Ed Sheeran\n"
          ]
        }
      ],
      "source": [
        "class Song:\n",
        "    def __init__(self,songName,duration,album,artist):\n",
        "        self.songName = songName\n",
        "        self.duration = duration\n",
        "        self.album = album\n",
        "        self.artist = artist\n",
        "    \n",
        "    def __str__(self):\n",
        "        return f\"\\n Song Name : {self.songName}\\n Duration of the song : {self.duration}\\n Album Name : {self.album}\\n Artist Name : {self.artist}\"\n",
        "\n",
        "    def changeDuration(self,newDuration):\n",
        "        self.duration = newDuration\n",
        "    \n",
        "perfect=Song(\"PERFECT\",3.10,\"Divide\",\"Ed Sheeran\")\n",
        "print(perfect.__str__())"
      ]
    },
    {
      "cell_type": "markdown",
      "metadata": {},
      "source": [
        "INHERITANCE"
      ]
    },
    {
      "cell_type": "code",
      "execution_count": 41,
      "metadata": {},
      "outputs": [],
      "source": [
        "class CreditAccount(Account):\n",
        "    pass"
      ]
    },
    {
      "cell_type": "code",
      "execution_count": 44,
      "metadata": {},
      "outputs": [
        {
          "name": "stdout",
          "output_type": "stream",
          "text": [
            "Account Name : Anupam , Balance : 0\n"
          ]
        }
      ],
      "source": [
        "b1=CreditAccount(\"Anupam\",12345612)\n",
        "print(b1)"
      ]
    }
  ],
  "metadata": {
    "colab": {
      "provenance": []
    },
    "kernelspec": {
      "display_name": "Python 3",
      "name": "python3"
    },
    "language_info": {
      "codemirror_mode": {
        "name": "ipython",
        "version": 3
      },
      "file_extension": ".py",
      "mimetype": "text/x-python",
      "name": "python",
      "nbconvert_exporter": "python",
      "pygments_lexer": "ipython3",
      "version": "3.10.4"
    }
  },
  "nbformat": 4,
  "nbformat_minor": 0
}
