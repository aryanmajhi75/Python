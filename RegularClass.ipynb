{
  "cells": [
    {
      "cell_type": "code",
      "execution_count": 2,
      "metadata": {},
      "outputs": [],
      "source": [
        "import numpy as np\n",
        "import pandas as pd\n",
        "import matplotlib.pyplot as plt"
      ]
    },
    {
      "cell_type": "markdown",
      "metadata": {
        "id": "jYWSWuMqF2Gv"
      },
      "source": [
        "Lambda"
      ]
    },
    {
      "cell_type": "code",
      "execution_count": 3,
      "metadata": {
        "colab": {
          "base_uri": "https://localhost:8080/"
        },
        "id": "dGSunCJ8FsMJ",
        "outputId": "501a1423-a152-4077-a5ee-91923ee4ca42"
      },
      "outputs": [
        {
          "name": "stdout",
          "output_type": "stream",
          "text": [
            "15\n"
          ]
        }
      ],
      "source": [
        "x=lambda a,b: a*b\n",
        "x(1,2)\n",
        "print(x(3,5))"
      ]
    },
    {
      "cell_type": "code",
      "execution_count": 4,
      "metadata": {
        "colab": {
          "base_uri": "https://localhost:8080/"
        },
        "id": "7h5ePCdQGLHq",
        "outputId": "b1855608-6ae2-44d2-dee2-9a7ba7b9c296"
      },
      "outputs": [
        {
          "name": "stdout",
          "output_type": "stream",
          "text": [
            "5\n",
            "14\n",
            "17\n"
          ]
        }
      ],
      "source": [
        "f=lambda x,y,z=0,w=0: x+2*y+3*z+4*w\n",
        "print(f(1,2))\n",
        "print(f(1,2,3))\n",
        "print(f(1,2,w=3))"
      ]
    },
    {
      "cell_type": "code",
      "execution_count": 5,
      "metadata": {
        "colab": {
          "base_uri": "https://localhost:8080/",
          "height": 134
        },
        "id": "bYTMErTEGp-W",
        "outputId": "f4acc98f-d944-42d4-ad0a-6ff6038a00a9"
      },
      "outputs": [
        {
          "ename": "SyntaxError",
          "evalue": "non-default argument follows default argument (2274469033.py, line 1)",
          "output_type": "error",
          "traceback": [
            "\u001b[1;36m  Input \u001b[1;32mIn [5]\u001b[1;36m\u001b[0m\n\u001b[1;33m    f=lambda x,y=0,z=0,w: x+2*y+3*z+4*w\u001b[0m\n\u001b[1;37m                       ^\u001b[0m\n\u001b[1;31mSyntaxError\u001b[0m\u001b[1;31m:\u001b[0m non-default argument follows default argument\n"
          ]
        }
      ],
      "source": [
        "f=lambda x,y=0,z=0,w: x+2*y+3*z+4*w\n",
        "f(1,2)"
      ]
    },
    {
      "cell_type": "markdown",
      "metadata": {
        "id": "aXOtMxJKHYad"
      },
      "source": [
        "Express the expression x^3+y^2+5 in lambda"
      ]
    },
    {
      "cell_type": "code",
      "execution_count": null,
      "metadata": {
        "colab": {
          "base_uri": "https://localhost:8080/"
        },
        "id": "6J3ooT_LG-Wx",
        "outputId": "a592bb38-3ac2-47e7-d972-4c38c98330ab"
      },
      "outputs": [
        {
          "data": {
            "text/plain": [
              "7"
            ]
          },
          "execution_count": 10,
          "metadata": {},
          "output_type": "execute_result"
        }
      ],
      "source": [
        "f=lambda x=1,y=1: pow(x,3)+pow(y,2)+5\n",
        "f()"
      ]
    },
    {
      "cell_type": "code",
      "execution_count": null,
      "metadata": {
        "colab": {
          "base_uri": "https://localhost:8080/"
        },
        "id": "T4b4EwA3LDDO",
        "outputId": "49fe53f2-50f4-4355-96db-b96680200206"
      },
      "outputs": [
        {
          "name": "stdout",
          "output_type": "stream",
          "text": [
            "ZOOM\n",
            "POP\n",
            "Cupid\n",
            "Shinzo wo Sasageyo\n",
            "Way I Am\n"
          ]
        },
        {
          "data": {
            "text/plain": [
              "[None, None, None, None, None]"
            ]
          },
          "execution_count": 12,
          "metadata": {},
          "output_type": "execute_result"
        }
      ],
      "source": [
        "songList=[\"ZOOM\",\"POP\",\"Cupid\",\"Shinzo wo Sasageyo\",\"Way I Am\"]\n",
        "\n",
        "[print(x) for x in songList]"
      ]
    },
    {
      "cell_type": "code",
      "execution_count": null,
      "metadata": {
        "colab": {
          "base_uri": "https://localhost:8080/"
        },
        "id": "y7HJxFmuL6Vo",
        "outputId": "ebe6f944-a743-48a0-f412-a4657112087a"
      },
      "outputs": [
        {
          "name": "stdout",
          "output_type": "stream",
          "text": [
            "['ZOOM', 'POP', 'Cupid', 'AOT', 'Way I Am']\n"
          ]
        }
      ],
      "source": [
        "newList=[x if x!=\"Shinzo wo Sasageyo\" else \"AOT\" for x in songList ]\n",
        "print(newList)"
      ]
    },
    {
      "cell_type": "markdown",
      "metadata": {},
      "source": [
        "CLASS"
      ]
    },
    {
      "cell_type": "code",
      "execution_count": null,
      "metadata": {},
      "outputs": [
        {
          "name": "stdout",
          "output_type": "stream",
          "text": [
            "<class '__main__.Account'>\n",
            "<__main__.Account object at 0x00000222E72A8BE0>\n",
            "Name : Anupam : 2348911549360\n",
            "Balance : 12000 : 2348939080688\n",
            "<__main__.Account object at 0x00000222E73FF4F0>\n",
            "Balance : 12000 : 2348939080144\n",
            "Value : 12345 : 2348939080176\n"
          ]
        }
      ],
      "source": [
        "class Account: #class name Account\n",
        "    pass    #\"pass\" does nothing\n",
        "\n",
        "a1=Account()    #constructor called\n",
        "a2=Account()\n",
        "\n",
        "a1.name=\"Anupam\"\n",
        "a1.bal=12000\n",
        "\n",
        "a2.surname=\"Kumar\"\n",
        "a2.value=12345\n",
        "a2.balance=12000\n",
        "print(Account)\n",
        "print(a1)\n",
        "print(f\"Name : {a1.name} : {id(a1.name)}\")\n",
        "print(f\"Balance : {a1.bal} : {id(a1.bal)}\")\n",
        "\n",
        "print(a2)\n",
        "print(f\"Balance : {a2.balance} : {id(a2.balance)}\")\n",
        "print(f\"Value : {a2.value} : {id(a2.value)}\")\n",
        "\n",
        "del(a2.value)   #Removing an attribute"
      ]
    },
    {
      "cell_type": "code",
      "execution_count": null,
      "metadata": {},
      "outputs": [
        {
          "name": "stdout",
          "output_type": "stream",
          "text": [
            "1000\n",
            "13000\n",
            "14000\n"
          ]
        }
      ],
      "source": [
        "class Account:\n",
        "    def deposit(self, amount):\n",
        "        self.balance += amount\n",
        "\n",
        "a=Account()\n",
        "# print(a.balance)\n",
        "a.balance=1000\n",
        "print(a.balance)\n",
        "a.deposit(12000)    #implicit call\n",
        "print(a.balance)\n",
        "# a.balance\n",
        "\n",
        "Account.deposit(a,1000)\n",
        "print(a.balance)    #explicit call"
      ]
    },
    {
      "cell_type": "code",
      "execution_count": null,
      "metadata": {},
      "outputs": [
        {
          "name": "stdout",
          "output_type": "stream",
          "text": [
            "10000\n",
            "9000\n",
            "None\n",
            "{'name': 'Anupam', 'accNumber': 123456789, 'balance': 9000}\n",
            "__main__\n",
            "Account Name : Anupam , Balance : 9000\n",
            "10000\n",
            "0\n",
            "{'name': 'Rishita', 'accNumber': 123456780, 'balance': 0}\n"
          ]
        }
      ],
      "source": [
        "class Account:\n",
        "    def __init__(self,name,accNumber,balance=0):\n",
        "        self.name = name\n",
        "        self.accNumber = accNumber\n",
        "        self.balance = balance\n",
        "    def deposit(self, amount):\n",
        "        if amount<=0:\n",
        "            print(\"ERROR! Negative deposit amount\")\n",
        "            return\n",
        "        self.balance += amount\n",
        "        print(self.balance)\n",
        "    def withdraw(self, amount):\n",
        "        if amount<=0:\n",
        "            print(\"ERROR! Negative deposit amount\")\n",
        "            return\n",
        "        if amount>self.balance:\n",
        "            print(\"ERROR! Insufficient deposit amount\")\n",
        "            return\n",
        "        self.balance -= amount\n",
        "    def display(self):\n",
        "        print(self.balance)\n",
        "    def __str__(self):\n",
        "        return f\"Account Name : {self.name} , Balance : {self.balance}\"\n",
        "\n",
        "a=Account(\"Anupam\",123456789,10000)\n",
        "b=Account(\"Rishita\",123456780)\n",
        "a.display()\n",
        "a.withdraw(1000)\n",
        "a.display()\n",
        "print(a.__doc__)\n",
        "print(a.__dict__)\n",
        "print(a.__module__)\n",
        "print(a.__str__())\n",
        "a.deposit(1000)\n",
        "# a.__str__()\n",
        "\n",
        "b.display()\n",
        "print(b.__dict__)"
      ]
    },
    {
      "cell_type": "code",
      "execution_count": null,
      "metadata": {},
      "outputs": [
        {
          "name": "stdout",
          "output_type": "stream",
          "text": [
            "\n",
            " Song Name : PERFECT\n",
            " Duration of the song : 3.1\n",
            " Album Name : Divide\n",
            " Artist Name : Ed Sheeran\n"
          ]
        }
      ],
      "source": [
        "class Song:\n",
        "    def __init__(self,songName,duration,album,artist):\n",
        "        self.songName = songName\n",
        "        self.duration = duration\n",
        "        self.album = album\n",
        "        self.artist = artist\n",
        "    \n",
        "    def __str__(self):\n",
        "        return f\"\\n Song Name : {self.songName}\\n Duration of the song : {self.duration}\\n Album Name : {self.album}\\n Artist Name : {self.artist}\"\n",
        "\n",
        "    def changeDuration(self,newDuration):\n",
        "        self.duration = newDuration\n",
        "    \n",
        "perfect=Song(\"PERFECT\",3.10,\"Divide\",\"Ed Sheeran\")\n",
        "print(perfect.__str__())"
      ]
    },
    {
      "cell_type": "markdown",
      "metadata": {},
      "source": [
        "INHERITANCE"
      ]
    },
    {
      "cell_type": "code",
      "execution_count": null,
      "metadata": {},
      "outputs": [],
      "source": [
        "class CreditAccount(Account):\n",
        "    pass"
      ]
    },
    {
      "cell_type": "code",
      "execution_count": null,
      "metadata": {},
      "outputs": [
        {
          "name": "stdout",
          "output_type": "stream",
          "text": [
            "Account Name : Anupam , Balance : 0\n"
          ]
        }
      ],
      "source": [
        "b1=CreditAccount(\"Anupam\",12345612)\n",
        "print(b1)"
      ]
    },
    {
      "cell_type": "markdown",
      "metadata": {},
      "source": []
    },
    {
      "cell_type": "code",
      "execution_count": null,
      "metadata": {},
      "outputs": [
        {
          "name": "stdout",
          "output_type": "stream",
          "text": [
            "Enter 10 numbers : \n",
            "\n",
            "Index 0 : 1\n",
            "\n",
            "Index 1 : 2\n",
            "\n",
            "Index 2 : 3\n",
            "\n",
            "Index 3 : 4\n",
            "\n",
            "Index 4 : 5\n",
            "\n",
            "Index 5 : 6\n",
            "\n",
            "Index 6 : 7\n",
            "\n",
            "Index 7 : 8\n",
            "\n",
            "Index 8 : 9\n",
            "\n",
            "Index 9 : 0\n",
            "Multiplication table of 1\n",
            "\n",
            "-------------\n",
            "\n",
            "| 1 * 1 =  1  |\n",
            "\n",
            "| 1 * 2 =  2  |\n",
            "\n",
            "| 1 * 3 =  3  |\n",
            "\n",
            "| 1 * 4 =  4  |\n",
            "\n",
            "| 1 * 5 =  5  |\n",
            "\n",
            "| 1 * 6 =  6  |\n",
            "\n",
            "| 1 * 7 =  7  |\n",
            "\n",
            "| 1 * 8 =  8  |\n",
            "\n",
            "| 1 * 9 =  9  |\n",
            "\n",
            "| 1 * 10 =  10 |\n",
            "\n",
            "-------------\n"
          ]
        }
      ],
      "source": [
        "mulNumber=[]\n",
        "print(\"Enter 10 numbers : \")\n",
        "for i in range(10):\n",
        "    m=int(input(\"-> \"))\n",
        "    mulNumber.append(m)\n",
        "\n",
        "for i in range(len(mulNumber)):\n",
        "    print(f\"\\nIndex {i} : {mulNumber[i]}\")\n",
        "\n",
        "select=int(input(\"Enter the index of the number u want to choose : \"))\n",
        "if(select not in range(len(mulNumber))):\n",
        "    print(\"\\nPlease input an available index\")\n",
        "    select=int(input(\"Enter the index of the number u want to choose : \"))\n",
        "else:\n",
        "    n=mulNumber[select]\n",
        "    print(f\"Multiplication table of {n}\\n\")\n",
        "    print( \"-----------------\\n\")\n",
        "    print(f\"| {n} * 1 = \",n*1,\" |\\n\")\n",
        "    print(f\"| {n} * 2 = \",n*2,\" |\\n\")\n",
        "    print(f\"| {n} * 3 = \",n*3,\" |\\n\")\n",
        "    print(f\"| {n} * 4 = \",n*4,\" |\\n\")\n",
        "    print(f\"| {n} * 5 = \",n*5,\" |\\n\")\n",
        "    print(f\"| {n} * 6 = \",n*6,\" |\\n\")\n",
        "    print(f\"| {n} * 7 = \",n*7,\" |\\n\")\n",
        "    print(f\"| {n} * 8 = \",n*8,\" |\\n\")\n",
        "    print(f\"| {n} * 9 = \",n*9,\" |\\n\")\n",
        "    print(f\"| {n} * 10 = \",n*10,\"|\\n\")\n",
        "    print( \"-----------------\")"
      ]
    },
    {
      "cell_type": "markdown",
      "metadata": {},
      "source": [
        "1. Print the status of a given interface\n",
        "2. Print all the interface and IP whose status is up\n",
        "3. Print the count of ethernet interface"
      ]
    },
    {
      "cell_type": "code",
      "execution_count": null,
      "metadata": {},
      "outputs": [
        {
          "name": "stdout",
          "output_type": "stream",
          "text": [
            "======================\n",
            "| Interface | Status |\n",
            "======================\n",
            "\n",
            "| Ethernet0 : up | \n",
            "\n",
            "| Ethernet1 : down | \n",
            "\n",
            "| Serial0 : up | \n",
            "\n",
            "| Serial1 : up | \n",
            "\n",
            "====================\n",
            "| Interface |  IP  |\n",
            "====================\n",
            "\n",
            "| Ethernet0 : 1.1.1.1 | \n",
            "\n",
            "| Serial0 : 3.3.3.3 | \n",
            "\n",
            "| Serial1 : 4.4.4.4 | \n",
            "\n",
            "====================\n",
            "| Interface |  IP  |\n",
            "====================\n",
            "\n",
            "Number of Wifi Networks having Ethernet in the name : 2\n"
          ]
        }
      ],
      "source": [
        "wifi={1:{'Interface':'Ethernet0','IP':'1.1.1.1','status':'up'},\n",
        "      2:{'Interface':'Ethernet1','IP':'2.2.2.2','status':'down'},\n",
        "      3:{'Interface':'Serial0','IP':'3.3.3.3','status':'up'},\n",
        "      4:{'Interface':'Serial1','IP':'4.4.4.4','status':'up'}}\n",
        "\n",
        "print(\"======================\")\n",
        "print(\"| Interface | Status |\")\n",
        "print(\"======================\\n\")\n",
        "for key,val in wifi.items():\n",
        "    # if val['Interface']:\n",
        "        print(f\"| {val['Interface']} : {val['status']} | \\n\")\n",
        "print(\"====================\")\n",
        "print(\"| Interface |  IP  |\")\n",
        "print(\"====================\\n\")\n",
        "for key,val in wifi.items():\n",
        "    if val['status']==\"up\":\n",
        "        print(f\"| {val['Interface']} : {val['IP']} | \\n\")\n",
        "\n",
        "count =0\n",
        "print(\"====================\")\n",
        "print(\"| Interface |  IP  |\")\n",
        "print(\"====================\\n\")\n",
        "for key,val in wifi.items():\n",
        "    if \"Ethernet\" in val['Interface']:\n",
        "        count+=1\n",
        "print(f\"Number of Wifi Networks having Ethernet in the name : {count}\")"
      ]
    },
    {
      "cell_type": "markdown",
      "metadata": {},
      "source": [
        "Single Inheritance"
      ]
    },
    {
      "cell_type": "code",
      "execution_count": null,
      "metadata": {},
      "outputs": [
        {
          "name": "stdout",
          "output_type": "stream",
          "text": [
            "School of Sciences\n",
            "School Name :  School of Sciences\n",
            "Department Name :  Department of Computer Science\n"
          ]
        }
      ],
      "source": [
        "class School:\n",
        "    def __init__(self, schoolName):\n",
        "        self.schoolName = schoolName\n",
        "    def printName(self):\n",
        "        print(\"School Name : \",self.schoolName)\n",
        "        print(\"Department Name : \",self.deptName)\n",
        "class Department(School):\n",
        "    def __init__(self,deptName,schoolName):\n",
        "        self.deptName = deptName\n",
        "        \n",
        "        School.__init__(self,schoolName)\n",
        "    # def printName(self):\n",
        "    #     print(\"School Name : \",self.schoolName)\n",
        "    #     print(\"Department Name : \",self.deptName)\n",
        "obj_1=Department(\"Department of Computer Science\",\"School of Sciences\")\n",
        "print(obj_1.schoolName)\n",
        "obj_1.printName()"
      ]
    },
    {
      "cell_type": "markdown",
      "metadata": {},
      "source": [
        "Multiple Inheritance"
      ]
    },
    {
      "cell_type": "code",
      "execution_count": null,
      "metadata": {},
      "outputs": [
        {
          "name": "stdout",
          "output_type": "stream",
          "text": [
            "Naya class 1 ka naam : Purana dept\n",
            "Purana Class Purana dept\n",
            "Naya class 2 ka naam : Purana dept\n",
            "Purana Class Purana dept\n"
          ]
        }
      ],
      "source": [
        "class Purana:\n",
        "    def __init__(self,Name):\n",
        "        self.Name = Name\n",
        "        print(\"Purana Class\",self.Name)\n",
        "\n",
        "class Naya1(Purana):\n",
        "    def __init__(self,Nayaname):\n",
        "        self.Name = Nayaname\n",
        "        print(f\"Naya class 1 ka naam : {Nayaname}\")\n",
        "        Purana.__init__(self,Nayaname)\n",
        "\n",
        "class Naya2(Purana):\n",
        "    def __init__(self,Nayaname):\n",
        "        self.Name = Nayaname\n",
        "        print(f\"Naya class 2 ka naam : {Nayaname}\")\n",
        "        Purana.__init__(self,Nayaname)\n",
        "    \n",
        "obj1=Naya1(\"Purana dept\")\n",
        "obj2=Naya2(\"Purana dept\")"
      ]
    },
    {
      "cell_type": "markdown",
      "metadata": {},
      "source": [
        "Multilevel Inheritance"
      ]
    },
    {
      "cell_type": "code",
      "execution_count": null,
      "metadata": {},
      "outputs": [
        {
          "name": "stdout",
          "output_type": "stream",
          "text": [
            "\n",
            "In Dada Class\n",
            "\n",
            "Purana Class Dada\n",
            "\n",
            "In Papa Class\n",
            "\n",
            "Naya class 1 ka naam : Papa\n",
            "\n",
            "In Dada Class\n",
            "\n",
            "Purana Class Papa\n",
            "\n",
            "In Mai Class\n",
            "\n",
            "Naya class 2 ka naam : Mai\n",
            "\n",
            "In Dada Class\n",
            "\n",
            "Purana Class Mai\n"
          ]
        }
      ],
      "source": [
        "class Dada:\n",
        "    def __init__(self,dadaNaam):\n",
        "        self.dadaNaam = dadaNaam\n",
        "        print(\"\\nIn Dada Class\")\n",
        "        print(\"\\nPurana Class\",self.dadaNaam)\n",
        "\n",
        "class Papa(Dada):\n",
        "    def __init__(self,papaNaam):\n",
        "        print(\"\\nIn Papa Class\")\n",
        "        self.papaNaam = papaNaam\n",
        "        print(f\"\\nNaya class 1 ka naam : {papaNaam}\")\n",
        "        Dada.__init__(self,papaNaam)\n",
        "\n",
        "class Mai(Papa):\n",
        "    def __init__(self,meraNaam):\n",
        "        print(\"\\nIn Mai Class\")\n",
        "        self.meraNaam = meraNaam\n",
        "        print(f\"\\nNaya class 2 ka naam : {meraNaam}\")\n",
        "        Dada.__init__(self,meraNaam)\n",
        "    \n",
        "obj1=Dada(\"Dada\")\n",
        "obj2=Papa(\"Papa\")\n",
        "obj2=Mai(\"Mai\")"
      ]
    },
    {
      "cell_type": "code",
      "execution_count": null,
      "metadata": {},
      "outputs": [
        {
          "name": "stdout",
          "output_type": "stream",
          "text": [
            "MTWTFSS\n"
          ]
        }
      ],
      "source": [
        "days=\"Mon, Tue, Wed, Thr, Fri, Sat, Sun\"\n",
        "print(days[::5])"
      ]
    },
    {
      "cell_type": "code",
      "execution_count": null,
      "metadata": {},
      "outputs": [
        {
          "name": "stdout",
          "output_type": "stream",
          "text": [
            "Area of the rectangle :  200\n",
            "Area of the rectangle :  100.0\n"
          ]
        }
      ],
      "source": [
        "from abc import ABC,abstractmethod\n",
        "\n",
        "class Shape():\n",
        "    @abstractmethod\n",
        "    def area(self):\n",
        "        pass\n",
        "\n",
        "class Rectangle(Shape):\n",
        "    def __init__(self,x,y):\n",
        "        self.l=x\n",
        "        self.b=y\n",
        "    def area(self):\n",
        "        return self.l*self.b\n",
        "\n",
        "class Triangle(Shape):\n",
        "    def __init__(self,x,y):\n",
        "        self.b=x\n",
        "        self.h=y\n",
        "    def area(self):\n",
        "        return (self.b*self.h/2)\n",
        "    \n",
        "r=Rectangle(10,20)\n",
        "print(\"Area of the rectangle : \",r.area())\n",
        "t=Triangle(10,20)\n",
        "print(\"Area of the rectangle : \",t.area())"
      ]
    },
    {
      "cell_type": "code",
      "execution_count": null,
      "metadata": {},
      "outputs": [],
      "source": [
        "inputTuple=[]\n",
        "dictReport={}\n",
        "sells=[]\n",
        "buys=[]"
      ]
    },
    {
      "cell_type": "code",
      "execution_count": null,
      "metadata": {},
      "outputs": [
        {
          "name": "stdout",
          "output_type": "stream",
          "text": [
            "[('de', 12.0, 21.0, 's')]\n",
            "[(252.0, 12.0)]\n",
            "[]\n"
          ]
        }
      ],
      "source": [
        "\n",
        "company=input(\"Enter your company initials : \")\n",
        "quantity=float(input(\"Enter quantity of units : \"))\n",
        "price=float(input(\"Enter price of units : \"))\n",
        "status=input(\"Enter your company status (b/s) : \")[0].lower()\n",
        "temp=(company,quantity,price,status)\n",
        "inputTuple.append(temp)\n",
        "\n",
        "print(inputTuple)\n",
        "\n",
        "for i in inputTuple:\n",
        "    if(i[3]=='b'):\n",
        "        temp=(i[1]*i[2],i[1])\n",
        "        buys.append(temp)\n",
        "    if(i[3]=='s'):\n",
        "        temp=(i[1]*i[2],i[1])\n",
        "        sells.append(temp)\n",
        "    print(f\"Sells : {sells}\")\n",
        "    print(f\"Buys : {buys}\")\n",
        "    # for j in i:\n",
        "    #     if(type(i)==int):\n",
        "    #         print(\"Int type\")\n",
        "    #     if (type(i)==float):\n",
        "    #         print(\"Float type\")                "
      ]
    },
    {
      "cell_type": "code",
      "execution_count": null,
      "metadata": {},
      "outputs": [
        {
          "name": "stdout",
          "output_type": "stream",
          "text": [
            "1\n"
          ]
        }
      ],
      "source": [
        "if float==type(3.0):\n",
        "    print(1)"
      ]
    },
    {
      "cell_type": "markdown",
      "metadata": {},
      "source": [
        "Write a Python program using SET to check the given sentence is Pangram and hetrogram\\\n",
        " A pangram is a unique sentence in which every letter of the alphabet is used at least once.\\\n",
        "Input : The quick brown fox jumps over the lazy dog\\\n",
        "Output : The string is a pangram\\\n",
        " Input : geeks for geeks\\\n",
        "Output : The string is not pangram\\\n",
        " A heterogram is a word, phrase, or sentence in which no letter of the alphabet occurs more than once. Examples:\\\n",
        " Input : S = \"the big dwarf only jumps\"\\\n",
        "Output : Yes\\\n",
        "Each alphabet in the string S is occurred only once.\\\n",
        "Input : S = \"geeksforgeeks\"\\\n",
        "Output : No\\\n",
        "Since alphabet 'g', 'e', 'k', 's' occurred more than once."
      ]
    },
    {
      "cell_type": "code",
      "execution_count": null,
      "metadata": {},
      "outputs": [
        {
          "name": "stdout",
          "output_type": "stream",
          "text": [
            "Sentence is Pangram\n"
          ]
        }
      ],
      "source": [
        "isPangram=set()\n",
        "nAlphabet=0\n",
        "checkPangram=input(\"Enter a sentence : \").lower()\n",
        "isPangram.update(checkPangram)\n",
        "# print(isPangram)\n",
        "for i in isPangram:\n",
        "    if i.isalpha():\n",
        "        nAlphabet+=1\n",
        "        # print(nAlphabet)\n",
        "\n",
        "if (nAlphabet==26):\n",
        "    print(\"Sentence is Pangram\")\n",
        "else:\n",
        "    print(\"Sentence is not Pangram\")"
      ]
    },
    {
      "cell_type": "code",
      "execution_count": null,
      "metadata": {},
      "outputs": [
        {
          "name": "stdout",
          "output_type": "stream",
          "text": [
            "['secnuiweiufhwexif', 'shfieohif']\n"
          ]
        }
      ],
      "source": [
        "heterogramList=[]\n",
        "Input=input(\"Enter your sentence : \")\n",
        "heterogramList=Input.split()\n",
        "print(heterogramList)\n"
      ]
    },
    {
      "cell_type": "code",
      "execution_count": null,
      "metadata": {},
      "outputs": [
        {
          "name": "stdout",
          "output_type": "stream",
          "text": [
            "<re.Match object; span=(0, 3), match='Wel'>\n",
            "(12, 14)\n",
            "Welcome to The re module\n",
            "he\n",
            "['he']\n",
            "['Welcome to T', ' re module']\n",
            "Welcome to the re module\n"
          ]
        }
      ],
      "source": [
        "import re\n",
        "\n",
        "txt=\"Welcome to The re module\"\n",
        "\n",
        "match=re.match(\"Wel\",txt)\n",
        "print(match)\n",
        "search=re.search(\"he\",txt)\n",
        "print(search.span())\n",
        "print(search.string)\n",
        "print(search.group())\n",
        "fall=re.findall(\"he\",txt)\n",
        "print(fall)\n",
        "split=re.split(\"he\",txt)\n",
        "print(split)\n",
        "sub=re.sub(\"T\",\"t\",txt)\n",
        "print(sub)"
      ]
    },
    {
      "cell_type": "code",
      "execution_count": null,
      "metadata": {},
      "outputs": [
        {
          "name": "stdout",
          "output_type": "stream",
          "text": [
            "['l', 'o', 'o', 'o', 'd', 'u', 'l', 'o', 'o', 'u', 'o', 'd', 'u', 'l', 'o', 'd', 'u', 'l']\n",
            "['0', '8', '2', '0', '2', '3']\n"
          ]
        }
      ],
      "source": [
        "txt=\"welcome to The re module or concept 08 Aug 2023 module module\"\n",
        "search1=re.findall(\"[lodu]\",txt)\n",
        "print(search1)\n",
        "\n",
        "search2=re.findall(\"\\d\",txt)\n",
        "print(search2)"
      ]
    },
    {
      "cell_type": "markdown",
      "metadata": {},
      "source": [
        "NUMPY"
      ]
    },
    {
      "cell_type": "code",
      "execution_count": null,
      "metadata": {},
      "outputs": [],
      "source": [
        "import numpy as np"
      ]
    },
    {
      "cell_type": "code",
      "execution_count": null,
      "metadata": {},
      "outputs": [
        {
          "name": "stdout",
          "output_type": "stream",
          "text": [
            "[1 2 3 4 5 6]\n",
            "6\n"
          ]
        }
      ],
      "source": [
        "a=np.array([1,2,3,4,5,6])\n",
        "print(a)\n",
        "print(a[-1])"
      ]
    },
    {
      "cell_type": "code",
      "execution_count": null,
      "metadata": {},
      "outputs": [
        {
          "name": "stdout",
          "output_type": "stream",
          "text": [
            "[87 43  5 54 62 88 19 71 89  3]\n"
          ]
        }
      ],
      "source": [
        "rand=np.random.RandomState(32)\n",
        "x=rand.randint(100,size=10)\n",
        "print(x)"
      ]
    },
    {
      "cell_type": "code",
      "execution_count": null,
      "metadata": {},
      "outputs": [
        {
          "name": "stdout",
          "output_type": "stream",
          "text": [
            "[43 54 88 71]\n"
          ]
        }
      ],
      "source": [
        "ind=[1,3,5,7]\n",
        "print(x[ind])"
      ]
    },
    {
      "cell_type": "code",
      "execution_count": null,
      "metadata": {},
      "outputs": [
        {
          "name": "stdout",
          "output_type": "stream",
          "text": [
            "[[3 7 2]\n",
            " [4 5 1]]\n",
            "\n",
            "\n",
            "[[54 71  5]\n",
            " [62 88 43]]\n"
          ]
        }
      ],
      "source": [
        "ind = np.array([[3,7,2],[4,5,1]])\n",
        "\n",
        "print(ind)\n",
        "print(\"\\n\")\n",
        "print(x[ind])"
      ]
    },
    {
      "cell_type": "code",
      "execution_count": null,
      "metadata": {},
      "outputs": [
        {
          "name": "stdout",
          "output_type": "stream",
          "text": [
            "[[1 2]\n",
            " [5 6]\n",
            " [7 9]]\n"
          ]
        }
      ],
      "source": [
        "a=np.array([[1,2],[5,6],[7,9]])\n",
        "print(a)"
      ]
    },
    {
      "cell_type": "code",
      "execution_count": null,
      "metadata": {},
      "outputs": [
        {
          "name": "stdout",
          "output_type": "stream",
          "text": [
            "[[1 2 5]\n",
            " [6 7 9]]\n"
          ]
        }
      ],
      "source": [
        "a=a.reshape(2,3)\n",
        "print(a)"
      ]
    },
    {
      "cell_type": "code",
      "execution_count": null,
      "metadata": {},
      "outputs": [
        {
          "name": "stdout",
          "output_type": "stream",
          "text": [
            "[[ 0  1  2  3]\n",
            " [ 4  5  6  7]\n",
            " [ 8  9 10 11]]\n"
          ]
        }
      ],
      "source": [
        "a=np.arange(12).reshape((3,4))\n",
        "print(a)\n"
      ]
    },
    {
      "cell_type": "markdown",
      "metadata": {},
      "source": [
        "Combined Indexing"
      ]
    },
    {
      "cell_type": "code",
      "execution_count": null,
      "metadata": {},
      "outputs": [
        {
          "data": {
            "text/plain": [
              "array([4, 5, 6, 7])"
            ]
          },
          "execution_count": 17,
          "metadata": {},
          "output_type": "execute_result"
        }
      ],
      "source": [
        "a[1, [0,1,2,3]] # show the whole row 1 and columns 0,1,2,3"
      ]
    },
    {
      "cell_type": "code",
      "execution_count": null,
      "metadata": {},
      "outputs": [
        {
          "name": "stdout",
          "output_type": "stream",
          "text": [
            "\n",
            "Minimum from the whole array :  0\n",
            "\n",
            "Maximum from the whole array :  11\n",
            "\n",
            "Minimum for column :  [0 1 2 3]\n",
            "\n",
            "Minimum for row :  [0 4 8]\n",
            "\n",
            "Maximum for column :  [ 8  9 10 11]\n",
            "\n",
            "Maximum for row :  [ 3  7 11]\n",
            "\n",
            "Standard Deviation :  3.452052529534663\n",
            "\n",
            "Square Root : \n",
            "\n",
            " [[0.         1.         1.41421356 1.73205081]\n",
            " [2.         2.23606798 2.44948974 2.64575131]\n",
            " [2.82842712 3.         3.16227766 3.31662479]]\n",
            "\n",
            "Sum of the array :  66\n",
            "\n",
            "Sum of the array for column :  [12 15 18 21]\n",
            "\n",
            "Sum of the array for row :  [ 6 22 38]\n"
          ]
        }
      ],
      "source": [
        "print(\"\\nMinimum from the whole array : \",a.min())\n",
        "print(\"\\nMaximum from the whole array : \",a.max())\n",
        "print(\"\\nMinimum for column : \",a.min(axis=0))\n",
        "print(\"\\nMinimum for row : \",a.min(axis=1))\n",
        "print(\"\\nMaximum for column : \",a.max(axis=0))\n",
        "print(\"\\nMaximum for row : \",a.max(axis=1))\n",
        "print(\"\\nStandard Deviation : \",np.std(a))\n",
        "print(\"\\nSquare Root : \\n\\n\",np.sqrt(a))\n",
        "print(\"\\nSum of the array : \",a.sum())\n",
        "print(\"\\nSum of the array for column : \",a.sum(axis=0))\n",
        "print(\"\\nSum of the array for row : \",a.sum(axis=1))"
      ]
    },
    {
      "cell_type": "code",
      "execution_count": null,
      "metadata": {},
      "outputs": [
        {
          "name": "stdout",
          "output_type": "stream",
          "text": [
            "\n",
            "Addition of A and B : \n",
            "\n",
            " [[12 24 36]\n",
            " [20 22 24]]\n",
            "\n",
            "Multiplication of A and B : \n",
            "\n",
            " [[ 11  44  99]\n",
            " [100 121 144]]\n",
            "\n",
            "Division of A and B : \n",
            "\n",
            " [[0.09090909 0.09090909 0.09090909]\n",
            " [1.         1.         1.        ]]\n",
            "\n",
            "Multiplication of A by 3 : \n",
            "\n",
            " [[ 3  6  9]\n",
            " [30 33 36]]\n"
          ]
        }
      ],
      "source": [
        "a=np.array([[1,2,3],[10,11,12]])\n",
        "b=np.array([[11,22,33],[10,11,12]])\n",
        "\n",
        "print(\"\\nAddition of A and B : \\n\\n\",a+b)\n",
        "print(\"\\nMultiplication of A and B : \\n\\n\",a*b)\n",
        "print(\"\\nDivision of A and B : \\n\\n\",a/b)\n",
        "print(\"\\nMultiplication of A by 3 : \\n\\n\",a*3)"
      ]
    },
    {
      "cell_type": "markdown",
      "metadata": {},
      "source": [
        "Pandas"
      ]
    },
    {
      "cell_type": "code",
      "execution_count": null,
      "metadata": {},
      "outputs": [
        {
          "name": "stdout",
          "output_type": "stream",
          "text": [
            "\n",
            " [0.25 0.5  0.75 1.  ]\n",
            "\n",
            " RangeIndex(start=0, stop=4, step=1)\n",
            "\n",
            "[1] :  0.5\n",
            "\n",
            "[1] : [3]\n",
            "\n",
            "1    0.50\n",
            "2    0.75\n",
            "dtype: float64\n",
            "\n",
            "\n",
            "0    0.25\n",
            "1    0.50\n",
            "2    0.75\n",
            "3    1.00\n",
            "dtype: float64\n"
          ]
        }
      ],
      "source": [
        "data=pd.Series([0.25,0.5,0.75,1.0])\n",
        "\n",
        "print(\"\\n\",data.values)\n",
        "print(\"\\n\",data.index)\n",
        "print(\"\\n[1] : \",data[1])\n",
        "print(\"\\n[1] : [3]\\n\")\n",
        "print(data[1:3])\n",
        "print(\"\\n\")\n",
        "print(data)"
      ]
    },
    {
      "cell_type": "code",
      "execution_count": null,
      "metadata": {},
      "outputs": [
        {
          "name": "stdout",
          "output_type": "stream",
          "text": [
            "a    0.25\n",
            "b    0.50\n",
            "c    0.75\n",
            "d    1.00\n",
            "dtype: float64\n",
            "\n",
            "0.5\n",
            "\n",
            "2    0.25\n",
            "5    0.50\n",
            "3    0.75\n",
            "7    1.00\n",
            "dtype: float64\n",
            "\n",
            "0.5\n",
            "\n"
          ]
        }
      ],
      "source": [
        "data=pd.Series([0.25,0.5,0.75,1.0],index=['a','b','c','d'])\n",
        "\n",
        "print(data)\n",
        "print()\n",
        "\n",
        "print(data['b'])\n",
        "print()\n",
        "\n",
        "data=pd.Series([0.25,0.5,0.75,1.0],index=[2,5,3,7])\n",
        "\n",
        "print(data)\n",
        "print()\n",
        "\n",
        "print(data[5])\n",
        "print()\n",
        "\n",
        "# print(data[0])"
      ]
    },
    {
      "cell_type": "markdown",
      "metadata": {},
      "source": [
        "Dataframe"
      ]
    },
    {
      "cell_type": "markdown",
      "metadata": {},
      "source": [
        "Using List"
      ]
    },
    {
      "cell_type": "code",
      "execution_count": null,
      "metadata": {},
      "outputs": [
        {
          "data": {
            "text/html": [
              "<div>\n",
              "<style scoped>\n",
              "    .dataframe tbody tr th:only-of-type {\n",
              "        vertical-align: middle;\n",
              "    }\n",
              "\n",
              "    .dataframe tbody tr th {\n",
              "        vertical-align: top;\n",
              "    }\n",
              "\n",
              "    .dataframe thead th {\n",
              "        text-align: right;\n",
              "    }\n",
              "</style>\n",
              "<table border=\"1\" class=\"dataframe\">\n",
              "  <thead>\n",
              "    <tr style=\"text-align: right;\">\n",
              "      <th></th>\n",
              "      <th>Population</th>\n",
              "      <th>Area (sq Km)</th>\n",
              "    </tr>\n",
              "  </thead>\n",
              "  <tbody>\n",
              "    <tr>\n",
              "      <th>California</th>\n",
              "      <td>38332521</td>\n",
              "      <td>423967</td>\n",
              "    </tr>\n",
              "    <tr>\n",
              "      <th>Texas</th>\n",
              "      <td>26448193</td>\n",
              "      <td>695662</td>\n",
              "    </tr>\n",
              "    <tr>\n",
              "      <th>New York</th>\n",
              "      <td>19651127</td>\n",
              "      <td>141297</td>\n",
              "    </tr>\n",
              "  </tbody>\n",
              "</table>\n",
              "</div>"
            ],
            "text/plain": [
              "            Population  Area (sq Km)\n",
              "California    38332521        423967\n",
              "Texas         26448193        695662\n",
              "New York      19651127        141297"
            ]
          },
          "execution_count": 26,
          "metadata": {},
          "output_type": "execute_result"
        }
      ],
      "source": [
        "city1=[38332521,423967]\n",
        "city2=[26448193,695662]\n",
        "city3=[19651127,141297]\n",
        "pd.DataFrame([city1,city2,city3],index=[\"California\",\"Texas\",\"New York\"],columns=[\"Population\",\"Area (sq Km)\"])"
      ]
    },
    {
      "cell_type": "code",
      "execution_count": null,
      "metadata": {},
      "outputs": [
        {
          "data": {
            "text/html": [
              "<div>\n",
              "<style scoped>\n",
              "    .dataframe tbody tr th:only-of-type {\n",
              "        vertical-align: middle;\n",
              "    }\n",
              "\n",
              "    .dataframe tbody tr th {\n",
              "        vertical-align: top;\n",
              "    }\n",
              "\n",
              "    .dataframe thead th {\n",
              "        text-align: right;\n",
              "    }\n",
              "</style>\n",
              "<table border=\"1\" class=\"dataframe\">\n",
              "  <thead>\n",
              "    <tr style=\"text-align: right;\">\n",
              "      <th></th>\n",
              "      <th>Color</th>\n",
              "      <th>Count</th>\n",
              "    </tr>\n",
              "  </thead>\n",
              "  <tbody>\n",
              "    <tr>\n",
              "      <th>Mango</th>\n",
              "      <td>Yellow</td>\n",
              "      <td>50</td>\n",
              "    </tr>\n",
              "    <tr>\n",
              "      <th>Apple</th>\n",
              "      <td>Red</td>\n",
              "      <td>25</td>\n",
              "    </tr>\n",
              "    <tr>\n",
              "      <th>Orange</th>\n",
              "      <td>Orange</td>\n",
              "      <td>90</td>\n",
              "    </tr>\n",
              "  </tbody>\n",
              "</table>\n",
              "</div>"
            ],
            "text/plain": [
              "         Color  Count\n",
              "Mango   Yellow     50\n",
              "Apple      Red     25\n",
              "Orange  Orange     90"
            ]
          },
          "execution_count": 28,
          "metadata": {},
          "output_type": "execute_result"
        }
      ],
      "source": [
        "fruit1=[\"Yellow\",50]\n",
        "fruit2=[\"Red\",25]\n",
        "fruit3=[\"Orange\",90]\n",
        "pd.DataFrame([fruit1,fruit2,fruit3],index=[\"Mango\",\"Apple\",\"Orange\"],columns=[\"Color\",\"Count\"])"
      ]
    },
    {
      "cell_type": "markdown",
      "metadata": {},
      "source": [
        "Using Dict"
      ]
    },
    {
      "cell_type": "code",
      "execution_count": null,
      "metadata": {},
      "outputs": [
        {
          "name": "stdout",
          "output_type": "stream",
          "text": [
            "            Population    Area\n",
            "California    38332521  423967\n",
            "Texas         26448193  695662\n",
            "New York      19651127  141297\n",
            "Florida       19552860  170312\n",
            "Illinois      12882135  149995\n",
            "\n",
            "\n",
            "Dataframe Row Names : \n",
            " Index(['California', 'Texas', 'New York', 'Florida', 'Illinois'], dtype='object')\n",
            "\n",
            "Dataframe Columns Names : \n",
            " Index(['Population', 'Area'], dtype='object')\n"
          ]
        }
      ],
      "source": [
        "populationDictinonary={'California':38332521,\n",
        "                       'Texas':26448193,\n",
        "                       'New York':19651127,\n",
        "                       'Florida':19552860,\n",
        "                       'Illinois':12882135}\n",
        "\n",
        "areaDictinonary={'California':423967,\n",
        "                       'Texas':695662,\n",
        "                       'New York':141297,\n",
        "                       'Florida':170312,\n",
        "                       'Illinois':149995}\n",
        "\n",
        "states = pd.DataFrame({'Population':populationDictinonary,'Area':areaDictinonary})\n",
        "\n",
        "print(states)\n",
        "print()\n",
        "print(\"\\nDataframe Row Names : \\n\",states.index)\n",
        "print(\"\\nDataframe Columns Names : \\n\",states.columns)"
      ]
    },
    {
      "cell_type": "code",
      "execution_count": null,
      "metadata": {},
      "outputs": [
        {
          "name": "stdout",
          "output_type": "stream",
          "text": [
            "       Name         City  Age  Py-Score\n",
            "101  Xavier  Mexico City   41      88.0\n",
            "102     Ann      Toronto   28      79.0\n",
            "103    Jana       Prague   33      81.0\n",
            "104      Yi     Shanghai   34      80.0\n",
            "105   Robin   Manchester   38      68.0\n",
            "106    Amal        Cairo   31      61.0\n",
            "107    Nori        Osaka   37      84.0\n",
            "\n",
            "Name          Jana\n",
            "City        Prague\n",
            "Age             33\n",
            "Py-Score      81.0\n",
            "Name: 103, dtype: object\n",
            "\n",
            "101    Xavier\n",
            "102       Ann\n",
            "103      Jana\n",
            "104        Yi\n",
            "105     Robin\n",
            "106      Amal\n",
            "107      Nori\n",
            "Name: Name, dtype: object\n"
          ]
        }
      ],
      "source": [
        "nameDictinonary={101:\"Xavier\",\n",
        "                 102:\"Ann\",\n",
        "                 103:\"Jana\",\n",
        "                 104:\"Yi\",\n",
        "                 105:\"Robin\",\n",
        "                 106:\"Amal\",\n",
        "                 107:\"Nori\"}\n",
        "\n",
        "cityDictinonary={101:\"Mexico City\",\n",
        "                 102:\"Toronto\",\n",
        "                 103:\"Prague\",\n",
        "                 104:\"Shanghai\",\n",
        "                 105:\"Manchester\",\n",
        "                 106:\"Cairo\",\n",
        "                 107:\"Osaka\"}\n",
        "\n",
        "ageDictinonary={101:41,\n",
        "                102:28,\n",
        "                103:33,\n",
        "                104:34,\n",
        "                105:38,\n",
        "                106:31,\n",
        "                107:37}\n",
        "\n",
        "pyScoreDictinonary={101:88.0,\n",
        "                    102:79.0,\n",
        "                    103:81.0,\n",
        "                    104:80.0,\n",
        "                    105:68.0,\n",
        "                    106:61.0,\n",
        "                    107:84.0}\n",
        "\n",
        "student = pd.DataFrame({'Name':nameDictinonary,'City':cityDictinonary,'Age':ageDictinonary,'Py-Score':pyScoreDictinonary})\n",
        "\n",
        "print(student)\n",
        "print()\n",
        "#Accessing Row wise\n",
        "print(student.loc[103])\n",
        "print()\n",
        "#Accessing Column wise\n",
        "print(student.Name)"
      ]
    },
    {
      "cell_type": "markdown",
      "metadata": {},
      "source": [
        "Hierarchical Indexing"
      ]
    },
    {
      "cell_type": "code",
      "execution_count": null,
      "metadata": {},
      "outputs": [
        {
          "data": {
            "text/plain": [
              "(California, 2000)    38332521\n",
              "(California, 2010)    37253956\n",
              "(New York, 2000)      19651127\n",
              "(New York, 2010)      19378102\n",
              "(Texas, 2000)         26448193\n",
              "(Texas, 2010)         25145561\n",
              "dtype: int64"
            ]
          },
          "execution_count": 21,
          "metadata": {},
          "output_type": "execute_result"
        }
      ],
      "source": [
        "hindex=[('California',2000),('California',2010),\n",
        "       ('New York',2000),('New York',2010),\n",
        "       ('Texas',2000),('Texas',2010)]\n",
        "\n",
        "population=[38332521,37253956,\n",
        "            19651127,19378102,\n",
        "            26448193,25145561]\n",
        "\n",
        "pop=pd.Series(population,index=hindex)\n",
        "pop"
      ]
    },
    {
      "cell_type": "code",
      "execution_count": null,
      "metadata": {},
      "outputs": [
        {
          "data": {
            "text/plain": [
              "(California, 2010)    37253956\n",
              "(New York, 2010)      19378102\n",
              "(Texas, 2010)         25145561\n",
              "dtype: int64"
            ]
          },
          "execution_count": 22,
          "metadata": {},
          "output_type": "execute_result"
        }
      ],
      "source": [
        "pop[[i for i in pop.index if i[1]==2010]]"
      ]
    },
    {
      "cell_type": "code",
      "execution_count": null,
      "metadata": {},
      "outputs": [
        {
          "data": {
            "text/plain": [
              "MultiIndex([('California', 2000),\n",
              "            ('California', 2010),\n",
              "            (  'New York', 2000),\n",
              "            (  'New York', 2010),\n",
              "            (     'Texas', 2000),\n",
              "            (     'Texas', 2010)],\n",
              "           )"
            ]
          },
          "execution_count": 23,
          "metadata": {},
          "output_type": "execute_result"
        }
      ],
      "source": [
        "#pandas multiindex\n",
        "index=pd.MultiIndex.from_tuples(hindex)\n",
        "index"
      ]
    },
    {
      "cell_type": "code",
      "execution_count": null,
      "metadata": {},
      "outputs": [
        {
          "name": "stdout",
          "output_type": "stream",
          "text": [
            "nan\n",
            "nan nan nan\n",
            "0    1.0\n",
            "2    2.0\n",
            "3    3.0\n",
            "4    4.0\n",
            "dtype: float64\n",
            "0    False\n",
            "1     True\n",
            "2    False\n",
            "3    False\n",
            "4    False\n",
            "dtype: bool\n",
            "0     True\n",
            "1    False\n",
            "2     True\n",
            "3     True\n",
            "4     True\n",
            "dtype: bool\n",
            "0     1.0\n",
            "1    10.0\n",
            "2     2.0\n",
            "3     3.0\n",
            "4     4.0\n",
            "dtype: float64\n",
            "\n",
            "Forward Fill\n",
            "0    1.0\n",
            "1    1.0\n",
            "2    2.0\n",
            "3    3.0\n",
            "4    4.0\n",
            "dtype: float64\n",
            "\n",
            "Forward Fill\n",
            "0    1.0\n",
            "1    2.0\n",
            "2    2.0\n",
            "3    3.0\n",
            "4    4.0\n",
            "dtype: float64\n"
          ]
        }
      ],
      "source": [
        "print(1+np.nan)\n",
        "\n",
        "vals2=np.array([1,np.nan,2,3,4])\n",
        "print(vals2.sum(),vals2.max(),vals2.min())\n",
        "\n",
        "pdvals2=pd.Series(vals2)\n",
        "print(pdvals2.dropna())\n",
        "print(pdvals2.isnull())\n",
        "print(pdvals2.notnull())\n",
        "print(pdvals2.fillna(10))\n",
        "print()\n",
        "print(\"Forward Fill\")\n",
        "print(pdvals2.fillna(method='ffill'))\n",
        "print()\n",
        "print(\"Forward Fill\")\n",
        "print(pdvals2.fillna(method='bfill'))"
      ]
    },
    {
      "cell_type": "code",
      "execution_count": null,
      "metadata": {},
      "outputs": [
        {
          "name": "stdout",
          "output_type": "stream",
          "text": [
            "   order               name  height(cm)\n",
            "0      1  George Washington       189.0\n",
            "1      2         John Adams       170.0\n",
            "2      3   Thomas Jefferson         NaN\n",
            "3      4      James Madison       163.0\n",
            "4      5       James Monroe       183.0\n"
          ]
        }
      ],
      "source": [
        "missdata=pd.read_csv(\"president_heights_missing.csv\")\n",
        "print(missdata.head(5))"
      ]
    },
    {
      "cell_type": "code",
      "execution_count": null,
      "metadata": {},
      "outputs": [
        {
          "name": "stdout",
          "output_type": "stream",
          "text": [
            "order         0\n",
            "name          0\n",
            "height(cm)    5\n",
            "dtype: int64\n"
          ]
        }
      ],
      "source": [
        "print(missdata.isna().sum())"
      ]
    },
    {
      "cell_type": "code",
      "execution_count": null,
      "metadata": {},
      "outputs": [
        {
          "name": "stdout",
          "output_type": "stream",
          "text": [
            "179.6216216216216\n"
          ]
        }
      ],
      "source": [
        "mean_value=missdata['height(cm)'].mean()\n",
        "print(mean_value)\n",
        "missdata['height(cm)'].fillna(value=mean_value, inplace=True)"
      ]
    },
    {
      "cell_type": "code",
      "execution_count": null,
      "metadata": {},
      "outputs": [
        {
          "name": "stdout",
          "output_type": "stream",
          "text": [
            "order         0\n",
            "name          0\n",
            "height(cm)    0\n",
            "dtype: int64\n"
          ]
        }
      ],
      "source": [
        "print(missdata.isna().sum())"
      ]
    },
    {
      "cell_type": "code",
      "execution_count": null,
      "metadata": {},
      "outputs": [],
      "source": [
        "mortality=pd.read_csv(\"Q8_MortalityDataset.csv\")"
      ]
    },
    {
      "cell_type": "code",
      "execution_count": null,
      "metadata": {},
      "outputs": [
        {
          "data": {
            "text/html": [
              "<div>\n",
              "<style scoped>\n",
              "    .dataframe tbody tr th:only-of-type {\n",
              "        vertical-align: middle;\n",
              "    }\n",
              "\n",
              "    .dataframe tbody tr th {\n",
              "        vertical-align: top;\n",
              "    }\n",
              "\n",
              "    .dataframe thead th {\n",
              "        text-align: right;\n",
              "    }\n",
              "</style>\n",
              "<table border=\"1\" class=\"dataframe\">\n",
              "  <thead>\n",
              "    <tr style=\"text-align: right;\">\n",
              "      <th></th>\n",
              "      <th>AGE</th>\n",
              "      <th>HEIGHT</th>\n",
              "      <th>WEIGHT</th>\n",
              "      <th>CHOL</th>\n",
              "      <th>SMOKE</th>\n",
              "      <th>BLOOD</th>\n",
              "      <th>MORT</th>\n",
              "    </tr>\n",
              "  </thead>\n",
              "  <tbody>\n",
              "    <tr>\n",
              "      <th>0</th>\n",
              "      <td>20</td>\n",
              "      <td>176</td>\n",
              "      <td>77</td>\n",
              "      <td>195</td>\n",
              "      <td>nonsmo</td>\n",
              "      <td>b</td>\n",
              "      <td>alive</td>\n",
              "    </tr>\n",
              "    <tr>\n",
              "      <th>1</th>\n",
              "      <td>53</td>\n",
              "      <td>167</td>\n",
              "      <td>56</td>\n",
              "      <td>250</td>\n",
              "      <td>sigare</td>\n",
              "      <td>o</td>\n",
              "      <td>dead</td>\n",
              "    </tr>\n",
              "    <tr>\n",
              "      <th>2</th>\n",
              "      <td>44</td>\n",
              "      <td>170</td>\n",
              "      <td>80</td>\n",
              "      <td>304</td>\n",
              "      <td>sigare</td>\n",
              "      <td>a</td>\n",
              "      <td>dead</td>\n",
              "    </tr>\n",
              "    <tr>\n",
              "      <th>3</th>\n",
              "      <td>37</td>\n",
              "      <td>173</td>\n",
              "      <td>89</td>\n",
              "      <td>178</td>\n",
              "      <td>nonsmo</td>\n",
              "      <td>o</td>\n",
              "      <td>alive</td>\n",
              "    </tr>\n",
              "    <tr>\n",
              "      <th>4</th>\n",
              "      <td>26</td>\n",
              "      <td>170</td>\n",
              "      <td>71</td>\n",
              "      <td>206</td>\n",
              "      <td>sigare</td>\n",
              "      <td>o</td>\n",
              "      <td>alive</td>\n",
              "    </tr>\n",
              "    <tr>\n",
              "      <th>5</th>\n",
              "      <td>41</td>\n",
              "      <td>165</td>\n",
              "      <td>62</td>\n",
              "      <td>284</td>\n",
              "      <td>sigare</td>\n",
              "      <td>o</td>\n",
              "      <td>alive</td>\n",
              "    </tr>\n",
              "    <tr>\n",
              "      <th>6</th>\n",
              "      <td>39</td>\n",
              "      <td>174</td>\n",
              "      <td>75</td>\n",
              "      <td>232</td>\n",
              "      <td>sigare</td>\n",
              "      <td>o</td>\n",
              "      <td>alive</td>\n",
              "    </tr>\n",
              "    <tr>\n",
              "      <th>7</th>\n",
              "      <td>28</td>\n",
              "      <td>171</td>\n",
              "      <td>68</td>\n",
              "      <td>152</td>\n",
              "      <td>pipe</td>\n",
              "      <td>a</td>\n",
              "      <td>alive</td>\n",
              "    </tr>\n",
              "    <tr>\n",
              "      <th>8</th>\n",
              "      <td>33</td>\n",
              "      <td>180</td>\n",
              "      <td>100</td>\n",
              "      <td>209</td>\n",
              "      <td>sigare</td>\n",
              "      <td>a</td>\n",
              "      <td>alive</td>\n",
              "    </tr>\n",
              "    <tr>\n",
              "      <th>9</th>\n",
              "      <td>39</td>\n",
              "      <td>166</td>\n",
              "      <td>74</td>\n",
              "      <td>150</td>\n",
              "      <td>sigare</td>\n",
              "      <td>a</td>\n",
              "      <td>alive</td>\n",
              "    </tr>\n",
              "  </tbody>\n",
              "</table>\n",
              "</div>"
            ],
            "text/plain": [
              "   AGE  HEIGHT  WEIGHT  CHOL   SMOKE BLOOD   MORT\n",
              "0   20     176      77   195  nonsmo     b  alive\n",
              "1   53     167      56   250  sigare     o   dead\n",
              "2   44     170      80   304  sigare     a   dead\n",
              "3   37     173      89   178  nonsmo     o  alive\n",
              "4   26     170      71   206  sigare     o  alive\n",
              "5   41     165      62   284  sigare     o  alive\n",
              "6   39     174      75   232  sigare     o  alive\n",
              "7   28     171      68   152    pipe     a  alive\n",
              "8   33     180     100   209  sigare     a  alive\n",
              "9   39     166      74   150  sigare     a  alive"
            ]
          },
          "execution_count": 10,
          "metadata": {},
          "output_type": "execute_result"
        }
      ],
      "source": [
        "mortality.head(10)"
      ]
    },
    {
      "cell_type": "code",
      "execution_count": null,
      "metadata": {},
      "outputs": [
        {
          "data": {
            "text/plain": [
              "(200, 7)"
            ]
          },
          "execution_count": 16,
          "metadata": {},
          "output_type": "execute_result"
        }
      ],
      "source": [
        "mortality.shape"
      ]
    },
    {
      "cell_type": "code",
      "execution_count": null,
      "metadata": {},
      "outputs": [],
      "source": [
        "describe_result=mortality.describe()"
      ]
    },
    {
      "cell_type": "code",
      "execution_count": null,
      "metadata": {},
      "outputs": [
        {
          "data": {
            "text/plain": [
              "array(['nonsmo', 'sigare', 'pipe'], dtype=object)"
            ]
          },
          "execution_count": 12,
          "metadata": {},
          "output_type": "execute_result"
        }
      ],
      "source": [
        "mortality['SMOKE'].unique()"
      ]
    },
    {
      "cell_type": "code",
      "execution_count": null,
      "metadata": {},
      "outputs": [
        {
          "data": {
            "text/plain": [
              "array(['b', 'o', 'a', 'ab'], dtype=object)"
            ]
          },
          "execution_count": 13,
          "metadata": {},
          "output_type": "execute_result"
        }
      ],
      "source": [
        "mortality['BLOOD'].unique()"
      ]
    },
    {
      "cell_type": "code",
      "execution_count": null,
      "metadata": {},
      "outputs": [],
      "source": [
        "meanWeight=mortality['WEIGHT'].mean()\n",
        "meanHeight=mortality['HEIGHT'].mean()\n",
        "meanAge=mortality['AGE'].mean()"
      ]
    },
    {
      "cell_type": "code",
      "execution_count": null,
      "metadata": {},
      "outputs": [
        {
          "ename": "NameError",
          "evalue": "name 'describe_result' is not defined",
          "output_type": "error",
          "traceback": [
            "\u001b[1;31m---------------------------------------------------------------------------\u001b[0m",
            "\u001b[1;31mNameError\u001b[0m                                 Traceback (most recent call last)",
            "\u001b[1;32mc:\\Users\\ASUS\\OneDrive\\Desktop\\CHRIST\\MCA\\Sem1\\Python\\RegularClass.ipynb Cell 77\u001b[0m in \u001b[0;36m<cell line: 2>\u001b[1;34m()\u001b[0m\n\u001b[0;32m      <a href='vscode-notebook-cell:/c%3A/Users/ASUS/OneDrive/Desktop/CHRIST/MCA/Sem1/Python/RegularClass.ipynb#Y136sZmlsZQ%3D%3D?line=0'>1</a>\u001b[0m \u001b[39mimport\u001b[39;00m \u001b[39mmatplotlib\u001b[39;00m\u001b[39m.\u001b[39;00m\u001b[39mpyplot\u001b[39;00m \u001b[39mas\u001b[39;00m \u001b[39mplt\u001b[39;00m\n\u001b[1;32m----> <a href='vscode-notebook-cell:/c%3A/Users/ASUS/OneDrive/Desktop/CHRIST/MCA/Sem1/Python/RegularClass.ipynb#Y136sZmlsZQ%3D%3D?line=1'>2</a>\u001b[0m std_values \u001b[39m=\u001b[39m describe_result\u001b[39m.\u001b[39mloc[\u001b[39m'\u001b[39m\u001b[39mstd\u001b[39m\u001b[39m'\u001b[39m]\n\u001b[0;32m      <a href='vscode-notebook-cell:/c%3A/Users/ASUS/OneDrive/Desktop/CHRIST/MCA/Sem1/Python/RegularClass.ipynb#Y136sZmlsZQ%3D%3D?line=3'>4</a>\u001b[0m \u001b[39m# Create a bar graph for standard deviation\u001b[39;00m\n\u001b[0;32m      <a href='vscode-notebook-cell:/c%3A/Users/ASUS/OneDrive/Desktop/CHRIST/MCA/Sem1/Python/RegularClass.ipynb#Y136sZmlsZQ%3D%3D?line=4'>5</a>\u001b[0m plt\u001b[39m.\u001b[39mfigure(figsize\u001b[39m=\u001b[39m(\u001b[39m10\u001b[39m, \u001b[39m6\u001b[39m))\n",
            "\u001b[1;31mNameError\u001b[0m: name 'describe_result' is not defined"
          ]
        }
      ],
      "source": [
        "std_values = describe_result.loc['std']\n",
        "\n",
        "# Create a bar graph for standard deviation\n",
        "plt.figure(figsize=(10, 6))\n",
        "std_values.plot(kind='bar', color='blue', alpha=0.7)\n",
        "plt.title('Standard Deviation for Numeric Columns')\n",
        "plt.xlabel('Columns')\n",
        "plt.ylabel('Standard Deviation')\n",
        "plt.xticks(rotation=45)\n",
        "plt.grid(axis='y', linestyle='--', alpha=0.7)\n",
        "\n",
        "# Show the graph\n",
        "plt.tight_layout()\n",
        "plt.show()"
      ]
    },
    {
      "cell_type": "code",
      "execution_count": null,
      "metadata": {},
      "outputs": [
        {
          "name": "stdout",
          "output_type": "stream",
          "text": [
            "AGE          40\n",
            "HEIGHT      181\n",
            "WEIGHT       86\n",
            "CHOL        193\n",
            "SMOKE      pipe\n",
            "BLOOD         o\n",
            "MORT      alive\n",
            "Name: 23, dtype: object\n"
          ]
        }
      ],
      "source": [
        "Iloc=mortality.iloc[23]\n",
        "print(Iloc)"
      ]
    },
    {
      "cell_type": "code",
      "execution_count": null,
      "metadata": {},
      "outputs": [
        {
          "name": "stdout",
          "output_type": "stream",
          "text": [
            "   HEIGHT  WEIGHT  CHOL   SMOKE BLOOD\n",
            "1     167      56   250  sigare     o\n",
            "2     170      80   304  sigare     a\n",
            "3     173      89   178  nonsmo     o\n",
            "4     170      71   206  sigare     o\n",
            "5     165      62   284  sigare     o\n",
            "6     174      75   232  sigare     o\n",
            "7     171      68   152    pipe     a\n"
          ]
        }
      ],
      "source": [
        "IlocRange=mortality.iloc[1:8,1:6]\n",
        "print(IlocRange)"
      ]
    },
    {
      "cell_type": "code",
      "execution_count": null,
      "metadata": {},
      "outputs": [
        {
          "name": "stdout",
          "output_type": "stream",
          "text": [
            "   AGE  HEIGHT  WEIGHT  CHOL   SMOKE BLOOD   MORT\n",
            "0   20     176      77   195  nonsmo     b  alive\n",
            "1   53     167      56   250  sigare     o   dead\n"
          ]
        }
      ],
      "source": [
        "IlocList=mortality.iloc[[0,1]]\n",
        "print(IlocList)"
      ]
    },
    {
      "cell_type": "code",
      "execution_count": null,
      "metadata": {},
      "outputs": [
        {
          "data": {
            "text/html": [
              "<div>\n",
              "<style scoped>\n",
              "    .dataframe tbody tr th:only-of-type {\n",
              "        vertical-align: middle;\n",
              "    }\n",
              "\n",
              "    .dataframe tbody tr th {\n",
              "        vertical-align: top;\n",
              "    }\n",
              "\n",
              "    .dataframe thead th {\n",
              "        text-align: right;\n",
              "    }\n",
              "</style>\n",
              "<table border=\"1\" class=\"dataframe\">\n",
              "  <thead>\n",
              "    <tr style=\"text-align: right;\">\n",
              "      <th></th>\n",
              "      <th></th>\n",
              "      <th></th>\n",
              "      <th>AGE</th>\n",
              "      <th>HEIGHT</th>\n",
              "      <th>WEIGHT</th>\n",
              "      <th>CHOL</th>\n",
              "    </tr>\n",
              "    <tr>\n",
              "      <th>BLOOD</th>\n",
              "      <th>SMOKE</th>\n",
              "      <th>MORT</th>\n",
              "      <th></th>\n",
              "      <th></th>\n",
              "      <th></th>\n",
              "      <th></th>\n",
              "    </tr>\n",
              "  </thead>\n",
              "  <tbody>\n",
              "    <tr>\n",
              "      <th rowspan=\"5\" valign=\"top\">a</th>\n",
              "      <th rowspan=\"2\" valign=\"top\">nonsmo</th>\n",
              "      <th>alive</th>\n",
              "      <td>33.437500</td>\n",
              "      <td>170.375000</td>\n",
              "      <td>73.812500</td>\n",
              "      <td>217.937500</td>\n",
              "    </tr>\n",
              "    <tr>\n",
              "      <th>dead</th>\n",
              "      <td>39.666667</td>\n",
              "      <td>170.333333</td>\n",
              "      <td>73.666667</td>\n",
              "      <td>212.333333</td>\n",
              "    </tr>\n",
              "    <tr>\n",
              "      <th>pipe</th>\n",
              "      <th>alive</th>\n",
              "      <td>35.176471</td>\n",
              "      <td>173.117647</td>\n",
              "      <td>79.117647</td>\n",
              "      <td>246.764706</td>\n",
              "    </tr>\n",
              "    <tr>\n",
              "      <th rowspan=\"2\" valign=\"top\">sigare</th>\n",
              "      <th>alive</th>\n",
              "      <td>32.972222</td>\n",
              "      <td>173.777778</td>\n",
              "      <td>75.722222</td>\n",
              "      <td>220.777778</td>\n",
              "    </tr>\n",
              "    <tr>\n",
              "      <th>dead</th>\n",
              "      <td>41.200000</td>\n",
              "      <td>173.700000</td>\n",
              "      <td>77.800000</td>\n",
              "      <td>264.900000</td>\n",
              "    </tr>\n",
              "    <tr>\n",
              "      <th rowspan=\"4\" valign=\"top\">ab</th>\n",
              "      <th>nonsmo</th>\n",
              "      <th>alive</th>\n",
              "      <td>38.000000</td>\n",
              "      <td>166.000000</td>\n",
              "      <td>72.500000</td>\n",
              "      <td>252.000000</td>\n",
              "    </tr>\n",
              "    <tr>\n",
              "      <th>pipe</th>\n",
              "      <th>alive</th>\n",
              "      <td>38.000000</td>\n",
              "      <td>167.000000</td>\n",
              "      <td>75.000000</td>\n",
              "      <td>275.000000</td>\n",
              "    </tr>\n",
              "    <tr>\n",
              "      <th rowspan=\"2\" valign=\"top\">sigare</th>\n",
              "      <th>alive</th>\n",
              "      <td>32.000000</td>\n",
              "      <td>180.000000</td>\n",
              "      <td>69.000000</td>\n",
              "      <td>217.000000</td>\n",
              "    </tr>\n",
              "    <tr>\n",
              "      <th>dead</th>\n",
              "      <td>40.000000</td>\n",
              "      <td>164.000000</td>\n",
              "      <td>62.000000</td>\n",
              "      <td>246.000000</td>\n",
              "    </tr>\n",
              "    <tr>\n",
              "      <th rowspan=\"4\" valign=\"top\">b</th>\n",
              "      <th>nonsmo</th>\n",
              "      <th>alive</th>\n",
              "      <td>33.250000</td>\n",
              "      <td>171.000000</td>\n",
              "      <td>77.375000</td>\n",
              "      <td>231.500000</td>\n",
              "    </tr>\n",
              "    <tr>\n",
              "      <th>pipe</th>\n",
              "      <th>alive</th>\n",
              "      <td>36.250000</td>\n",
              "      <td>173.250000</td>\n",
              "      <td>79.250000</td>\n",
              "      <td>224.500000</td>\n",
              "    </tr>\n",
              "    <tr>\n",
              "      <th rowspan=\"2\" valign=\"top\">sigare</th>\n",
              "      <th>alive</th>\n",
              "      <td>42.625000</td>\n",
              "      <td>173.125000</td>\n",
              "      <td>72.375000</td>\n",
              "      <td>242.500000</td>\n",
              "    </tr>\n",
              "    <tr>\n",
              "      <th>dead</th>\n",
              "      <td>44.000000</td>\n",
              "      <td>170.000000</td>\n",
              "      <td>89.500000</td>\n",
              "      <td>258.500000</td>\n",
              "    </tr>\n",
              "    <tr>\n",
              "      <th rowspan=\"6\" valign=\"top\">o</th>\n",
              "      <th rowspan=\"2\" valign=\"top\">nonsmo</th>\n",
              "      <th>alive</th>\n",
              "      <td>35.157895</td>\n",
              "      <td>173.157895</td>\n",
              "      <td>76.736842</td>\n",
              "      <td>231.105263</td>\n",
              "    </tr>\n",
              "    <tr>\n",
              "      <th>dead</th>\n",
              "      <td>36.000000</td>\n",
              "      <td>170.000000</td>\n",
              "      <td>81.000000</td>\n",
              "      <td>190.000000</td>\n",
              "    </tr>\n",
              "    <tr>\n",
              "      <th rowspan=\"2\" valign=\"top\">pipe</th>\n",
              "      <th>alive</th>\n",
              "      <td>34.687500</td>\n",
              "      <td>174.125000</td>\n",
              "      <td>77.500000</td>\n",
              "      <td>232.375000</td>\n",
              "    </tr>\n",
              "    <tr>\n",
              "      <th>dead</th>\n",
              "      <td>43.000000</td>\n",
              "      <td>167.000000</td>\n",
              "      <td>79.250000</td>\n",
              "      <td>274.250000</td>\n",
              "    </tr>\n",
              "    <tr>\n",
              "      <th rowspan=\"2\" valign=\"top\">sigare</th>\n",
              "      <th>alive</th>\n",
              "      <td>35.250000</td>\n",
              "      <td>171.604167</td>\n",
              "      <td>74.208333</td>\n",
              "      <td>233.916667</td>\n",
              "    </tr>\n",
              "    <tr>\n",
              "      <th>dead</th>\n",
              "      <td>47.666667</td>\n",
              "      <td>172.333333</td>\n",
              "      <td>74.333333</td>\n",
              "      <td>243.666667</td>\n",
              "    </tr>\n",
              "  </tbody>\n",
              "</table>\n",
              "</div>"
            ],
            "text/plain": [
              "                          AGE      HEIGHT     WEIGHT        CHOL\n",
              "BLOOD SMOKE  MORT                                               \n",
              "a     nonsmo alive  33.437500  170.375000  73.812500  217.937500\n",
              "             dead   39.666667  170.333333  73.666667  212.333333\n",
              "      pipe   alive  35.176471  173.117647  79.117647  246.764706\n",
              "      sigare alive  32.972222  173.777778  75.722222  220.777778\n",
              "             dead   41.200000  173.700000  77.800000  264.900000\n",
              "ab    nonsmo alive  38.000000  166.000000  72.500000  252.000000\n",
              "      pipe   alive  38.000000  167.000000  75.000000  275.000000\n",
              "      sigare alive  32.000000  180.000000  69.000000  217.000000\n",
              "             dead   40.000000  164.000000  62.000000  246.000000\n",
              "b     nonsmo alive  33.250000  171.000000  77.375000  231.500000\n",
              "      pipe   alive  36.250000  173.250000  79.250000  224.500000\n",
              "      sigare alive  42.625000  173.125000  72.375000  242.500000\n",
              "             dead   44.000000  170.000000  89.500000  258.500000\n",
              "o     nonsmo alive  35.157895  173.157895  76.736842  231.105263\n",
              "             dead   36.000000  170.000000  81.000000  190.000000\n",
              "      pipe   alive  34.687500  174.125000  77.500000  232.375000\n",
              "             dead   43.000000  167.000000  79.250000  274.250000\n",
              "      sigare alive  35.250000  171.604167  74.208333  233.916667\n",
              "             dead   47.666667  172.333333  74.333333  243.666667"
            ]
          },
          "execution_count": 30,
          "metadata": {},
          "output_type": "execute_result"
        }
      ],
      "source": [
        "GroupRec=mortality.groupby(['BLOOD','SMOKE','MORT']).mean()\n",
        "GroupRec"
      ]
    },
    {
      "cell_type": "code",
      "execution_count": null,
      "metadata": {},
      "outputs": [
        {
          "data": {
            "text/plain": [
              "BLOOD  SMOKE   MORT \n",
              "a      nonsmo  alive    16\n",
              "               dead      3\n",
              "       pipe    alive    17\n",
              "       sigare  alive    36\n",
              "               dead     10\n",
              "ab     nonsmo  alive     2\n",
              "       pipe    alive     1\n",
              "       sigare  alive     1\n",
              "               dead      1\n",
              "b      nonsmo  alive     8\n",
              "       pipe    alive     4\n",
              "       sigare  alive     8\n",
              "               dead      2\n",
              "o      nonsmo  alive    19\n",
              "               dead      1\n",
              "       pipe    alive    16\n",
              "               dead      4\n",
              "       sigare  alive    48\n",
              "               dead      3\n",
              "dtype: int64"
            ]
          },
          "execution_count": 31,
          "metadata": {},
          "output_type": "execute_result"
        }
      ],
      "source": [
        "GroupRecSize=mortality.groupby(['BLOOD','SMOKE','MORT']).size()\n",
        "GroupRecSize"
      ]
    },
    {
      "cell_type": "code",
      "execution_count": 7,
      "metadata": {},
      "outputs": [],
      "source": [
        "iris=pd.read_csv('Iris.csv')"
      ]
    },
    {
      "cell_type": "code",
      "execution_count": 8,
      "metadata": {},
      "outputs": [
        {
          "data": {
            "text/html": [
              "<div>\n",
              "<style scoped>\n",
              "    .dataframe tbody tr th:only-of-type {\n",
              "        vertical-align: middle;\n",
              "    }\n",
              "\n",
              "    .dataframe tbody tr th {\n",
              "        vertical-align: top;\n",
              "    }\n",
              "\n",
              "    .dataframe thead th {\n",
              "        text-align: right;\n",
              "    }\n",
              "</style>\n",
              "<table border=\"1\" class=\"dataframe\">\n",
              "  <thead>\n",
              "    <tr style=\"text-align: right;\">\n",
              "      <th></th>\n",
              "      <th>Id</th>\n",
              "      <th>SepalLengthCm</th>\n",
              "      <th>SepalWidthCm</th>\n",
              "      <th>PetalLengthCm</th>\n",
              "      <th>PetalWidthCm</th>\n",
              "    </tr>\n",
              "  </thead>\n",
              "  <tbody>\n",
              "    <tr>\n",
              "      <th>count</th>\n",
              "      <td>150.000000</td>\n",
              "      <td>150.000000</td>\n",
              "      <td>150.000000</td>\n",
              "      <td>150.000000</td>\n",
              "      <td>150.000000</td>\n",
              "    </tr>\n",
              "    <tr>\n",
              "      <th>mean</th>\n",
              "      <td>75.500000</td>\n",
              "      <td>5.843333</td>\n",
              "      <td>3.054000</td>\n",
              "      <td>3.758667</td>\n",
              "      <td>1.198667</td>\n",
              "    </tr>\n",
              "    <tr>\n",
              "      <th>std</th>\n",
              "      <td>43.445368</td>\n",
              "      <td>0.828066</td>\n",
              "      <td>0.433594</td>\n",
              "      <td>1.764420</td>\n",
              "      <td>0.763161</td>\n",
              "    </tr>\n",
              "    <tr>\n",
              "      <th>min</th>\n",
              "      <td>1.000000</td>\n",
              "      <td>4.300000</td>\n",
              "      <td>2.000000</td>\n",
              "      <td>1.000000</td>\n",
              "      <td>0.100000</td>\n",
              "    </tr>\n",
              "    <tr>\n",
              "      <th>25%</th>\n",
              "      <td>38.250000</td>\n",
              "      <td>5.100000</td>\n",
              "      <td>2.800000</td>\n",
              "      <td>1.600000</td>\n",
              "      <td>0.300000</td>\n",
              "    </tr>\n",
              "    <tr>\n",
              "      <th>50%</th>\n",
              "      <td>75.500000</td>\n",
              "      <td>5.800000</td>\n",
              "      <td>3.000000</td>\n",
              "      <td>4.350000</td>\n",
              "      <td>1.300000</td>\n",
              "    </tr>\n",
              "    <tr>\n",
              "      <th>75%</th>\n",
              "      <td>112.750000</td>\n",
              "      <td>6.400000</td>\n",
              "      <td>3.300000</td>\n",
              "      <td>5.100000</td>\n",
              "      <td>1.800000</td>\n",
              "    </tr>\n",
              "    <tr>\n",
              "      <th>max</th>\n",
              "      <td>150.000000</td>\n",
              "      <td>7.900000</td>\n",
              "      <td>4.400000</td>\n",
              "      <td>6.900000</td>\n",
              "      <td>2.500000</td>\n",
              "    </tr>\n",
              "  </tbody>\n",
              "</table>\n",
              "</div>"
            ],
            "text/plain": [
              "               Id  SepalLengthCm  SepalWidthCm  PetalLengthCm  PetalWidthCm\n",
              "count  150.000000     150.000000    150.000000     150.000000    150.000000\n",
              "mean    75.500000       5.843333      3.054000       3.758667      1.198667\n",
              "std     43.445368       0.828066      0.433594       1.764420      0.763161\n",
              "min      1.000000       4.300000      2.000000       1.000000      0.100000\n",
              "25%     38.250000       5.100000      2.800000       1.600000      0.300000\n",
              "50%     75.500000       5.800000      3.000000       4.350000      1.300000\n",
              "75%    112.750000       6.400000      3.300000       5.100000      1.800000\n",
              "max    150.000000       7.900000      4.400000       6.900000      2.500000"
            ]
          },
          "execution_count": 8,
          "metadata": {},
          "output_type": "execute_result"
        }
      ],
      "source": [
        "iris.describe()"
      ]
    },
    {
      "cell_type": "code",
      "execution_count": 9,
      "metadata": {},
      "outputs": [
        {
          "data": {
            "text/plain": [
              "(150, 6)"
            ]
          },
          "execution_count": 9,
          "metadata": {},
          "output_type": "execute_result"
        }
      ],
      "source": [
        "iris.shape"
      ]
    },
    {
      "cell_type": "code",
      "execution_count": 10,
      "metadata": {},
      "outputs": [
        {
          "data": {
            "text/html": [
              "<div>\n",
              "<style scoped>\n",
              "    .dataframe tbody tr th:only-of-type {\n",
              "        vertical-align: middle;\n",
              "    }\n",
              "\n",
              "    .dataframe tbody tr th {\n",
              "        vertical-align: top;\n",
              "    }\n",
              "\n",
              "    .dataframe thead th {\n",
              "        text-align: right;\n",
              "    }\n",
              "</style>\n",
              "<table border=\"1\" class=\"dataframe\">\n",
              "  <thead>\n",
              "    <tr style=\"text-align: right;\">\n",
              "      <th></th>\n",
              "      <th>Id</th>\n",
              "      <th>SepalLengthCm</th>\n",
              "      <th>SepalWidthCm</th>\n",
              "      <th>PetalLengthCm</th>\n",
              "      <th>PetalWidthCm</th>\n",
              "      <th>Species</th>\n",
              "    </tr>\n",
              "  </thead>\n",
              "  <tbody>\n",
              "    <tr>\n",
              "      <th>0</th>\n",
              "      <td>1</td>\n",
              "      <td>5.1</td>\n",
              "      <td>3.5</td>\n",
              "      <td>1.4</td>\n",
              "      <td>0.2</td>\n",
              "      <td>Iris-setosa</td>\n",
              "    </tr>\n",
              "    <tr>\n",
              "      <th>1</th>\n",
              "      <td>2</td>\n",
              "      <td>4.9</td>\n",
              "      <td>3.0</td>\n",
              "      <td>1.4</td>\n",
              "      <td>0.2</td>\n",
              "      <td>Iris-setosa</td>\n",
              "    </tr>\n",
              "    <tr>\n",
              "      <th>2</th>\n",
              "      <td>3</td>\n",
              "      <td>4.7</td>\n",
              "      <td>3.2</td>\n",
              "      <td>1.3</td>\n",
              "      <td>0.2</td>\n",
              "      <td>Iris-setosa</td>\n",
              "    </tr>\n",
              "    <tr>\n",
              "      <th>3</th>\n",
              "      <td>4</td>\n",
              "      <td>4.6</td>\n",
              "      <td>3.1</td>\n",
              "      <td>1.5</td>\n",
              "      <td>0.2</td>\n",
              "      <td>Iris-setosa</td>\n",
              "    </tr>\n",
              "    <tr>\n",
              "      <th>4</th>\n",
              "      <td>5</td>\n",
              "      <td>5.0</td>\n",
              "      <td>3.6</td>\n",
              "      <td>1.4</td>\n",
              "      <td>0.2</td>\n",
              "      <td>Iris-setosa</td>\n",
              "    </tr>\n",
              "  </tbody>\n",
              "</table>\n",
              "</div>"
            ],
            "text/plain": [
              "   Id  SepalLengthCm  SepalWidthCm  PetalLengthCm  PetalWidthCm      Species\n",
              "0   1            5.1           3.5            1.4           0.2  Iris-setosa\n",
              "1   2            4.9           3.0            1.4           0.2  Iris-setosa\n",
              "2   3            4.7           3.2            1.3           0.2  Iris-setosa\n",
              "3   4            4.6           3.1            1.5           0.2  Iris-setosa\n",
              "4   5            5.0           3.6            1.4           0.2  Iris-setosa"
            ]
          },
          "execution_count": 10,
          "metadata": {},
          "output_type": "execute_result"
        }
      ],
      "source": [
        "iris.head()"
      ]
    },
    {
      "cell_type": "code",
      "execution_count": 11,
      "metadata": {},
      "outputs": [
        {
          "data": {
            "text/plain": [
              "Id               0\n",
              "SepalLengthCm    0\n",
              "SepalWidthCm     0\n",
              "PetalLengthCm    0\n",
              "PetalWidthCm     0\n",
              "Species          0\n",
              "dtype: int64"
            ]
          },
          "execution_count": 11,
          "metadata": {},
          "output_type": "execute_result"
        }
      ],
      "source": [
        "iris.isna().sum()"
      ]
    },
    {
      "cell_type": "code",
      "execution_count": 12,
      "metadata": {},
      "outputs": [
        {
          "data": {
            "text/plain": [
              "Species\n",
              "Iris-setosa        50\n",
              "Iris-versicolor    50\n",
              "Iris-virginica     50\n",
              "dtype: int64"
            ]
          },
          "execution_count": 12,
          "metadata": {},
          "output_type": "execute_result"
        }
      ],
      "source": [
        "iris.groupby('Species').size()"
      ]
    },
    {
      "cell_type": "code",
      "execution_count": 13,
      "metadata": {},
      "outputs": [
        {
          "data": {
            "text/html": [
              "<div>\n",
              "<style scoped>\n",
              "    .dataframe tbody tr th:only-of-type {\n",
              "        vertical-align: middle;\n",
              "    }\n",
              "\n",
              "    .dataframe tbody tr th {\n",
              "        vertical-align: top;\n",
              "    }\n",
              "\n",
              "    .dataframe thead th {\n",
              "        text-align: right;\n",
              "    }\n",
              "</style>\n",
              "<table border=\"1\" class=\"dataframe\">\n",
              "  <thead>\n",
              "    <tr style=\"text-align: right;\">\n",
              "      <th></th>\n",
              "      <th>Id</th>\n",
              "      <th>SepalLengthCm</th>\n",
              "      <th>SepalWidthCm</th>\n",
              "      <th>PetalLengthCm</th>\n",
              "      <th>PetalWidthCm</th>\n",
              "    </tr>\n",
              "    <tr>\n",
              "      <th>Species</th>\n",
              "      <th></th>\n",
              "      <th></th>\n",
              "      <th></th>\n",
              "      <th></th>\n",
              "      <th></th>\n",
              "    </tr>\n",
              "  </thead>\n",
              "  <tbody>\n",
              "    <tr>\n",
              "      <th>Iris-setosa</th>\n",
              "      <td>1</td>\n",
              "      <td>4.3</td>\n",
              "      <td>2.3</td>\n",
              "      <td>1.0</td>\n",
              "      <td>0.1</td>\n",
              "    </tr>\n",
              "    <tr>\n",
              "      <th>Iris-versicolor</th>\n",
              "      <td>51</td>\n",
              "      <td>4.9</td>\n",
              "      <td>2.0</td>\n",
              "      <td>3.0</td>\n",
              "      <td>1.0</td>\n",
              "    </tr>\n",
              "    <tr>\n",
              "      <th>Iris-virginica</th>\n",
              "      <td>101</td>\n",
              "      <td>4.9</td>\n",
              "      <td>2.2</td>\n",
              "      <td>4.5</td>\n",
              "      <td>1.4</td>\n",
              "    </tr>\n",
              "  </tbody>\n",
              "</table>\n",
              "</div>"
            ],
            "text/plain": [
              "                  Id  SepalLengthCm  SepalWidthCm  PetalLengthCm  PetalWidthCm\n",
              "Species                                                                       \n",
              "Iris-setosa        1            4.3           2.3            1.0           0.1\n",
              "Iris-versicolor   51            4.9           2.0            3.0           1.0\n",
              "Iris-virginica   101            4.9           2.2            4.5           1.4"
            ]
          },
          "execution_count": 13,
          "metadata": {},
          "output_type": "execute_result"
        }
      ],
      "source": [
        "iris.groupby(['Species']).min()"
      ]
    },
    {
      "cell_type": "code",
      "execution_count": 14,
      "metadata": {},
      "outputs": [
        {
          "data": {
            "text/html": [
              "<div>\n",
              "<style scoped>\n",
              "    .dataframe tbody tr th:only-of-type {\n",
              "        vertical-align: middle;\n",
              "    }\n",
              "\n",
              "    .dataframe tbody tr th {\n",
              "        vertical-align: top;\n",
              "    }\n",
              "\n",
              "    .dataframe thead th {\n",
              "        text-align: right;\n",
              "    }\n",
              "</style>\n",
              "<table border=\"1\" class=\"dataframe\">\n",
              "  <thead>\n",
              "    <tr style=\"text-align: right;\">\n",
              "      <th></th>\n",
              "      <th>SepalLengthCm</th>\n",
              "      <th>SepalWidthCm</th>\n",
              "      <th>PetalLengthCm</th>\n",
              "      <th>PetalWidthCm</th>\n",
              "      <th>Species</th>\n",
              "    </tr>\n",
              "  </thead>\n",
              "  <tbody>\n",
              "    <tr>\n",
              "      <th>0</th>\n",
              "      <td>5.1</td>\n",
              "      <td>3.5</td>\n",
              "      <td>1.4</td>\n",
              "      <td>0.2</td>\n",
              "      <td>Iris-setosa</td>\n",
              "    </tr>\n",
              "    <tr>\n",
              "      <th>1</th>\n",
              "      <td>4.9</td>\n",
              "      <td>3.0</td>\n",
              "      <td>1.4</td>\n",
              "      <td>0.2</td>\n",
              "      <td>Iris-setosa</td>\n",
              "    </tr>\n",
              "    <tr>\n",
              "      <th>2</th>\n",
              "      <td>4.7</td>\n",
              "      <td>3.2</td>\n",
              "      <td>1.3</td>\n",
              "      <td>0.2</td>\n",
              "      <td>Iris-setosa</td>\n",
              "    </tr>\n",
              "    <tr>\n",
              "      <th>3</th>\n",
              "      <td>4.6</td>\n",
              "      <td>3.1</td>\n",
              "      <td>1.5</td>\n",
              "      <td>0.2</td>\n",
              "      <td>Iris-setosa</td>\n",
              "    </tr>\n",
              "    <tr>\n",
              "      <th>4</th>\n",
              "      <td>5.0</td>\n",
              "      <td>3.6</td>\n",
              "      <td>1.4</td>\n",
              "      <td>0.2</td>\n",
              "      <td>Iris-setosa</td>\n",
              "    </tr>\n",
              "    <tr>\n",
              "      <th>...</th>\n",
              "      <td>...</td>\n",
              "      <td>...</td>\n",
              "      <td>...</td>\n",
              "      <td>...</td>\n",
              "      <td>...</td>\n",
              "    </tr>\n",
              "    <tr>\n",
              "      <th>145</th>\n",
              "      <td>6.7</td>\n",
              "      <td>3.0</td>\n",
              "      <td>5.2</td>\n",
              "      <td>2.3</td>\n",
              "      <td>Iris-virginica</td>\n",
              "    </tr>\n",
              "    <tr>\n",
              "      <th>146</th>\n",
              "      <td>6.3</td>\n",
              "      <td>2.5</td>\n",
              "      <td>5.0</td>\n",
              "      <td>1.9</td>\n",
              "      <td>Iris-virginica</td>\n",
              "    </tr>\n",
              "    <tr>\n",
              "      <th>147</th>\n",
              "      <td>6.5</td>\n",
              "      <td>3.0</td>\n",
              "      <td>5.2</td>\n",
              "      <td>2.0</td>\n",
              "      <td>Iris-virginica</td>\n",
              "    </tr>\n",
              "    <tr>\n",
              "      <th>148</th>\n",
              "      <td>6.2</td>\n",
              "      <td>3.4</td>\n",
              "      <td>5.4</td>\n",
              "      <td>2.3</td>\n",
              "      <td>Iris-virginica</td>\n",
              "    </tr>\n",
              "    <tr>\n",
              "      <th>149</th>\n",
              "      <td>5.9</td>\n",
              "      <td>3.0</td>\n",
              "      <td>5.1</td>\n",
              "      <td>1.8</td>\n",
              "      <td>Iris-virginica</td>\n",
              "    </tr>\n",
              "  </tbody>\n",
              "</table>\n",
              "<p>150 rows × 5 columns</p>\n",
              "</div>"
            ],
            "text/plain": [
              "     SepalLengthCm  SepalWidthCm  PetalLengthCm  PetalWidthCm         Species\n",
              "0              5.1           3.5            1.4           0.2     Iris-setosa\n",
              "1              4.9           3.0            1.4           0.2     Iris-setosa\n",
              "2              4.7           3.2            1.3           0.2     Iris-setosa\n",
              "3              4.6           3.1            1.5           0.2     Iris-setosa\n",
              "4              5.0           3.6            1.4           0.2     Iris-setosa\n",
              "..             ...           ...            ...           ...             ...\n",
              "145            6.7           3.0            5.2           2.3  Iris-virginica\n",
              "146            6.3           2.5            5.0           1.9  Iris-virginica\n",
              "147            6.5           3.0            5.2           2.0  Iris-virginica\n",
              "148            6.2           3.4            5.4           2.3  Iris-virginica\n",
              "149            5.9           3.0            5.1           1.8  Iris-virginica\n",
              "\n",
              "[150 rows x 5 columns]"
            ]
          },
          "execution_count": 14,
          "metadata": {},
          "output_type": "execute_result"
        }
      ],
      "source": [
        "iris=iris.drop(columns='Id')\n",
        "iris"
      ]
    },
    {
      "cell_type": "code",
      "execution_count": 15,
      "metadata": {},
      "outputs": [],
      "source": [
        "setosa=iris[iris['Species']=='Iris-setosa']\n",
        "versicolor=iris[iris['Species']=='Iris-versicolor']\n",
        "virginica=iris[iris['Species']=='Iris-virginica']"
      ]
    },
    {
      "cell_type": "code",
      "execution_count": 16,
      "metadata": {},
      "outputs": [
        {
          "data": {
            "text/html": [
              "<div>\n",
              "<style scoped>\n",
              "    .dataframe tbody tr th:only-of-type {\n",
              "        vertical-align: middle;\n",
              "    }\n",
              "\n",
              "    .dataframe tbody tr th {\n",
              "        vertical-align: top;\n",
              "    }\n",
              "\n",
              "    .dataframe thead th {\n",
              "        text-align: right;\n",
              "    }\n",
              "</style>\n",
              "<table border=\"1\" class=\"dataframe\">\n",
              "  <thead>\n",
              "    <tr style=\"text-align: right;\">\n",
              "      <th></th>\n",
              "      <th>SepalLengthCm</th>\n",
              "      <th>SepalWidthCm</th>\n",
              "      <th>PetalLengthCm</th>\n",
              "      <th>PetalWidthCm</th>\n",
              "      <th>Species</th>\n",
              "    </tr>\n",
              "  </thead>\n",
              "  <tbody>\n",
              "    <tr>\n",
              "      <th>0</th>\n",
              "      <td>5.1</td>\n",
              "      <td>3.5</td>\n",
              "      <td>1.4</td>\n",
              "      <td>0.2</td>\n",
              "      <td>Iris-setosa</td>\n",
              "    </tr>\n",
              "    <tr>\n",
              "      <th>1</th>\n",
              "      <td>4.9</td>\n",
              "      <td>3.0</td>\n",
              "      <td>1.4</td>\n",
              "      <td>0.2</td>\n",
              "      <td>Iris-setosa</td>\n",
              "    </tr>\n",
              "    <tr>\n",
              "      <th>2</th>\n",
              "      <td>4.7</td>\n",
              "      <td>3.2</td>\n",
              "      <td>1.3</td>\n",
              "      <td>0.2</td>\n",
              "      <td>Iris-setosa</td>\n",
              "    </tr>\n",
              "    <tr>\n",
              "      <th>3</th>\n",
              "      <td>4.6</td>\n",
              "      <td>3.1</td>\n",
              "      <td>1.5</td>\n",
              "      <td>0.2</td>\n",
              "      <td>Iris-setosa</td>\n",
              "    </tr>\n",
              "    <tr>\n",
              "      <th>4</th>\n",
              "      <td>5.0</td>\n",
              "      <td>3.6</td>\n",
              "      <td>1.4</td>\n",
              "      <td>0.2</td>\n",
              "      <td>Iris-setosa</td>\n",
              "    </tr>\n",
              "    <tr>\n",
              "      <th>5</th>\n",
              "      <td>5.4</td>\n",
              "      <td>3.9</td>\n",
              "      <td>1.7</td>\n",
              "      <td>0.4</td>\n",
              "      <td>Iris-setosa</td>\n",
              "    </tr>\n",
              "    <tr>\n",
              "      <th>6</th>\n",
              "      <td>4.6</td>\n",
              "      <td>3.4</td>\n",
              "      <td>1.4</td>\n",
              "      <td>0.3</td>\n",
              "      <td>Iris-setosa</td>\n",
              "    </tr>\n",
              "    <tr>\n",
              "      <th>7</th>\n",
              "      <td>5.0</td>\n",
              "      <td>3.4</td>\n",
              "      <td>1.5</td>\n",
              "      <td>0.2</td>\n",
              "      <td>Iris-setosa</td>\n",
              "    </tr>\n",
              "    <tr>\n",
              "      <th>8</th>\n",
              "      <td>4.4</td>\n",
              "      <td>2.9</td>\n",
              "      <td>1.4</td>\n",
              "      <td>0.2</td>\n",
              "      <td>Iris-setosa</td>\n",
              "    </tr>\n",
              "    <tr>\n",
              "      <th>9</th>\n",
              "      <td>4.9</td>\n",
              "      <td>3.1</td>\n",
              "      <td>1.5</td>\n",
              "      <td>0.1</td>\n",
              "      <td>Iris-setosa</td>\n",
              "    </tr>\n",
              "    <tr>\n",
              "      <th>10</th>\n",
              "      <td>5.4</td>\n",
              "      <td>3.7</td>\n",
              "      <td>1.5</td>\n",
              "      <td>0.2</td>\n",
              "      <td>Iris-setosa</td>\n",
              "    </tr>\n",
              "    <tr>\n",
              "      <th>11</th>\n",
              "      <td>4.8</td>\n",
              "      <td>3.4</td>\n",
              "      <td>1.6</td>\n",
              "      <td>0.2</td>\n",
              "      <td>Iris-setosa</td>\n",
              "    </tr>\n",
              "    <tr>\n",
              "      <th>12</th>\n",
              "      <td>4.8</td>\n",
              "      <td>3.0</td>\n",
              "      <td>1.4</td>\n",
              "      <td>0.1</td>\n",
              "      <td>Iris-setosa</td>\n",
              "    </tr>\n",
              "    <tr>\n",
              "      <th>13</th>\n",
              "      <td>4.3</td>\n",
              "      <td>3.0</td>\n",
              "      <td>1.1</td>\n",
              "      <td>0.1</td>\n",
              "      <td>Iris-setosa</td>\n",
              "    </tr>\n",
              "    <tr>\n",
              "      <th>14</th>\n",
              "      <td>5.8</td>\n",
              "      <td>4.0</td>\n",
              "      <td>1.2</td>\n",
              "      <td>0.2</td>\n",
              "      <td>Iris-setosa</td>\n",
              "    </tr>\n",
              "    <tr>\n",
              "      <th>15</th>\n",
              "      <td>5.7</td>\n",
              "      <td>4.4</td>\n",
              "      <td>1.5</td>\n",
              "      <td>0.4</td>\n",
              "      <td>Iris-setosa</td>\n",
              "    </tr>\n",
              "    <tr>\n",
              "      <th>16</th>\n",
              "      <td>5.4</td>\n",
              "      <td>3.9</td>\n",
              "      <td>1.3</td>\n",
              "      <td>0.4</td>\n",
              "      <td>Iris-setosa</td>\n",
              "    </tr>\n",
              "    <tr>\n",
              "      <th>17</th>\n",
              "      <td>5.1</td>\n",
              "      <td>3.5</td>\n",
              "      <td>1.4</td>\n",
              "      <td>0.3</td>\n",
              "      <td>Iris-setosa</td>\n",
              "    </tr>\n",
              "    <tr>\n",
              "      <th>18</th>\n",
              "      <td>5.7</td>\n",
              "      <td>3.8</td>\n",
              "      <td>1.7</td>\n",
              "      <td>0.3</td>\n",
              "      <td>Iris-setosa</td>\n",
              "    </tr>\n",
              "    <tr>\n",
              "      <th>19</th>\n",
              "      <td>5.1</td>\n",
              "      <td>3.8</td>\n",
              "      <td>1.5</td>\n",
              "      <td>0.3</td>\n",
              "      <td>Iris-setosa</td>\n",
              "    </tr>\n",
              "    <tr>\n",
              "      <th>20</th>\n",
              "      <td>5.4</td>\n",
              "      <td>3.4</td>\n",
              "      <td>1.7</td>\n",
              "      <td>0.2</td>\n",
              "      <td>Iris-setosa</td>\n",
              "    </tr>\n",
              "    <tr>\n",
              "      <th>21</th>\n",
              "      <td>5.1</td>\n",
              "      <td>3.7</td>\n",
              "      <td>1.5</td>\n",
              "      <td>0.4</td>\n",
              "      <td>Iris-setosa</td>\n",
              "    </tr>\n",
              "    <tr>\n",
              "      <th>22</th>\n",
              "      <td>4.6</td>\n",
              "      <td>3.6</td>\n",
              "      <td>1.0</td>\n",
              "      <td>0.2</td>\n",
              "      <td>Iris-setosa</td>\n",
              "    </tr>\n",
              "    <tr>\n",
              "      <th>23</th>\n",
              "      <td>5.1</td>\n",
              "      <td>3.3</td>\n",
              "      <td>1.7</td>\n",
              "      <td>0.5</td>\n",
              "      <td>Iris-setosa</td>\n",
              "    </tr>\n",
              "    <tr>\n",
              "      <th>24</th>\n",
              "      <td>4.8</td>\n",
              "      <td>3.4</td>\n",
              "      <td>1.9</td>\n",
              "      <td>0.2</td>\n",
              "      <td>Iris-setosa</td>\n",
              "    </tr>\n",
              "    <tr>\n",
              "      <th>25</th>\n",
              "      <td>5.0</td>\n",
              "      <td>3.0</td>\n",
              "      <td>1.6</td>\n",
              "      <td>0.2</td>\n",
              "      <td>Iris-setosa</td>\n",
              "    </tr>\n",
              "    <tr>\n",
              "      <th>26</th>\n",
              "      <td>5.0</td>\n",
              "      <td>3.4</td>\n",
              "      <td>1.6</td>\n",
              "      <td>0.4</td>\n",
              "      <td>Iris-setosa</td>\n",
              "    </tr>\n",
              "    <tr>\n",
              "      <th>27</th>\n",
              "      <td>5.2</td>\n",
              "      <td>3.5</td>\n",
              "      <td>1.5</td>\n",
              "      <td>0.2</td>\n",
              "      <td>Iris-setosa</td>\n",
              "    </tr>\n",
              "    <tr>\n",
              "      <th>28</th>\n",
              "      <td>5.2</td>\n",
              "      <td>3.4</td>\n",
              "      <td>1.4</td>\n",
              "      <td>0.2</td>\n",
              "      <td>Iris-setosa</td>\n",
              "    </tr>\n",
              "    <tr>\n",
              "      <th>29</th>\n",
              "      <td>4.7</td>\n",
              "      <td>3.2</td>\n",
              "      <td>1.6</td>\n",
              "      <td>0.2</td>\n",
              "      <td>Iris-setosa</td>\n",
              "    </tr>\n",
              "    <tr>\n",
              "      <th>30</th>\n",
              "      <td>4.8</td>\n",
              "      <td>3.1</td>\n",
              "      <td>1.6</td>\n",
              "      <td>0.2</td>\n",
              "      <td>Iris-setosa</td>\n",
              "    </tr>\n",
              "    <tr>\n",
              "      <th>31</th>\n",
              "      <td>5.4</td>\n",
              "      <td>3.4</td>\n",
              "      <td>1.5</td>\n",
              "      <td>0.4</td>\n",
              "      <td>Iris-setosa</td>\n",
              "    </tr>\n",
              "    <tr>\n",
              "      <th>32</th>\n",
              "      <td>5.2</td>\n",
              "      <td>4.1</td>\n",
              "      <td>1.5</td>\n",
              "      <td>0.1</td>\n",
              "      <td>Iris-setosa</td>\n",
              "    </tr>\n",
              "    <tr>\n",
              "      <th>33</th>\n",
              "      <td>5.5</td>\n",
              "      <td>4.2</td>\n",
              "      <td>1.4</td>\n",
              "      <td>0.2</td>\n",
              "      <td>Iris-setosa</td>\n",
              "    </tr>\n",
              "    <tr>\n",
              "      <th>34</th>\n",
              "      <td>4.9</td>\n",
              "      <td>3.1</td>\n",
              "      <td>1.5</td>\n",
              "      <td>0.1</td>\n",
              "      <td>Iris-setosa</td>\n",
              "    </tr>\n",
              "    <tr>\n",
              "      <th>35</th>\n",
              "      <td>5.0</td>\n",
              "      <td>3.2</td>\n",
              "      <td>1.2</td>\n",
              "      <td>0.2</td>\n",
              "      <td>Iris-setosa</td>\n",
              "    </tr>\n",
              "    <tr>\n",
              "      <th>36</th>\n",
              "      <td>5.5</td>\n",
              "      <td>3.5</td>\n",
              "      <td>1.3</td>\n",
              "      <td>0.2</td>\n",
              "      <td>Iris-setosa</td>\n",
              "    </tr>\n",
              "    <tr>\n",
              "      <th>37</th>\n",
              "      <td>4.9</td>\n",
              "      <td>3.1</td>\n",
              "      <td>1.5</td>\n",
              "      <td>0.1</td>\n",
              "      <td>Iris-setosa</td>\n",
              "    </tr>\n",
              "    <tr>\n",
              "      <th>38</th>\n",
              "      <td>4.4</td>\n",
              "      <td>3.0</td>\n",
              "      <td>1.3</td>\n",
              "      <td>0.2</td>\n",
              "      <td>Iris-setosa</td>\n",
              "    </tr>\n",
              "    <tr>\n",
              "      <th>39</th>\n",
              "      <td>5.1</td>\n",
              "      <td>3.4</td>\n",
              "      <td>1.5</td>\n",
              "      <td>0.2</td>\n",
              "      <td>Iris-setosa</td>\n",
              "    </tr>\n",
              "    <tr>\n",
              "      <th>40</th>\n",
              "      <td>5.0</td>\n",
              "      <td>3.5</td>\n",
              "      <td>1.3</td>\n",
              "      <td>0.3</td>\n",
              "      <td>Iris-setosa</td>\n",
              "    </tr>\n",
              "    <tr>\n",
              "      <th>41</th>\n",
              "      <td>4.5</td>\n",
              "      <td>2.3</td>\n",
              "      <td>1.3</td>\n",
              "      <td>0.3</td>\n",
              "      <td>Iris-setosa</td>\n",
              "    </tr>\n",
              "    <tr>\n",
              "      <th>42</th>\n",
              "      <td>4.4</td>\n",
              "      <td>3.2</td>\n",
              "      <td>1.3</td>\n",
              "      <td>0.2</td>\n",
              "      <td>Iris-setosa</td>\n",
              "    </tr>\n",
              "    <tr>\n",
              "      <th>43</th>\n",
              "      <td>5.0</td>\n",
              "      <td>3.5</td>\n",
              "      <td>1.6</td>\n",
              "      <td>0.6</td>\n",
              "      <td>Iris-setosa</td>\n",
              "    </tr>\n",
              "    <tr>\n",
              "      <th>44</th>\n",
              "      <td>5.1</td>\n",
              "      <td>3.8</td>\n",
              "      <td>1.9</td>\n",
              "      <td>0.4</td>\n",
              "      <td>Iris-setosa</td>\n",
              "    </tr>\n",
              "    <tr>\n",
              "      <th>45</th>\n",
              "      <td>4.8</td>\n",
              "      <td>3.0</td>\n",
              "      <td>1.4</td>\n",
              "      <td>0.3</td>\n",
              "      <td>Iris-setosa</td>\n",
              "    </tr>\n",
              "    <tr>\n",
              "      <th>46</th>\n",
              "      <td>5.1</td>\n",
              "      <td>3.8</td>\n",
              "      <td>1.6</td>\n",
              "      <td>0.2</td>\n",
              "      <td>Iris-setosa</td>\n",
              "    </tr>\n",
              "    <tr>\n",
              "      <th>47</th>\n",
              "      <td>4.6</td>\n",
              "      <td>3.2</td>\n",
              "      <td>1.4</td>\n",
              "      <td>0.2</td>\n",
              "      <td>Iris-setosa</td>\n",
              "    </tr>\n",
              "    <tr>\n",
              "      <th>48</th>\n",
              "      <td>5.3</td>\n",
              "      <td>3.7</td>\n",
              "      <td>1.5</td>\n",
              "      <td>0.2</td>\n",
              "      <td>Iris-setosa</td>\n",
              "    </tr>\n",
              "    <tr>\n",
              "      <th>49</th>\n",
              "      <td>5.0</td>\n",
              "      <td>3.3</td>\n",
              "      <td>1.4</td>\n",
              "      <td>0.2</td>\n",
              "      <td>Iris-setosa</td>\n",
              "    </tr>\n",
              "  </tbody>\n",
              "</table>\n",
              "</div>"
            ],
            "text/plain": [
              "    SepalLengthCm  SepalWidthCm  PetalLengthCm  PetalWidthCm      Species\n",
              "0             5.1           3.5            1.4           0.2  Iris-setosa\n",
              "1             4.9           3.0            1.4           0.2  Iris-setosa\n",
              "2             4.7           3.2            1.3           0.2  Iris-setosa\n",
              "3             4.6           3.1            1.5           0.2  Iris-setosa\n",
              "4             5.0           3.6            1.4           0.2  Iris-setosa\n",
              "5             5.4           3.9            1.7           0.4  Iris-setosa\n",
              "6             4.6           3.4            1.4           0.3  Iris-setosa\n",
              "7             5.0           3.4            1.5           0.2  Iris-setosa\n",
              "8             4.4           2.9            1.4           0.2  Iris-setosa\n",
              "9             4.9           3.1            1.5           0.1  Iris-setosa\n",
              "10            5.4           3.7            1.5           0.2  Iris-setosa\n",
              "11            4.8           3.4            1.6           0.2  Iris-setosa\n",
              "12            4.8           3.0            1.4           0.1  Iris-setosa\n",
              "13            4.3           3.0            1.1           0.1  Iris-setosa\n",
              "14            5.8           4.0            1.2           0.2  Iris-setosa\n",
              "15            5.7           4.4            1.5           0.4  Iris-setosa\n",
              "16            5.4           3.9            1.3           0.4  Iris-setosa\n",
              "17            5.1           3.5            1.4           0.3  Iris-setosa\n",
              "18            5.7           3.8            1.7           0.3  Iris-setosa\n",
              "19            5.1           3.8            1.5           0.3  Iris-setosa\n",
              "20            5.4           3.4            1.7           0.2  Iris-setosa\n",
              "21            5.1           3.7            1.5           0.4  Iris-setosa\n",
              "22            4.6           3.6            1.0           0.2  Iris-setosa\n",
              "23            5.1           3.3            1.7           0.5  Iris-setosa\n",
              "24            4.8           3.4            1.9           0.2  Iris-setosa\n",
              "25            5.0           3.0            1.6           0.2  Iris-setosa\n",
              "26            5.0           3.4            1.6           0.4  Iris-setosa\n",
              "27            5.2           3.5            1.5           0.2  Iris-setosa\n",
              "28            5.2           3.4            1.4           0.2  Iris-setosa\n",
              "29            4.7           3.2            1.6           0.2  Iris-setosa\n",
              "30            4.8           3.1            1.6           0.2  Iris-setosa\n",
              "31            5.4           3.4            1.5           0.4  Iris-setosa\n",
              "32            5.2           4.1            1.5           0.1  Iris-setosa\n",
              "33            5.5           4.2            1.4           0.2  Iris-setosa\n",
              "34            4.9           3.1            1.5           0.1  Iris-setosa\n",
              "35            5.0           3.2            1.2           0.2  Iris-setosa\n",
              "36            5.5           3.5            1.3           0.2  Iris-setosa\n",
              "37            4.9           3.1            1.5           0.1  Iris-setosa\n",
              "38            4.4           3.0            1.3           0.2  Iris-setosa\n",
              "39            5.1           3.4            1.5           0.2  Iris-setosa\n",
              "40            5.0           3.5            1.3           0.3  Iris-setosa\n",
              "41            4.5           2.3            1.3           0.3  Iris-setosa\n",
              "42            4.4           3.2            1.3           0.2  Iris-setosa\n",
              "43            5.0           3.5            1.6           0.6  Iris-setosa\n",
              "44            5.1           3.8            1.9           0.4  Iris-setosa\n",
              "45            4.8           3.0            1.4           0.3  Iris-setosa\n",
              "46            5.1           3.8            1.6           0.2  Iris-setosa\n",
              "47            4.6           3.2            1.4           0.2  Iris-setosa\n",
              "48            5.3           3.7            1.5           0.2  Iris-setosa\n",
              "49            5.0           3.3            1.4           0.2  Iris-setosa"
            ]
          },
          "execution_count": 16,
          "metadata": {},
          "output_type": "execute_result"
        }
      ],
      "source": [
        "setosa"
      ]
    },
    {
      "cell_type": "code",
      "execution_count": 17,
      "metadata": {},
      "outputs": [
        {
          "data": {
            "text/html": [
              "<div>\n",
              "<style scoped>\n",
              "    .dataframe tbody tr th:only-of-type {\n",
              "        vertical-align: middle;\n",
              "    }\n",
              "\n",
              "    .dataframe tbody tr th {\n",
              "        vertical-align: top;\n",
              "    }\n",
              "\n",
              "    .dataframe thead th {\n",
              "        text-align: right;\n",
              "    }\n",
              "</style>\n",
              "<table border=\"1\" class=\"dataframe\">\n",
              "  <thead>\n",
              "    <tr style=\"text-align: right;\">\n",
              "      <th></th>\n",
              "      <th>SepalLengthCm</th>\n",
              "      <th>SepalWidthCm</th>\n",
              "      <th>PetalLengthCm</th>\n",
              "      <th>PetalWidthCm</th>\n",
              "      <th>Species</th>\n",
              "    </tr>\n",
              "  </thead>\n",
              "  <tbody>\n",
              "    <tr>\n",
              "      <th>50</th>\n",
              "      <td>7.0</td>\n",
              "      <td>3.2</td>\n",
              "      <td>4.7</td>\n",
              "      <td>1.4</td>\n",
              "      <td>Iris-versicolor</td>\n",
              "    </tr>\n",
              "    <tr>\n",
              "      <th>51</th>\n",
              "      <td>6.4</td>\n",
              "      <td>3.2</td>\n",
              "      <td>4.5</td>\n",
              "      <td>1.5</td>\n",
              "      <td>Iris-versicolor</td>\n",
              "    </tr>\n",
              "    <tr>\n",
              "      <th>52</th>\n",
              "      <td>6.9</td>\n",
              "      <td>3.1</td>\n",
              "      <td>4.9</td>\n",
              "      <td>1.5</td>\n",
              "      <td>Iris-versicolor</td>\n",
              "    </tr>\n",
              "    <tr>\n",
              "      <th>53</th>\n",
              "      <td>5.5</td>\n",
              "      <td>2.3</td>\n",
              "      <td>4.0</td>\n",
              "      <td>1.3</td>\n",
              "      <td>Iris-versicolor</td>\n",
              "    </tr>\n",
              "    <tr>\n",
              "      <th>54</th>\n",
              "      <td>6.5</td>\n",
              "      <td>2.8</td>\n",
              "      <td>4.6</td>\n",
              "      <td>1.5</td>\n",
              "      <td>Iris-versicolor</td>\n",
              "    </tr>\n",
              "    <tr>\n",
              "      <th>55</th>\n",
              "      <td>5.7</td>\n",
              "      <td>2.8</td>\n",
              "      <td>4.5</td>\n",
              "      <td>1.3</td>\n",
              "      <td>Iris-versicolor</td>\n",
              "    </tr>\n",
              "    <tr>\n",
              "      <th>56</th>\n",
              "      <td>6.3</td>\n",
              "      <td>3.3</td>\n",
              "      <td>4.7</td>\n",
              "      <td>1.6</td>\n",
              "      <td>Iris-versicolor</td>\n",
              "    </tr>\n",
              "    <tr>\n",
              "      <th>57</th>\n",
              "      <td>4.9</td>\n",
              "      <td>2.4</td>\n",
              "      <td>3.3</td>\n",
              "      <td>1.0</td>\n",
              "      <td>Iris-versicolor</td>\n",
              "    </tr>\n",
              "    <tr>\n",
              "      <th>58</th>\n",
              "      <td>6.6</td>\n",
              "      <td>2.9</td>\n",
              "      <td>4.6</td>\n",
              "      <td>1.3</td>\n",
              "      <td>Iris-versicolor</td>\n",
              "    </tr>\n",
              "    <tr>\n",
              "      <th>59</th>\n",
              "      <td>5.2</td>\n",
              "      <td>2.7</td>\n",
              "      <td>3.9</td>\n",
              "      <td>1.4</td>\n",
              "      <td>Iris-versicolor</td>\n",
              "    </tr>\n",
              "    <tr>\n",
              "      <th>60</th>\n",
              "      <td>5.0</td>\n",
              "      <td>2.0</td>\n",
              "      <td>3.5</td>\n",
              "      <td>1.0</td>\n",
              "      <td>Iris-versicolor</td>\n",
              "    </tr>\n",
              "    <tr>\n",
              "      <th>61</th>\n",
              "      <td>5.9</td>\n",
              "      <td>3.0</td>\n",
              "      <td>4.2</td>\n",
              "      <td>1.5</td>\n",
              "      <td>Iris-versicolor</td>\n",
              "    </tr>\n",
              "    <tr>\n",
              "      <th>62</th>\n",
              "      <td>6.0</td>\n",
              "      <td>2.2</td>\n",
              "      <td>4.0</td>\n",
              "      <td>1.0</td>\n",
              "      <td>Iris-versicolor</td>\n",
              "    </tr>\n",
              "    <tr>\n",
              "      <th>63</th>\n",
              "      <td>6.1</td>\n",
              "      <td>2.9</td>\n",
              "      <td>4.7</td>\n",
              "      <td>1.4</td>\n",
              "      <td>Iris-versicolor</td>\n",
              "    </tr>\n",
              "    <tr>\n",
              "      <th>64</th>\n",
              "      <td>5.6</td>\n",
              "      <td>2.9</td>\n",
              "      <td>3.6</td>\n",
              "      <td>1.3</td>\n",
              "      <td>Iris-versicolor</td>\n",
              "    </tr>\n",
              "    <tr>\n",
              "      <th>65</th>\n",
              "      <td>6.7</td>\n",
              "      <td>3.1</td>\n",
              "      <td>4.4</td>\n",
              "      <td>1.4</td>\n",
              "      <td>Iris-versicolor</td>\n",
              "    </tr>\n",
              "    <tr>\n",
              "      <th>66</th>\n",
              "      <td>5.6</td>\n",
              "      <td>3.0</td>\n",
              "      <td>4.5</td>\n",
              "      <td>1.5</td>\n",
              "      <td>Iris-versicolor</td>\n",
              "    </tr>\n",
              "    <tr>\n",
              "      <th>67</th>\n",
              "      <td>5.8</td>\n",
              "      <td>2.7</td>\n",
              "      <td>4.1</td>\n",
              "      <td>1.0</td>\n",
              "      <td>Iris-versicolor</td>\n",
              "    </tr>\n",
              "    <tr>\n",
              "      <th>68</th>\n",
              "      <td>6.2</td>\n",
              "      <td>2.2</td>\n",
              "      <td>4.5</td>\n",
              "      <td>1.5</td>\n",
              "      <td>Iris-versicolor</td>\n",
              "    </tr>\n",
              "    <tr>\n",
              "      <th>69</th>\n",
              "      <td>5.6</td>\n",
              "      <td>2.5</td>\n",
              "      <td>3.9</td>\n",
              "      <td>1.1</td>\n",
              "      <td>Iris-versicolor</td>\n",
              "    </tr>\n",
              "    <tr>\n",
              "      <th>70</th>\n",
              "      <td>5.9</td>\n",
              "      <td>3.2</td>\n",
              "      <td>4.8</td>\n",
              "      <td>1.8</td>\n",
              "      <td>Iris-versicolor</td>\n",
              "    </tr>\n",
              "    <tr>\n",
              "      <th>71</th>\n",
              "      <td>6.1</td>\n",
              "      <td>2.8</td>\n",
              "      <td>4.0</td>\n",
              "      <td>1.3</td>\n",
              "      <td>Iris-versicolor</td>\n",
              "    </tr>\n",
              "    <tr>\n",
              "      <th>72</th>\n",
              "      <td>6.3</td>\n",
              "      <td>2.5</td>\n",
              "      <td>4.9</td>\n",
              "      <td>1.5</td>\n",
              "      <td>Iris-versicolor</td>\n",
              "    </tr>\n",
              "    <tr>\n",
              "      <th>73</th>\n",
              "      <td>6.1</td>\n",
              "      <td>2.8</td>\n",
              "      <td>4.7</td>\n",
              "      <td>1.2</td>\n",
              "      <td>Iris-versicolor</td>\n",
              "    </tr>\n",
              "    <tr>\n",
              "      <th>74</th>\n",
              "      <td>6.4</td>\n",
              "      <td>2.9</td>\n",
              "      <td>4.3</td>\n",
              "      <td>1.3</td>\n",
              "      <td>Iris-versicolor</td>\n",
              "    </tr>\n",
              "    <tr>\n",
              "      <th>75</th>\n",
              "      <td>6.6</td>\n",
              "      <td>3.0</td>\n",
              "      <td>4.4</td>\n",
              "      <td>1.4</td>\n",
              "      <td>Iris-versicolor</td>\n",
              "    </tr>\n",
              "    <tr>\n",
              "      <th>76</th>\n",
              "      <td>6.8</td>\n",
              "      <td>2.8</td>\n",
              "      <td>4.8</td>\n",
              "      <td>1.4</td>\n",
              "      <td>Iris-versicolor</td>\n",
              "    </tr>\n",
              "    <tr>\n",
              "      <th>77</th>\n",
              "      <td>6.7</td>\n",
              "      <td>3.0</td>\n",
              "      <td>5.0</td>\n",
              "      <td>1.7</td>\n",
              "      <td>Iris-versicolor</td>\n",
              "    </tr>\n",
              "    <tr>\n",
              "      <th>78</th>\n",
              "      <td>6.0</td>\n",
              "      <td>2.9</td>\n",
              "      <td>4.5</td>\n",
              "      <td>1.5</td>\n",
              "      <td>Iris-versicolor</td>\n",
              "    </tr>\n",
              "    <tr>\n",
              "      <th>79</th>\n",
              "      <td>5.7</td>\n",
              "      <td>2.6</td>\n",
              "      <td>3.5</td>\n",
              "      <td>1.0</td>\n",
              "      <td>Iris-versicolor</td>\n",
              "    </tr>\n",
              "    <tr>\n",
              "      <th>80</th>\n",
              "      <td>5.5</td>\n",
              "      <td>2.4</td>\n",
              "      <td>3.8</td>\n",
              "      <td>1.1</td>\n",
              "      <td>Iris-versicolor</td>\n",
              "    </tr>\n",
              "    <tr>\n",
              "      <th>81</th>\n",
              "      <td>5.5</td>\n",
              "      <td>2.4</td>\n",
              "      <td>3.7</td>\n",
              "      <td>1.0</td>\n",
              "      <td>Iris-versicolor</td>\n",
              "    </tr>\n",
              "    <tr>\n",
              "      <th>82</th>\n",
              "      <td>5.8</td>\n",
              "      <td>2.7</td>\n",
              "      <td>3.9</td>\n",
              "      <td>1.2</td>\n",
              "      <td>Iris-versicolor</td>\n",
              "    </tr>\n",
              "    <tr>\n",
              "      <th>83</th>\n",
              "      <td>6.0</td>\n",
              "      <td>2.7</td>\n",
              "      <td>5.1</td>\n",
              "      <td>1.6</td>\n",
              "      <td>Iris-versicolor</td>\n",
              "    </tr>\n",
              "    <tr>\n",
              "      <th>84</th>\n",
              "      <td>5.4</td>\n",
              "      <td>3.0</td>\n",
              "      <td>4.5</td>\n",
              "      <td>1.5</td>\n",
              "      <td>Iris-versicolor</td>\n",
              "    </tr>\n",
              "    <tr>\n",
              "      <th>85</th>\n",
              "      <td>6.0</td>\n",
              "      <td>3.4</td>\n",
              "      <td>4.5</td>\n",
              "      <td>1.6</td>\n",
              "      <td>Iris-versicolor</td>\n",
              "    </tr>\n",
              "    <tr>\n",
              "      <th>86</th>\n",
              "      <td>6.7</td>\n",
              "      <td>3.1</td>\n",
              "      <td>4.7</td>\n",
              "      <td>1.5</td>\n",
              "      <td>Iris-versicolor</td>\n",
              "    </tr>\n",
              "    <tr>\n",
              "      <th>87</th>\n",
              "      <td>6.3</td>\n",
              "      <td>2.3</td>\n",
              "      <td>4.4</td>\n",
              "      <td>1.3</td>\n",
              "      <td>Iris-versicolor</td>\n",
              "    </tr>\n",
              "    <tr>\n",
              "      <th>88</th>\n",
              "      <td>5.6</td>\n",
              "      <td>3.0</td>\n",
              "      <td>4.1</td>\n",
              "      <td>1.3</td>\n",
              "      <td>Iris-versicolor</td>\n",
              "    </tr>\n",
              "    <tr>\n",
              "      <th>89</th>\n",
              "      <td>5.5</td>\n",
              "      <td>2.5</td>\n",
              "      <td>4.0</td>\n",
              "      <td>1.3</td>\n",
              "      <td>Iris-versicolor</td>\n",
              "    </tr>\n",
              "    <tr>\n",
              "      <th>90</th>\n",
              "      <td>5.5</td>\n",
              "      <td>2.6</td>\n",
              "      <td>4.4</td>\n",
              "      <td>1.2</td>\n",
              "      <td>Iris-versicolor</td>\n",
              "    </tr>\n",
              "    <tr>\n",
              "      <th>91</th>\n",
              "      <td>6.1</td>\n",
              "      <td>3.0</td>\n",
              "      <td>4.6</td>\n",
              "      <td>1.4</td>\n",
              "      <td>Iris-versicolor</td>\n",
              "    </tr>\n",
              "    <tr>\n",
              "      <th>92</th>\n",
              "      <td>5.8</td>\n",
              "      <td>2.6</td>\n",
              "      <td>4.0</td>\n",
              "      <td>1.2</td>\n",
              "      <td>Iris-versicolor</td>\n",
              "    </tr>\n",
              "    <tr>\n",
              "      <th>93</th>\n",
              "      <td>5.0</td>\n",
              "      <td>2.3</td>\n",
              "      <td>3.3</td>\n",
              "      <td>1.0</td>\n",
              "      <td>Iris-versicolor</td>\n",
              "    </tr>\n",
              "    <tr>\n",
              "      <th>94</th>\n",
              "      <td>5.6</td>\n",
              "      <td>2.7</td>\n",
              "      <td>4.2</td>\n",
              "      <td>1.3</td>\n",
              "      <td>Iris-versicolor</td>\n",
              "    </tr>\n",
              "    <tr>\n",
              "      <th>95</th>\n",
              "      <td>5.7</td>\n",
              "      <td>3.0</td>\n",
              "      <td>4.2</td>\n",
              "      <td>1.2</td>\n",
              "      <td>Iris-versicolor</td>\n",
              "    </tr>\n",
              "    <tr>\n",
              "      <th>96</th>\n",
              "      <td>5.7</td>\n",
              "      <td>2.9</td>\n",
              "      <td>4.2</td>\n",
              "      <td>1.3</td>\n",
              "      <td>Iris-versicolor</td>\n",
              "    </tr>\n",
              "    <tr>\n",
              "      <th>97</th>\n",
              "      <td>6.2</td>\n",
              "      <td>2.9</td>\n",
              "      <td>4.3</td>\n",
              "      <td>1.3</td>\n",
              "      <td>Iris-versicolor</td>\n",
              "    </tr>\n",
              "    <tr>\n",
              "      <th>98</th>\n",
              "      <td>5.1</td>\n",
              "      <td>2.5</td>\n",
              "      <td>3.0</td>\n",
              "      <td>1.1</td>\n",
              "      <td>Iris-versicolor</td>\n",
              "    </tr>\n",
              "    <tr>\n",
              "      <th>99</th>\n",
              "      <td>5.7</td>\n",
              "      <td>2.8</td>\n",
              "      <td>4.1</td>\n",
              "      <td>1.3</td>\n",
              "      <td>Iris-versicolor</td>\n",
              "    </tr>\n",
              "  </tbody>\n",
              "</table>\n",
              "</div>"
            ],
            "text/plain": [
              "    SepalLengthCm  SepalWidthCm  PetalLengthCm  PetalWidthCm          Species\n",
              "50            7.0           3.2            4.7           1.4  Iris-versicolor\n",
              "51            6.4           3.2            4.5           1.5  Iris-versicolor\n",
              "52            6.9           3.1            4.9           1.5  Iris-versicolor\n",
              "53            5.5           2.3            4.0           1.3  Iris-versicolor\n",
              "54            6.5           2.8            4.6           1.5  Iris-versicolor\n",
              "55            5.7           2.8            4.5           1.3  Iris-versicolor\n",
              "56            6.3           3.3            4.7           1.6  Iris-versicolor\n",
              "57            4.9           2.4            3.3           1.0  Iris-versicolor\n",
              "58            6.6           2.9            4.6           1.3  Iris-versicolor\n",
              "59            5.2           2.7            3.9           1.4  Iris-versicolor\n",
              "60            5.0           2.0            3.5           1.0  Iris-versicolor\n",
              "61            5.9           3.0            4.2           1.5  Iris-versicolor\n",
              "62            6.0           2.2            4.0           1.0  Iris-versicolor\n",
              "63            6.1           2.9            4.7           1.4  Iris-versicolor\n",
              "64            5.6           2.9            3.6           1.3  Iris-versicolor\n",
              "65            6.7           3.1            4.4           1.4  Iris-versicolor\n",
              "66            5.6           3.0            4.5           1.5  Iris-versicolor\n",
              "67            5.8           2.7            4.1           1.0  Iris-versicolor\n",
              "68            6.2           2.2            4.5           1.5  Iris-versicolor\n",
              "69            5.6           2.5            3.9           1.1  Iris-versicolor\n",
              "70            5.9           3.2            4.8           1.8  Iris-versicolor\n",
              "71            6.1           2.8            4.0           1.3  Iris-versicolor\n",
              "72            6.3           2.5            4.9           1.5  Iris-versicolor\n",
              "73            6.1           2.8            4.7           1.2  Iris-versicolor\n",
              "74            6.4           2.9            4.3           1.3  Iris-versicolor\n",
              "75            6.6           3.0            4.4           1.4  Iris-versicolor\n",
              "76            6.8           2.8            4.8           1.4  Iris-versicolor\n",
              "77            6.7           3.0            5.0           1.7  Iris-versicolor\n",
              "78            6.0           2.9            4.5           1.5  Iris-versicolor\n",
              "79            5.7           2.6            3.5           1.0  Iris-versicolor\n",
              "80            5.5           2.4            3.8           1.1  Iris-versicolor\n",
              "81            5.5           2.4            3.7           1.0  Iris-versicolor\n",
              "82            5.8           2.7            3.9           1.2  Iris-versicolor\n",
              "83            6.0           2.7            5.1           1.6  Iris-versicolor\n",
              "84            5.4           3.0            4.5           1.5  Iris-versicolor\n",
              "85            6.0           3.4            4.5           1.6  Iris-versicolor\n",
              "86            6.7           3.1            4.7           1.5  Iris-versicolor\n",
              "87            6.3           2.3            4.4           1.3  Iris-versicolor\n",
              "88            5.6           3.0            4.1           1.3  Iris-versicolor\n",
              "89            5.5           2.5            4.0           1.3  Iris-versicolor\n",
              "90            5.5           2.6            4.4           1.2  Iris-versicolor\n",
              "91            6.1           3.0            4.6           1.4  Iris-versicolor\n",
              "92            5.8           2.6            4.0           1.2  Iris-versicolor\n",
              "93            5.0           2.3            3.3           1.0  Iris-versicolor\n",
              "94            5.6           2.7            4.2           1.3  Iris-versicolor\n",
              "95            5.7           3.0            4.2           1.2  Iris-versicolor\n",
              "96            5.7           2.9            4.2           1.3  Iris-versicolor\n",
              "97            6.2           2.9            4.3           1.3  Iris-versicolor\n",
              "98            5.1           2.5            3.0           1.1  Iris-versicolor\n",
              "99            5.7           2.8            4.1           1.3  Iris-versicolor"
            ]
          },
          "execution_count": 17,
          "metadata": {},
          "output_type": "execute_result"
        }
      ],
      "source": [
        "versicolor"
      ]
    },
    {
      "cell_type": "code",
      "execution_count": 18,
      "metadata": {},
      "outputs": [
        {
          "data": {
            "text/html": [
              "<div>\n",
              "<style scoped>\n",
              "    .dataframe tbody tr th:only-of-type {\n",
              "        vertical-align: middle;\n",
              "    }\n",
              "\n",
              "    .dataframe tbody tr th {\n",
              "        vertical-align: top;\n",
              "    }\n",
              "\n",
              "    .dataframe thead th {\n",
              "        text-align: right;\n",
              "    }\n",
              "</style>\n",
              "<table border=\"1\" class=\"dataframe\">\n",
              "  <thead>\n",
              "    <tr style=\"text-align: right;\">\n",
              "      <th></th>\n",
              "      <th>SepalLengthCm</th>\n",
              "      <th>SepalWidthCm</th>\n",
              "      <th>PetalLengthCm</th>\n",
              "      <th>PetalWidthCm</th>\n",
              "      <th>Species</th>\n",
              "    </tr>\n",
              "  </thead>\n",
              "  <tbody>\n",
              "    <tr>\n",
              "      <th>100</th>\n",
              "      <td>6.3</td>\n",
              "      <td>3.3</td>\n",
              "      <td>6.0</td>\n",
              "      <td>2.5</td>\n",
              "      <td>Iris-virginica</td>\n",
              "    </tr>\n",
              "    <tr>\n",
              "      <th>101</th>\n",
              "      <td>5.8</td>\n",
              "      <td>2.7</td>\n",
              "      <td>5.1</td>\n",
              "      <td>1.9</td>\n",
              "      <td>Iris-virginica</td>\n",
              "    </tr>\n",
              "    <tr>\n",
              "      <th>102</th>\n",
              "      <td>7.1</td>\n",
              "      <td>3.0</td>\n",
              "      <td>5.9</td>\n",
              "      <td>2.1</td>\n",
              "      <td>Iris-virginica</td>\n",
              "    </tr>\n",
              "    <tr>\n",
              "      <th>103</th>\n",
              "      <td>6.3</td>\n",
              "      <td>2.9</td>\n",
              "      <td>5.6</td>\n",
              "      <td>1.8</td>\n",
              "      <td>Iris-virginica</td>\n",
              "    </tr>\n",
              "    <tr>\n",
              "      <th>104</th>\n",
              "      <td>6.5</td>\n",
              "      <td>3.0</td>\n",
              "      <td>5.8</td>\n",
              "      <td>2.2</td>\n",
              "      <td>Iris-virginica</td>\n",
              "    </tr>\n",
              "    <tr>\n",
              "      <th>105</th>\n",
              "      <td>7.6</td>\n",
              "      <td>3.0</td>\n",
              "      <td>6.6</td>\n",
              "      <td>2.1</td>\n",
              "      <td>Iris-virginica</td>\n",
              "    </tr>\n",
              "    <tr>\n",
              "      <th>106</th>\n",
              "      <td>4.9</td>\n",
              "      <td>2.5</td>\n",
              "      <td>4.5</td>\n",
              "      <td>1.7</td>\n",
              "      <td>Iris-virginica</td>\n",
              "    </tr>\n",
              "    <tr>\n",
              "      <th>107</th>\n",
              "      <td>7.3</td>\n",
              "      <td>2.9</td>\n",
              "      <td>6.3</td>\n",
              "      <td>1.8</td>\n",
              "      <td>Iris-virginica</td>\n",
              "    </tr>\n",
              "    <tr>\n",
              "      <th>108</th>\n",
              "      <td>6.7</td>\n",
              "      <td>2.5</td>\n",
              "      <td>5.8</td>\n",
              "      <td>1.8</td>\n",
              "      <td>Iris-virginica</td>\n",
              "    </tr>\n",
              "    <tr>\n",
              "      <th>109</th>\n",
              "      <td>7.2</td>\n",
              "      <td>3.6</td>\n",
              "      <td>6.1</td>\n",
              "      <td>2.5</td>\n",
              "      <td>Iris-virginica</td>\n",
              "    </tr>\n",
              "    <tr>\n",
              "      <th>110</th>\n",
              "      <td>6.5</td>\n",
              "      <td>3.2</td>\n",
              "      <td>5.1</td>\n",
              "      <td>2.0</td>\n",
              "      <td>Iris-virginica</td>\n",
              "    </tr>\n",
              "    <tr>\n",
              "      <th>111</th>\n",
              "      <td>6.4</td>\n",
              "      <td>2.7</td>\n",
              "      <td>5.3</td>\n",
              "      <td>1.9</td>\n",
              "      <td>Iris-virginica</td>\n",
              "    </tr>\n",
              "    <tr>\n",
              "      <th>112</th>\n",
              "      <td>6.8</td>\n",
              "      <td>3.0</td>\n",
              "      <td>5.5</td>\n",
              "      <td>2.1</td>\n",
              "      <td>Iris-virginica</td>\n",
              "    </tr>\n",
              "    <tr>\n",
              "      <th>113</th>\n",
              "      <td>5.7</td>\n",
              "      <td>2.5</td>\n",
              "      <td>5.0</td>\n",
              "      <td>2.0</td>\n",
              "      <td>Iris-virginica</td>\n",
              "    </tr>\n",
              "    <tr>\n",
              "      <th>114</th>\n",
              "      <td>5.8</td>\n",
              "      <td>2.8</td>\n",
              "      <td>5.1</td>\n",
              "      <td>2.4</td>\n",
              "      <td>Iris-virginica</td>\n",
              "    </tr>\n",
              "    <tr>\n",
              "      <th>115</th>\n",
              "      <td>6.4</td>\n",
              "      <td>3.2</td>\n",
              "      <td>5.3</td>\n",
              "      <td>2.3</td>\n",
              "      <td>Iris-virginica</td>\n",
              "    </tr>\n",
              "    <tr>\n",
              "      <th>116</th>\n",
              "      <td>6.5</td>\n",
              "      <td>3.0</td>\n",
              "      <td>5.5</td>\n",
              "      <td>1.8</td>\n",
              "      <td>Iris-virginica</td>\n",
              "    </tr>\n",
              "    <tr>\n",
              "      <th>117</th>\n",
              "      <td>7.7</td>\n",
              "      <td>3.8</td>\n",
              "      <td>6.7</td>\n",
              "      <td>2.2</td>\n",
              "      <td>Iris-virginica</td>\n",
              "    </tr>\n",
              "    <tr>\n",
              "      <th>118</th>\n",
              "      <td>7.7</td>\n",
              "      <td>2.6</td>\n",
              "      <td>6.9</td>\n",
              "      <td>2.3</td>\n",
              "      <td>Iris-virginica</td>\n",
              "    </tr>\n",
              "    <tr>\n",
              "      <th>119</th>\n",
              "      <td>6.0</td>\n",
              "      <td>2.2</td>\n",
              "      <td>5.0</td>\n",
              "      <td>1.5</td>\n",
              "      <td>Iris-virginica</td>\n",
              "    </tr>\n",
              "    <tr>\n",
              "      <th>120</th>\n",
              "      <td>6.9</td>\n",
              "      <td>3.2</td>\n",
              "      <td>5.7</td>\n",
              "      <td>2.3</td>\n",
              "      <td>Iris-virginica</td>\n",
              "    </tr>\n",
              "    <tr>\n",
              "      <th>121</th>\n",
              "      <td>5.6</td>\n",
              "      <td>2.8</td>\n",
              "      <td>4.9</td>\n",
              "      <td>2.0</td>\n",
              "      <td>Iris-virginica</td>\n",
              "    </tr>\n",
              "    <tr>\n",
              "      <th>122</th>\n",
              "      <td>7.7</td>\n",
              "      <td>2.8</td>\n",
              "      <td>6.7</td>\n",
              "      <td>2.0</td>\n",
              "      <td>Iris-virginica</td>\n",
              "    </tr>\n",
              "    <tr>\n",
              "      <th>123</th>\n",
              "      <td>6.3</td>\n",
              "      <td>2.7</td>\n",
              "      <td>4.9</td>\n",
              "      <td>1.8</td>\n",
              "      <td>Iris-virginica</td>\n",
              "    </tr>\n",
              "    <tr>\n",
              "      <th>124</th>\n",
              "      <td>6.7</td>\n",
              "      <td>3.3</td>\n",
              "      <td>5.7</td>\n",
              "      <td>2.1</td>\n",
              "      <td>Iris-virginica</td>\n",
              "    </tr>\n",
              "    <tr>\n",
              "      <th>125</th>\n",
              "      <td>7.2</td>\n",
              "      <td>3.2</td>\n",
              "      <td>6.0</td>\n",
              "      <td>1.8</td>\n",
              "      <td>Iris-virginica</td>\n",
              "    </tr>\n",
              "    <tr>\n",
              "      <th>126</th>\n",
              "      <td>6.2</td>\n",
              "      <td>2.8</td>\n",
              "      <td>4.8</td>\n",
              "      <td>1.8</td>\n",
              "      <td>Iris-virginica</td>\n",
              "    </tr>\n",
              "    <tr>\n",
              "      <th>127</th>\n",
              "      <td>6.1</td>\n",
              "      <td>3.0</td>\n",
              "      <td>4.9</td>\n",
              "      <td>1.8</td>\n",
              "      <td>Iris-virginica</td>\n",
              "    </tr>\n",
              "    <tr>\n",
              "      <th>128</th>\n",
              "      <td>6.4</td>\n",
              "      <td>2.8</td>\n",
              "      <td>5.6</td>\n",
              "      <td>2.1</td>\n",
              "      <td>Iris-virginica</td>\n",
              "    </tr>\n",
              "    <tr>\n",
              "      <th>129</th>\n",
              "      <td>7.2</td>\n",
              "      <td>3.0</td>\n",
              "      <td>5.8</td>\n",
              "      <td>1.6</td>\n",
              "      <td>Iris-virginica</td>\n",
              "    </tr>\n",
              "    <tr>\n",
              "      <th>130</th>\n",
              "      <td>7.4</td>\n",
              "      <td>2.8</td>\n",
              "      <td>6.1</td>\n",
              "      <td>1.9</td>\n",
              "      <td>Iris-virginica</td>\n",
              "    </tr>\n",
              "    <tr>\n",
              "      <th>131</th>\n",
              "      <td>7.9</td>\n",
              "      <td>3.8</td>\n",
              "      <td>6.4</td>\n",
              "      <td>2.0</td>\n",
              "      <td>Iris-virginica</td>\n",
              "    </tr>\n",
              "    <tr>\n",
              "      <th>132</th>\n",
              "      <td>6.4</td>\n",
              "      <td>2.8</td>\n",
              "      <td>5.6</td>\n",
              "      <td>2.2</td>\n",
              "      <td>Iris-virginica</td>\n",
              "    </tr>\n",
              "    <tr>\n",
              "      <th>133</th>\n",
              "      <td>6.3</td>\n",
              "      <td>2.8</td>\n",
              "      <td>5.1</td>\n",
              "      <td>1.5</td>\n",
              "      <td>Iris-virginica</td>\n",
              "    </tr>\n",
              "    <tr>\n",
              "      <th>134</th>\n",
              "      <td>6.1</td>\n",
              "      <td>2.6</td>\n",
              "      <td>5.6</td>\n",
              "      <td>1.4</td>\n",
              "      <td>Iris-virginica</td>\n",
              "    </tr>\n",
              "    <tr>\n",
              "      <th>135</th>\n",
              "      <td>7.7</td>\n",
              "      <td>3.0</td>\n",
              "      <td>6.1</td>\n",
              "      <td>2.3</td>\n",
              "      <td>Iris-virginica</td>\n",
              "    </tr>\n",
              "    <tr>\n",
              "      <th>136</th>\n",
              "      <td>6.3</td>\n",
              "      <td>3.4</td>\n",
              "      <td>5.6</td>\n",
              "      <td>2.4</td>\n",
              "      <td>Iris-virginica</td>\n",
              "    </tr>\n",
              "    <tr>\n",
              "      <th>137</th>\n",
              "      <td>6.4</td>\n",
              "      <td>3.1</td>\n",
              "      <td>5.5</td>\n",
              "      <td>1.8</td>\n",
              "      <td>Iris-virginica</td>\n",
              "    </tr>\n",
              "    <tr>\n",
              "      <th>138</th>\n",
              "      <td>6.0</td>\n",
              "      <td>3.0</td>\n",
              "      <td>4.8</td>\n",
              "      <td>1.8</td>\n",
              "      <td>Iris-virginica</td>\n",
              "    </tr>\n",
              "    <tr>\n",
              "      <th>139</th>\n",
              "      <td>6.9</td>\n",
              "      <td>3.1</td>\n",
              "      <td>5.4</td>\n",
              "      <td>2.1</td>\n",
              "      <td>Iris-virginica</td>\n",
              "    </tr>\n",
              "    <tr>\n",
              "      <th>140</th>\n",
              "      <td>6.7</td>\n",
              "      <td>3.1</td>\n",
              "      <td>5.6</td>\n",
              "      <td>2.4</td>\n",
              "      <td>Iris-virginica</td>\n",
              "    </tr>\n",
              "    <tr>\n",
              "      <th>141</th>\n",
              "      <td>6.9</td>\n",
              "      <td>3.1</td>\n",
              "      <td>5.1</td>\n",
              "      <td>2.3</td>\n",
              "      <td>Iris-virginica</td>\n",
              "    </tr>\n",
              "    <tr>\n",
              "      <th>142</th>\n",
              "      <td>5.8</td>\n",
              "      <td>2.7</td>\n",
              "      <td>5.1</td>\n",
              "      <td>1.9</td>\n",
              "      <td>Iris-virginica</td>\n",
              "    </tr>\n",
              "    <tr>\n",
              "      <th>143</th>\n",
              "      <td>6.8</td>\n",
              "      <td>3.2</td>\n",
              "      <td>5.9</td>\n",
              "      <td>2.3</td>\n",
              "      <td>Iris-virginica</td>\n",
              "    </tr>\n",
              "    <tr>\n",
              "      <th>144</th>\n",
              "      <td>6.7</td>\n",
              "      <td>3.3</td>\n",
              "      <td>5.7</td>\n",
              "      <td>2.5</td>\n",
              "      <td>Iris-virginica</td>\n",
              "    </tr>\n",
              "    <tr>\n",
              "      <th>145</th>\n",
              "      <td>6.7</td>\n",
              "      <td>3.0</td>\n",
              "      <td>5.2</td>\n",
              "      <td>2.3</td>\n",
              "      <td>Iris-virginica</td>\n",
              "    </tr>\n",
              "    <tr>\n",
              "      <th>146</th>\n",
              "      <td>6.3</td>\n",
              "      <td>2.5</td>\n",
              "      <td>5.0</td>\n",
              "      <td>1.9</td>\n",
              "      <td>Iris-virginica</td>\n",
              "    </tr>\n",
              "    <tr>\n",
              "      <th>147</th>\n",
              "      <td>6.5</td>\n",
              "      <td>3.0</td>\n",
              "      <td>5.2</td>\n",
              "      <td>2.0</td>\n",
              "      <td>Iris-virginica</td>\n",
              "    </tr>\n",
              "    <tr>\n",
              "      <th>148</th>\n",
              "      <td>6.2</td>\n",
              "      <td>3.4</td>\n",
              "      <td>5.4</td>\n",
              "      <td>2.3</td>\n",
              "      <td>Iris-virginica</td>\n",
              "    </tr>\n",
              "    <tr>\n",
              "      <th>149</th>\n",
              "      <td>5.9</td>\n",
              "      <td>3.0</td>\n",
              "      <td>5.1</td>\n",
              "      <td>1.8</td>\n",
              "      <td>Iris-virginica</td>\n",
              "    </tr>\n",
              "  </tbody>\n",
              "</table>\n",
              "</div>"
            ],
            "text/plain": [
              "     SepalLengthCm  SepalWidthCm  PetalLengthCm  PetalWidthCm         Species\n",
              "100            6.3           3.3            6.0           2.5  Iris-virginica\n",
              "101            5.8           2.7            5.1           1.9  Iris-virginica\n",
              "102            7.1           3.0            5.9           2.1  Iris-virginica\n",
              "103            6.3           2.9            5.6           1.8  Iris-virginica\n",
              "104            6.5           3.0            5.8           2.2  Iris-virginica\n",
              "105            7.6           3.0            6.6           2.1  Iris-virginica\n",
              "106            4.9           2.5            4.5           1.7  Iris-virginica\n",
              "107            7.3           2.9            6.3           1.8  Iris-virginica\n",
              "108            6.7           2.5            5.8           1.8  Iris-virginica\n",
              "109            7.2           3.6            6.1           2.5  Iris-virginica\n",
              "110            6.5           3.2            5.1           2.0  Iris-virginica\n",
              "111            6.4           2.7            5.3           1.9  Iris-virginica\n",
              "112            6.8           3.0            5.5           2.1  Iris-virginica\n",
              "113            5.7           2.5            5.0           2.0  Iris-virginica\n",
              "114            5.8           2.8            5.1           2.4  Iris-virginica\n",
              "115            6.4           3.2            5.3           2.3  Iris-virginica\n",
              "116            6.5           3.0            5.5           1.8  Iris-virginica\n",
              "117            7.7           3.8            6.7           2.2  Iris-virginica\n",
              "118            7.7           2.6            6.9           2.3  Iris-virginica\n",
              "119            6.0           2.2            5.0           1.5  Iris-virginica\n",
              "120            6.9           3.2            5.7           2.3  Iris-virginica\n",
              "121            5.6           2.8            4.9           2.0  Iris-virginica\n",
              "122            7.7           2.8            6.7           2.0  Iris-virginica\n",
              "123            6.3           2.7            4.9           1.8  Iris-virginica\n",
              "124            6.7           3.3            5.7           2.1  Iris-virginica\n",
              "125            7.2           3.2            6.0           1.8  Iris-virginica\n",
              "126            6.2           2.8            4.8           1.8  Iris-virginica\n",
              "127            6.1           3.0            4.9           1.8  Iris-virginica\n",
              "128            6.4           2.8            5.6           2.1  Iris-virginica\n",
              "129            7.2           3.0            5.8           1.6  Iris-virginica\n",
              "130            7.4           2.8            6.1           1.9  Iris-virginica\n",
              "131            7.9           3.8            6.4           2.0  Iris-virginica\n",
              "132            6.4           2.8            5.6           2.2  Iris-virginica\n",
              "133            6.3           2.8            5.1           1.5  Iris-virginica\n",
              "134            6.1           2.6            5.6           1.4  Iris-virginica\n",
              "135            7.7           3.0            6.1           2.3  Iris-virginica\n",
              "136            6.3           3.4            5.6           2.4  Iris-virginica\n",
              "137            6.4           3.1            5.5           1.8  Iris-virginica\n",
              "138            6.0           3.0            4.8           1.8  Iris-virginica\n",
              "139            6.9           3.1            5.4           2.1  Iris-virginica\n",
              "140            6.7           3.1            5.6           2.4  Iris-virginica\n",
              "141            6.9           3.1            5.1           2.3  Iris-virginica\n",
              "142            5.8           2.7            5.1           1.9  Iris-virginica\n",
              "143            6.8           3.2            5.9           2.3  Iris-virginica\n",
              "144            6.7           3.3            5.7           2.5  Iris-virginica\n",
              "145            6.7           3.0            5.2           2.3  Iris-virginica\n",
              "146            6.3           2.5            5.0           1.9  Iris-virginica\n",
              "147            6.5           3.0            5.2           2.0  Iris-virginica\n",
              "148            6.2           3.4            5.4           2.3  Iris-virginica\n",
              "149            5.9           3.0            5.1           1.8  Iris-virginica"
            ]
          },
          "execution_count": 18,
          "metadata": {},
          "output_type": "execute_result"
        }
      ],
      "source": [
        "virginica"
      ]
    },
    {
      "cell_type": "code",
      "execution_count": 19,
      "metadata": {},
      "outputs": [
        {
          "data": {
            "image/png": "[encoded data removed]",
            "text/plain": [
              "<Figure size 432x288 with 1 Axes>"
            ]
          },
          "metadata": {
            "needs_background": "light"
          },
          "output_type": "display_data"
        }
      ],
      "source": [
        "setosa.plot(x='SepalLengthCm',y='SepalWidthCm',kind='scatter',label='setosa',color='r')\n",
        "plt.title(\"Scatter Plot - Setosa\")\n",
        "plt.xlabel('SepalLengthCm')\n",
        "plt.ylabel('SepalWidthCm')\n",
        "plt.show()"
      ]
    },
    {
      "cell_type": "code",
      "execution_count": 30,
      "metadata": {},
      "outputs": [
        {
          "data": {
            "image/png": "[encoded data removed]",
            "text/plain": [
              "<Figure size 432x288 with 1 Axes>"
            ]
          },
          "metadata": {
            "needs_background": "light"
          },
          "output_type": "display_data"
        }
      ],
      "source": [
        "setosa[\"SepalWidthCm\"].plot(kind='line',label='setosa',color='c',linestyle='dashdot')\n",
        "plt.title(\"Scatter Plot - Setosa\")\n",
        "# plt.xlabel('SepalLengthCm')\n",
        "plt.xlabel('SepalWidthCm')\n",
        "plt.show()"
      ]
    },
    {
      "cell_type": "code",
      "execution_count": 34,
      "metadata": {},
      "outputs": [
        {
          "data": {
            "image/png": "[encoded data removed]",
            "text/plain": [
              "<Figure size 432x288 with 1 Axes>"
            ]
          },
          "metadata": {
            "needs_background": "light"
          },
          "output_type": "display_data"
        }
      ],
      "source": [
        "setosa[\"SepalWidthCm\"].plot(kind='line',label='setosa',color='b',linestyle='dotted')\n",
        "versicolor[\"SepalWidthCm\"].plot(kind='line',label='setosa',color='r',linestyle='dotted')\n",
        "virginica[\"SepalWidthCm\"].plot(kind='line',label='setosa',color='g',linestyle='dotted')\n",
        "plt.title(\"Scatter Plot - Setosa\")\n",
        "plt.xlabel('SepalWidthCm')\n",
        "plt.show()"
      ]
    },
    {
      "cell_type": "code",
      "execution_count": 45,
      "metadata": {},
      "outputs": [
        {
          "data": {
            "image/png": "[encoded data removed]",
            "text/plain": [
              "<Figure size 432x288 with 1 Axes>"
            ]
          },
          "metadata": {
            "needs_background": "light"
          },
          "output_type": "display_data"
        },
        {
          "name": "stdout",
          "output_type": "stream",
          "text": [
            "SETOSA\n",
            "\n",
            " PetalWidthCm min :  0.1\n",
            " PetalWidthCm max :  0.6\n",
            "\n",
            " PetalLengthCm min :  1.0\n",
            " PetalLengthCm max :  1.9\n",
            "\n",
            " SepalWidthCm min :  2.3\n",
            " SepalWidthCm max :  4.4\n",
            "\n",
            " SepalLengthCm min :  4.3\n",
            " SepalLengthCm max :  5.8\n"
          ]
        }
      ],
      "source": [
        "setosa.plot.area(stacked=False)\n",
        "plt.show()\n",
        "print(\"SETOSA\")\n",
        "print()\n",
        "print(\" PetalWidthCm min : \",setosa['PetalWidthCm'].min())\n",
        "print(\" PetalWidthCm max : \",setosa['PetalWidthCm'].max())\n",
        "print()\n",
        "print(\" PetalLengthCm min : \",setosa['PetalLengthCm'].min())\n",
        "print(\" PetalLengthCm max : \",setosa['PetalLengthCm'].max())\n",
        "print()\n",
        "print(\" SepalWidthCm min : \",setosa['SepalWidthCm'].min())\n",
        "print(\" SepalWidthCm max : \",setosa['SepalWidthCm'].max())\n",
        "print()\n",
        "print(\" SepalLengthCm min : \",setosa['SepalLengthCm'].min())\n",
        "print(\" SepalLengthCm max : \",setosa['SepalLengthCm'].max())"
      ]
    },
    {
      "cell_type": "code",
      "execution_count": 46,
      "metadata": {},
      "outputs": [
        {
          "data": {
            "image/png": "[encoded data removed]",
            "text/plain": [
              "<Figure size 432x288 with 1 Axes>"
            ]
          },
          "metadata": {
            "needs_background": "light"
          },
          "output_type": "display_data"
        },
        {
          "name": "stdout",
          "output_type": "stream",
          "text": [
            "VERSICOLOR\n",
            "\n",
            " PetalWidthCm min :  1.0\n",
            " PetalWidthCm max :  1.8\n",
            "\n",
            " PetalLengthCm min :  3.0\n",
            " PetalLengthCm max :  5.1\n",
            "\n",
            " SepalWidthCm min :  2.0\n",
            " SepalWidthCm max :  3.4\n",
            "\n",
            " SepalLengthCm min :  4.9\n",
            " SepalLengthCm max :  7.0\n"
          ]
        }
      ],
      "source": [
        "versicolor.plot.area(stacked=False)\n",
        "plt.show()\n",
        "print(\"VERSICOLOR\")\n",
        "print()\n",
        "print(\" PetalWidthCm min : \",versicolor['PetalWidthCm'].min())\n",
        "print(\" PetalWidthCm max : \",versicolor['PetalWidthCm'].max())\n",
        "print()\n",
        "print(\" PetalLengthCm min : \",versicolor['PetalLengthCm'].min())\n",
        "print(\" PetalLengthCm max : \",versicolor['PetalLengthCm'].max())\n",
        "print()\n",
        "print(\" SepalWidthCm min : \",versicolor['SepalWidthCm'].min())\n",
        "print(\" SepalWidthCm max : \",versicolor['SepalWidthCm'].max())\n",
        "print()\n",
        "print(\" SepalLengthCm min : \",versicolor['SepalLengthCm'].min())\n",
        "print(\" SepalLengthCm max : \",versicolor['SepalLengthCm'].max())"
      ]
    },
    {
      "cell_type": "code",
      "execution_count": 47,
      "metadata": {},
      "outputs": [
        {
          "data": {
            "image/png": "[encoded data removed]",
            "text/plain": [
              "<Figure size 432x288 with 1 Axes>"
            ]
          },
          "metadata": {
            "needs_background": "light"
          },
          "output_type": "display_data"
        },
        {
          "name": "stdout",
          "output_type": "stream",
          "text": [
            "VIRGINICA\n",
            "\n",
            " PetalWidthCm min :  1.4\n",
            " PetalWidthCm max :  2.5\n",
            "\n",
            " PetalLengthCm min :  4.5\n",
            " PetalLengthCm max :  6.9\n",
            "\n",
            " SepalWidthCm min :  2.2\n",
            " SepalWidthCm max :  3.8\n",
            "\n",
            " SepalLengthCm min :  4.9\n",
            " SepalLengthCm max :  7.9\n"
          ]
        }
      ],
      "source": [
        "virginica.plot.area(stacked=False)\n",
        "plt.show()\n",
        "print(\"VIRGINICA\")\n",
        "print()\n",
        "print(\" PetalWidthCm min : \",virginica['PetalWidthCm'].min())\n",
        "print(\" PetalWidthCm max : \",virginica['PetalWidthCm'].max())\n",
        "print()\n",
        "print(\" PetalLengthCm min : \",virginica['PetalLengthCm'].min())\n",
        "print(\" PetalLengthCm max : \",virginica['PetalLengthCm'].max())\n",
        "print()\n",
        "print(\" SepalWidthCm min : \",virginica['SepalWidthCm'].min())\n",
        "print(\" SepalWidthCm max : \",virginica['SepalWidthCm'].max())\n",
        "print()\n",
        "print(\" SepalLengthCm min : \",virginica['SepalLengthCm'].min())\n",
        "print(\" SepalLengthCm max : \",virginica['SepalLengthCm'].max())"
      ]
    }
  ],
  "metadata": {
    "colab": {
      "provenance": []
    },
    "kernelspec": {
      "display_name": "Python 3",
      "name": "python3"
    },
    "language_info": {
      "codemirror_mode": {
        "name": "ipython",
        "version": 3
      },
      "file_extension": ".py",
      "mimetype": "text/x-python",
      "name": "python",
      "nbconvert_exporter": "python",
      "pygments_lexer": "ipython3",
      "version": "3.10.4"
    }
  },
  "nbformat": 4,
  "nbformat_minor": 0
}
