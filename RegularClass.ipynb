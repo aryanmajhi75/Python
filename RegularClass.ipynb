{
  "cells": [
    {
      "cell_type": "code",
      "execution_count": 2,
      "metadata": {},
      "outputs": [],
      "source": [
        "import numpy as np\n",
        "import pandas as pd"
      ]
    },
    {
      "cell_type": "markdown",
      "metadata": {
        "id": "jYWSWuMqF2Gv"
      },
      "source": [
        "Lambda"
      ]
    },
    {
      "cell_type": "code",
      "execution_count": 3,
      "metadata": {
        "colab": {
          "base_uri": "https://localhost:8080/"
        },
        "id": "dGSunCJ8FsMJ",
        "outputId": "501a1423-a152-4077-a5ee-91923ee4ca42"
      },
      "outputs": [
        {
          "name": "stdout",
          "output_type": "stream",
          "text": [
            "15\n"
          ]
        }
      ],
      "source": [
        "x=lambda a,b: a*b\n",
        "x(1,2)\n",
        "print(x(3,5))"
      ]
    },
    {
      "cell_type": "code",
      "execution_count": 4,
      "metadata": {
        "colab": {
          "base_uri": "https://localhost:8080/"
        },
        "id": "7h5ePCdQGLHq",
        "outputId": "b1855608-6ae2-44d2-dee2-9a7ba7b9c296"
      },
      "outputs": [
        {
          "name": "stdout",
          "output_type": "stream",
          "text": [
            "5\n",
            "14\n",
            "17\n"
          ]
        }
      ],
      "source": [
        "f=lambda x,y,z=0,w=0: x+2*y+3*z+4*w\n",
        "print(f(1,2))\n",
        "print(f(1,2,3))\n",
        "print(f(1,2,w=3))"
      ]
    },
    {
      "cell_type": "code",
      "execution_count": 5,
      "metadata": {
        "colab": {
          "base_uri": "https://localhost:8080/",
          "height": 134
        },
        "id": "bYTMErTEGp-W",
        "outputId": "f4acc98f-d944-42d4-ad0a-6ff6038a00a9"
      },
      "outputs": [
        {
          "ename": "SyntaxError",
          "evalue": "non-default argument follows default argument (2274469033.py, line 1)",
          "output_type": "error",
          "traceback": [
            "\u001b[1;36m  Input \u001b[1;32mIn [5]\u001b[1;36m\u001b[0m\n\u001b[1;33m    f=lambda x,y=0,z=0,w: x+2*y+3*z+4*w\u001b[0m\n\u001b[1;37m                       ^\u001b[0m\n\u001b[1;31mSyntaxError\u001b[0m\u001b[1;31m:\u001b[0m non-default argument follows default argument\n"
          ]
        }
      ],
      "source": [
        "f=lambda x,y=0,z=0,w: x+2*y+3*z+4*w\n",
        "f(1,2)"
      ]
    },
    {
      "cell_type": "markdown",
      "metadata": {
        "id": "aXOtMxJKHYad"
      },
      "source": [
        "Express the expression x^3+y^2+5 in lambda"
      ]
    },
    {
      "cell_type": "code",
      "execution_count": null,
      "metadata": {
        "colab": {
          "base_uri": "https://localhost:8080/"
        },
        "id": "6J3ooT_LG-Wx",
        "outputId": "a592bb38-3ac2-47e7-d972-4c38c98330ab"
      },
      "outputs": [
        {
          "data": {
            "text/plain": [
              "7"
            ]
          },
          "execution_count": 10,
          "metadata": {},
          "output_type": "execute_result"
        }
      ],
      "source": [
        "f=lambda x=1,y=1: pow(x,3)+pow(y,2)+5\n",
        "f()"
      ]
    },
    {
      "cell_type": "code",
      "execution_count": null,
      "metadata": {
        "colab": {
          "base_uri": "https://localhost:8080/"
        },
        "id": "T4b4EwA3LDDO",
        "outputId": "49fe53f2-50f4-4355-96db-b96680200206"
      },
      "outputs": [
        {
          "name": "stdout",
          "output_type": "stream",
          "text": [
            "ZOOM\n",
            "POP\n",
            "Cupid\n",
            "Shinzo wo Sasageyo\n",
            "Way I Am\n"
          ]
        },
        {
          "data": {
            "text/plain": [
              "[None, None, None, None, None]"
            ]
          },
          "execution_count": 12,
          "metadata": {},
          "output_type": "execute_result"
        }
      ],
      "source": [
        "songList=[\"ZOOM\",\"POP\",\"Cupid\",\"Shinzo wo Sasageyo\",\"Way I Am\"]\n",
        "\n",
        "[print(x) for x in songList]"
      ]
    },
    {
      "cell_type": "code",
      "execution_count": null,
      "metadata": {
        "colab": {
          "base_uri": "https://localhost:8080/"
        },
        "id": "y7HJxFmuL6Vo",
        "outputId": "ebe6f944-a743-48a0-f412-a4657112087a"
      },
      "outputs": [
        {
          "name": "stdout",
          "output_type": "stream",
          "text": [
            "['ZOOM', 'POP', 'Cupid', 'AOT', 'Way I Am']\n"
          ]
        }
      ],
      "source": [
        "newList=[x if x!=\"Shinzo wo Sasageyo\" else \"AOT\" for x in songList ]\n",
        "print(newList)"
      ]
    },
    {
      "cell_type": "markdown",
      "metadata": {},
      "source": [
        "CLASS"
      ]
    },
    {
      "cell_type": "code",
      "execution_count": null,
      "metadata": {},
      "outputs": [
        {
          "name": "stdout",
          "output_type": "stream",
          "text": [
            "<class '__main__.Account'>\n",
            "<__main__.Account object at 0x00000222E72A8BE0>\n",
            "Name : Anupam : 2348911549360\n",
            "Balance : 12000 : 2348939080688\n",
            "<__main__.Account object at 0x00000222E73FF4F0>\n",
            "Balance : 12000 : 2348939080144\n",
            "Value : 12345 : 2348939080176\n"
          ]
        }
      ],
      "source": [
        "class Account: #class name Account\n",
        "    pass    #\"pass\" does nothing\n",
        "\n",
        "a1=Account()    #constructor called\n",
        "a2=Account()\n",
        "\n",
        "a1.name=\"Anupam\"\n",
        "a1.bal=12000\n",
        "\n",
        "a2.surname=\"Kumar\"\n",
        "a2.value=12345\n",
        "a2.balance=12000\n",
        "print(Account)\n",
        "print(a1)\n",
        "print(f\"Name : {a1.name} : {id(a1.name)}\")\n",
        "print(f\"Balance : {a1.bal} : {id(a1.bal)}\")\n",
        "\n",
        "print(a2)\n",
        "print(f\"Balance : {a2.balance} : {id(a2.balance)}\")\n",
        "print(f\"Value : {a2.value} : {id(a2.value)}\")\n",
        "\n",
        "del(a2.value)   #Removing an attribute"
      ]
    },
    {
      "cell_type": "code",
      "execution_count": null,
      "metadata": {},
      "outputs": [
        {
          "name": "stdout",
          "output_type": "stream",
          "text": [
            "1000\n",
            "13000\n",
            "14000\n"
          ]
        }
      ],
      "source": [
        "class Account:\n",
        "    def deposit(self, amount):\n",
        "        self.balance += amount\n",
        "\n",
        "a=Account()\n",
        "# print(a.balance)\n",
        "a.balance=1000\n",
        "print(a.balance)\n",
        "a.deposit(12000)    #implicit call\n",
        "print(a.balance)\n",
        "# a.balance\n",
        "\n",
        "Account.deposit(a,1000)\n",
        "print(a.balance)    #explicit call"
      ]
    },
    {
      "cell_type": "code",
      "execution_count": null,
      "metadata": {},
      "outputs": [
        {
          "name": "stdout",
          "output_type": "stream",
          "text": [
            "10000\n",
            "9000\n",
            "None\n",
            "{'name': 'Anupam', 'accNumber': 123456789, 'balance': 9000}\n",
            "__main__\n",
            "Account Name : Anupam , Balance : 9000\n",
            "10000\n",
            "0\n",
            "{'name': 'Rishita', 'accNumber': 123456780, 'balance': 0}\n"
          ]
        }
      ],
      "source": [
        "class Account:\n",
        "    def __init__(self,name,accNumber,balance=0):\n",
        "        self.name = name\n",
        "        self.accNumber = accNumber\n",
        "        self.balance = balance\n",
        "    def deposit(self, amount):\n",
        "        if amount<=0:\n",
        "            print(\"ERROR! Negative deposit amount\")\n",
        "            return\n",
        "        self.balance += amount\n",
        "        print(self.balance)\n",
        "    def withdraw(self, amount):\n",
        "        if amount<=0:\n",
        "            print(\"ERROR! Negative deposit amount\")\n",
        "            return\n",
        "        if amount>self.balance:\n",
        "            print(\"ERROR! Insufficient deposit amount\")\n",
        "            return\n",
        "        self.balance -= amount\n",
        "    def display(self):\n",
        "        print(self.balance)\n",
        "    def __str__(self):\n",
        "        return f\"Account Name : {self.name} , Balance : {self.balance}\"\n",
        "\n",
        "a=Account(\"Anupam\",123456789,10000)\n",
        "b=Account(\"Rishita\",123456780)\n",
        "a.display()\n",
        "a.withdraw(1000)\n",
        "a.display()\n",
        "print(a.__doc__)\n",
        "print(a.__dict__)\n",
        "print(a.__module__)\n",
        "print(a.__str__())\n",
        "a.deposit(1000)\n",
        "# a.__str__()\n",
        "\n",
        "b.display()\n",
        "print(b.__dict__)"
      ]
    },
    {
      "cell_type": "code",
      "execution_count": null,
      "metadata": {},
      "outputs": [
        {
          "name": "stdout",
          "output_type": "stream",
          "text": [
            "\n",
            " Song Name : PERFECT\n",
            " Duration of the song : 3.1\n",
            " Album Name : Divide\n",
            " Artist Name : Ed Sheeran\n"
          ]
        }
      ],
      "source": [
        "class Song:\n",
        "    def __init__(self,songName,duration,album,artist):\n",
        "        self.songName = songName\n",
        "        self.duration = duration\n",
        "        self.album = album\n",
        "        self.artist = artist\n",
        "    \n",
        "    def __str__(self):\n",
        "        return f\"\\n Song Name : {self.songName}\\n Duration of the song : {self.duration}\\n Album Name : {self.album}\\n Artist Name : {self.artist}\"\n",
        "\n",
        "    def changeDuration(self,newDuration):\n",
        "        self.duration = newDuration\n",
        "    \n",
        "perfect=Song(\"PERFECT\",3.10,\"Divide\",\"Ed Sheeran\")\n",
        "print(perfect.__str__())"
      ]
    },
    {
      "cell_type": "markdown",
      "metadata": {},
      "source": [
        "INHERITANCE"
      ]
    },
    {
      "cell_type": "code",
      "execution_count": null,
      "metadata": {},
      "outputs": [],
      "source": [
        "class CreditAccount(Account):\n",
        "    pass"
      ]
    },
    {
      "cell_type": "code",
      "execution_count": null,
      "metadata": {},
      "outputs": [
        {
          "name": "stdout",
          "output_type": "stream",
          "text": [
            "Account Name : Anupam , Balance : 0\n"
          ]
        }
      ],
      "source": [
        "b1=CreditAccount(\"Anupam\",12345612)\n",
        "print(b1)"
      ]
    },
    {
      "cell_type": "markdown",
      "metadata": {},
      "source": []
    },
    {
      "cell_type": "code",
      "execution_count": null,
      "metadata": {},
      "outputs": [
        {
          "name": "stdout",
          "output_type": "stream",
          "text": [
            "Enter 10 numbers : \n",
            "\n",
            "Index 0 : 1\n",
            "\n",
            "Index 1 : 2\n",
            "\n",
            "Index 2 : 3\n",
            "\n",
            "Index 3 : 4\n",
            "\n",
            "Index 4 : 5\n",
            "\n",
            "Index 5 : 6\n",
            "\n",
            "Index 6 : 7\n",
            "\n",
            "Index 7 : 8\n",
            "\n",
            "Index 8 : 9\n",
            "\n",
            "Index 9 : 0\n",
            "Multiplication table of 1\n",
            "\n",
            "-------------\n",
            "\n",
            "| 1 * 1 =  1  |\n",
            "\n",
            "| 1 * 2 =  2  |\n",
            "\n",
            "| 1 * 3 =  3  |\n",
            "\n",
            "| 1 * 4 =  4  |\n",
            "\n",
            "| 1 * 5 =  5  |\n",
            "\n",
            "| 1 * 6 =  6  |\n",
            "\n",
            "| 1 * 7 =  7  |\n",
            "\n",
            "| 1 * 8 =  8  |\n",
            "\n",
            "| 1 * 9 =  9  |\n",
            "\n",
            "| 1 * 10 =  10 |\n",
            "\n",
            "-------------\n"
          ]
        }
      ],
      "source": [
        "mulNumber=[]\n",
        "print(\"Enter 10 numbers : \")\n",
        "for i in range(10):\n",
        "    m=int(input(\"-> \"))\n",
        "    mulNumber.append(m)\n",
        "\n",
        "for i in range(len(mulNumber)):\n",
        "    print(f\"\\nIndex {i} : {mulNumber[i]}\")\n",
        "\n",
        "select=int(input(\"Enter the index of the number u want to choose : \"))\n",
        "if(select not in range(len(mulNumber))):\n",
        "    print(\"\\nPlease input an available index\")\n",
        "    select=int(input(\"Enter the index of the number u want to choose : \"))\n",
        "else:\n",
        "    n=mulNumber[select]\n",
        "    print(f\"Multiplication table of {n}\\n\")\n",
        "    print( \"-----------------\\n\")\n",
        "    print(f\"| {n} * 1 = \",n*1,\" |\\n\")\n",
        "    print(f\"| {n} * 2 = \",n*2,\" |\\n\")\n",
        "    print(f\"| {n} * 3 = \",n*3,\" |\\n\")\n",
        "    print(f\"| {n} * 4 = \",n*4,\" |\\n\")\n",
        "    print(f\"| {n} * 5 = \",n*5,\" |\\n\")\n",
        "    print(f\"| {n} * 6 = \",n*6,\" |\\n\")\n",
        "    print(f\"| {n} * 7 = \",n*7,\" |\\n\")\n",
        "    print(f\"| {n} * 8 = \",n*8,\" |\\n\")\n",
        "    print(f\"| {n} * 9 = \",n*9,\" |\\n\")\n",
        "    print(f\"| {n} * 10 = \",n*10,\"|\\n\")\n",
        "    print( \"-----------------\")"
      ]
    },
    {
      "cell_type": "markdown",
      "metadata": {},
      "source": [
        "1. Print the status of a given interface\n",
        "2. Print all the interface and IP whose status is up\n",
        "3. Print the count of ethernet interface"
      ]
    },
    {
      "cell_type": "code",
      "execution_count": null,
      "metadata": {},
      "outputs": [
        {
          "name": "stdout",
          "output_type": "stream",
          "text": [
            "======================\n",
            "| Interface | Status |\n",
            "======================\n",
            "\n",
            "| Ethernet0 : up | \n",
            "\n",
            "| Ethernet1 : down | \n",
            "\n",
            "| Serial0 : up | \n",
            "\n",
            "| Serial1 : up | \n",
            "\n",
            "====================\n",
            "| Interface |  IP  |\n",
            "====================\n",
            "\n",
            "| Ethernet0 : 1.1.1.1 | \n",
            "\n",
            "| Serial0 : 3.3.3.3 | \n",
            "\n",
            "| Serial1 : 4.4.4.4 | \n",
            "\n",
            "====================\n",
            "| Interface |  IP  |\n",
            "====================\n",
            "\n",
            "Number of Wifi Networks having Ethernet in the name : 2\n"
          ]
        }
      ],
      "source": [
        "wifi={1:{'Interface':'Ethernet0','IP':'1.1.1.1','status':'up'},\n",
        "      2:{'Interface':'Ethernet1','IP':'2.2.2.2','status':'down'},\n",
        "      3:{'Interface':'Serial0','IP':'3.3.3.3','status':'up'},\n",
        "      4:{'Interface':'Serial1','IP':'4.4.4.4','status':'up'}}\n",
        "\n",
        "print(\"======================\")\n",
        "print(\"| Interface | Status |\")\n",
        "print(\"======================\\n\")\n",
        "for key,val in wifi.items():\n",
        "    # if val['Interface']:\n",
        "        print(f\"| {val['Interface']} : {val['status']} | \\n\")\n",
        "print(\"====================\")\n",
        "print(\"| Interface |  IP  |\")\n",
        "print(\"====================\\n\")\n",
        "for key,val in wifi.items():\n",
        "    if val['status']==\"up\":\n",
        "        print(f\"| {val['Interface']} : {val['IP']} | \\n\")\n",
        "\n",
        "count =0\n",
        "print(\"====================\")\n",
        "print(\"| Interface |  IP  |\")\n",
        "print(\"====================\\n\")\n",
        "for key,val in wifi.items():\n",
        "    if \"Ethernet\" in val['Interface']:\n",
        "        count+=1\n",
        "print(f\"Number of Wifi Networks having Ethernet in the name : {count}\")"
      ]
    },
    {
      "cell_type": "markdown",
      "metadata": {},
      "source": [
        "Single Inheritance"
      ]
    },
    {
      "cell_type": "code",
      "execution_count": null,
      "metadata": {},
      "outputs": [
        {
          "name": "stdout",
          "output_type": "stream",
          "text": [
            "School of Sciences\n",
            "School Name :  School of Sciences\n",
            "Department Name :  Department of Computer Science\n"
          ]
        }
      ],
      "source": [
        "class School:\n",
        "    def __init__(self, schoolName):\n",
        "        self.schoolName = schoolName\n",
        "    def printName(self):\n",
        "        print(\"School Name : \",self.schoolName)\n",
        "        print(\"Department Name : \",self.deptName)\n",
        "class Department(School):\n",
        "    def __init__(self,deptName,schoolName):\n",
        "        self.deptName = deptName\n",
        "        \n",
        "        School.__init__(self,schoolName)\n",
        "    # def printName(self):\n",
        "    #     print(\"School Name : \",self.schoolName)\n",
        "    #     print(\"Department Name : \",self.deptName)\n",
        "obj_1=Department(\"Department of Computer Science\",\"School of Sciences\")\n",
        "print(obj_1.schoolName)\n",
        "obj_1.printName()"
      ]
    },
    {
      "cell_type": "markdown",
      "metadata": {},
      "source": [
        "Multiple Inheritance"
      ]
    },
    {
      "cell_type": "code",
      "execution_count": null,
      "metadata": {},
      "outputs": [
        {
          "name": "stdout",
          "output_type": "stream",
          "text": [
            "Naya class 1 ka naam : Purana dept\n",
            "Purana Class Purana dept\n",
            "Naya class 2 ka naam : Purana dept\n",
            "Purana Class Purana dept\n"
          ]
        }
      ],
      "source": [
        "class Purana:\n",
        "    def __init__(self,Name):\n",
        "        self.Name = Name\n",
        "        print(\"Purana Class\",self.Name)\n",
        "\n",
        "class Naya1(Purana):\n",
        "    def __init__(self,Nayaname):\n",
        "        self.Name = Nayaname\n",
        "        print(f\"Naya class 1 ka naam : {Nayaname}\")\n",
        "        Purana.__init__(self,Nayaname)\n",
        "\n",
        "class Naya2(Purana):\n",
        "    def __init__(self,Nayaname):\n",
        "        self.Name = Nayaname\n",
        "        print(f\"Naya class 2 ka naam : {Nayaname}\")\n",
        "        Purana.__init__(self,Nayaname)\n",
        "    \n",
        "obj1=Naya1(\"Purana dept\")\n",
        "obj2=Naya2(\"Purana dept\")"
      ]
    },
    {
      "cell_type": "markdown",
      "metadata": {},
      "source": [
        "Multilevel Inheritance"
      ]
    },
    {
      "cell_type": "code",
      "execution_count": null,
      "metadata": {},
      "outputs": [
        {
          "name": "stdout",
          "output_type": "stream",
          "text": [
            "\n",
            "In Dada Class\n",
            "\n",
            "Purana Class Dada\n",
            "\n",
            "In Papa Class\n",
            "\n",
            "Naya class 1 ka naam : Papa\n",
            "\n",
            "In Dada Class\n",
            "\n",
            "Purana Class Papa\n",
            "\n",
            "In Mai Class\n",
            "\n",
            "Naya class 2 ka naam : Mai\n",
            "\n",
            "In Dada Class\n",
            "\n",
            "Purana Class Mai\n"
          ]
        }
      ],
      "source": [
        "class Dada:\n",
        "    def __init__(self,dadaNaam):\n",
        "        self.dadaNaam = dadaNaam\n",
        "        print(\"\\nIn Dada Class\")\n",
        "        print(\"\\nPurana Class\",self.dadaNaam)\n",
        "\n",
        "class Papa(Dada):\n",
        "    def __init__(self,papaNaam):\n",
        "        print(\"\\nIn Papa Class\")\n",
        "        self.papaNaam = papaNaam\n",
        "        print(f\"\\nNaya class 1 ka naam : {papaNaam}\")\n",
        "        Dada.__init__(self,papaNaam)\n",
        "\n",
        "class Mai(Papa):\n",
        "    def __init__(self,meraNaam):\n",
        "        print(\"\\nIn Mai Class\")\n",
        "        self.meraNaam = meraNaam\n",
        "        print(f\"\\nNaya class 2 ka naam : {meraNaam}\")\n",
        "        Dada.__init__(self,meraNaam)\n",
        "    \n",
        "obj1=Dada(\"Dada\")\n",
        "obj2=Papa(\"Papa\")\n",
        "obj2=Mai(\"Mai\")"
      ]
    },
    {
      "cell_type": "code",
      "execution_count": null,
      "metadata": {},
      "outputs": [
        {
          "name": "stdout",
          "output_type": "stream",
          "text": [
            "MTWTFSS\n"
          ]
        }
      ],
      "source": [
        "days=\"Mon, Tue, Wed, Thr, Fri, Sat, Sun\"\n",
        "print(days[::5])"
      ]
    },
    {
      "cell_type": "code",
      "execution_count": null,
      "metadata": {},
      "outputs": [
        {
          "name": "stdout",
          "output_type": "stream",
          "text": [
            "Area of the rectangle :  200\n",
            "Area of the rectangle :  100.0\n"
          ]
        }
      ],
      "source": [
        "from abc import ABC,abstractmethod\n",
        "\n",
        "class Shape():\n",
        "    @abstractmethod\n",
        "    def area(self):\n",
        "        pass\n",
        "\n",
        "class Rectangle(Shape):\n",
        "    def __init__(self,x,y):\n",
        "        self.l=x\n",
        "        self.b=y\n",
        "    def area(self):\n",
        "        return self.l*self.b\n",
        "\n",
        "class Triangle(Shape):\n",
        "    def __init__(self,x,y):\n",
        "        self.b=x\n",
        "        self.h=y\n",
        "    def area(self):\n",
        "        return (self.b*self.h/2)\n",
        "    \n",
        "r=Rectangle(10,20)\n",
        "print(\"Area of the rectangle : \",r.area())\n",
        "t=Triangle(10,20)\n",
        "print(\"Area of the rectangle : \",t.area())"
      ]
    },
    {
      "cell_type": "code",
      "execution_count": null,
      "metadata": {},
      "outputs": [],
      "source": [
        "inputTuple=[]\n",
        "dictReport={}\n",
        "sells=[]\n",
        "buys=[]"
      ]
    },
    {
      "cell_type": "code",
      "execution_count": null,
      "metadata": {},
      "outputs": [
        {
          "name": "stdout",
          "output_type": "stream",
          "text": [
            "[('de', 12.0, 21.0, 's')]\n",
            "[(252.0, 12.0)]\n",
            "[]\n"
          ]
        }
      ],
      "source": [
        "\n",
        "company=input(\"Enter your company initials : \")\n",
        "quantity=float(input(\"Enter quantity of units : \"))\n",
        "price=float(input(\"Enter price of units : \"))\n",
        "status=input(\"Enter your company status (b/s) : \")[0].lower()\n",
        "temp=(company,quantity,price,status)\n",
        "inputTuple.append(temp)\n",
        "\n",
        "print(inputTuple)\n",
        "\n",
        "for i in inputTuple:\n",
        "    if(i[3]=='b'):\n",
        "        temp=(i[1]*i[2],i[1])\n",
        "        buys.append(temp)\n",
        "    if(i[3]=='s'):\n",
        "        temp=(i[1]*i[2],i[1])\n",
        "        sells.append(temp)\n",
        "    print(f\"Sells : {sells}\")\n",
        "    print(f\"Buys : {buys}\")\n",
        "    # for j in i:\n",
        "    #     if(type(i)==int):\n",
        "    #         print(\"Int type\")\n",
        "    #     if (type(i)==float):\n",
        "    #         print(\"Float type\")                "
      ]
    },
    {
      "cell_type": "code",
      "execution_count": null,
      "metadata": {},
      "outputs": [
        {
          "name": "stdout",
          "output_type": "stream",
          "text": [
            "1\n"
          ]
        }
      ],
      "source": [
        "if float==type(3.0):\n",
        "    print(1)"
      ]
    },
    {
      "cell_type": "markdown",
      "metadata": {},
      "source": [
        "Write a Python program using SET to check the given sentence is Pangram and hetrogram\\\n",
        " A pangram is a unique sentence in which every letter of the alphabet is used at least once.\\\n",
        "Input : The quick brown fox jumps over the lazy dog\\\n",
        "Output : The string is a pangram\\\n",
        " Input : geeks for geeks\\\n",
        "Output : The string is not pangram\\\n",
        " A heterogram is a word, phrase, or sentence in which no letter of the alphabet occurs more than once. Examples:\\\n",
        " Input : S = \"the big dwarf only jumps\"\\\n",
        "Output : Yes\\\n",
        "Each alphabet in the string S is occurred only once.\\\n",
        "Input : S = \"geeksforgeeks\"\\\n",
        "Output : No\\\n",
        "Since alphabet 'g', 'e', 'k', 's' occurred more than once."
      ]
    },
    {
      "cell_type": "code",
      "execution_count": null,
      "metadata": {},
      "outputs": [
        {
          "name": "stdout",
          "output_type": "stream",
          "text": [
            "Sentence is Pangram\n"
          ]
        }
      ],
      "source": [
        "isPangram=set()\n",
        "nAlphabet=0\n",
        "checkPangram=input(\"Enter a sentence : \").lower()\n",
        "isPangram.update(checkPangram)\n",
        "# print(isPangram)\n",
        "for i in isPangram:\n",
        "    if i.isalpha():\n",
        "        nAlphabet+=1\n",
        "        # print(nAlphabet)\n",
        "\n",
        "if (nAlphabet==26):\n",
        "    print(\"Sentence is Pangram\")\n",
        "else:\n",
        "    print(\"Sentence is not Pangram\")"
      ]
    },
    {
      "cell_type": "code",
      "execution_count": null,
      "metadata": {},
      "outputs": [
        {
          "name": "stdout",
          "output_type": "stream",
          "text": [
            "['secnuiweiufhwexif', 'shfieohif']\n"
          ]
        }
      ],
      "source": [
        "heterogramList=[]\n",
        "Input=input(\"Enter your sentence : \")\n",
        "heterogramList=Input.split()\n",
        "print(heterogramList)\n"
      ]
    },
    {
      "cell_type": "code",
      "execution_count": null,
      "metadata": {},
      "outputs": [
        {
          "name": "stdout",
          "output_type": "stream",
          "text": [
            "<re.Match object; span=(0, 3), match='Wel'>\n",
            "(12, 14)\n",
            "Welcome to The re module\n",
            "he\n",
            "['he']\n",
            "['Welcome to T', ' re module']\n",
            "Welcome to the re module\n"
          ]
        }
      ],
      "source": [
        "import re\n",
        "\n",
        "txt=\"Welcome to The re module\"\n",
        "\n",
        "match=re.match(\"Wel\",txt)\n",
        "print(match)\n",
        "search=re.search(\"he\",txt)\n",
        "print(search.span())\n",
        "print(search.string)\n",
        "print(search.group())\n",
        "fall=re.findall(\"he\",txt)\n",
        "print(fall)\n",
        "split=re.split(\"he\",txt)\n",
        "print(split)\n",
        "sub=re.sub(\"T\",\"t\",txt)\n",
        "print(sub)"
      ]
    },
    {
      "cell_type": "code",
      "execution_count": null,
      "metadata": {},
      "outputs": [
        {
          "name": "stdout",
          "output_type": "stream",
          "text": [
            "['l', 'o', 'o', 'o', 'd', 'u', 'l', 'o', 'o', 'u', 'o', 'd', 'u', 'l', 'o', 'd', 'u', 'l']\n",
            "['0', '8', '2', '0', '2', '3']\n"
          ]
        }
      ],
      "source": [
        "txt=\"welcome to The re module or concept 08 Aug 2023 module module\"\n",
        "search1=re.findall(\"[lodu]\",txt)\n",
        "print(search1)\n",
        "\n",
        "search2=re.findall(\"\\d\",txt)\n",
        "print(search2)"
      ]
    },
    {
      "cell_type": "markdown",
      "metadata": {},
      "source": [
        "NUMPY"
      ]
    },
    {
      "cell_type": "code",
      "execution_count": null,
      "metadata": {},
      "outputs": [],
      "source": [
        "import numpy as np"
      ]
    },
    {
      "cell_type": "code",
      "execution_count": null,
      "metadata": {},
      "outputs": [
        {
          "name": "stdout",
          "output_type": "stream",
          "text": [
            "[1 2 3 4 5 6]\n",
            "6\n"
          ]
        }
      ],
      "source": [
        "a=np.array([1,2,3,4,5,6])\n",
        "print(a)\n",
        "print(a[-1])"
      ]
    },
    {
      "cell_type": "code",
      "execution_count": null,
      "metadata": {},
      "outputs": [
        {
          "name": "stdout",
          "output_type": "stream",
          "text": [
            "[87 43  5 54 62 88 19 71 89  3]\n"
          ]
        }
      ],
      "source": [
        "rand=np.random.RandomState(32)\n",
        "x=rand.randint(100,size=10)\n",
        "print(x)"
      ]
    },
    {
      "cell_type": "code",
      "execution_count": null,
      "metadata": {},
      "outputs": [
        {
          "name": "stdout",
          "output_type": "stream",
          "text": [
            "[43 54 88 71]\n"
          ]
        }
      ],
      "source": [
        "ind=[1,3,5,7]\n",
        "print(x[ind])"
      ]
    },
    {
      "cell_type": "code",
      "execution_count": null,
      "metadata": {},
      "outputs": [
        {
          "name": "stdout",
          "output_type": "stream",
          "text": [
            "[[3 7 2]\n",
            " [4 5 1]]\n",
            "\n",
            "\n",
            "[[54 71  5]\n",
            " [62 88 43]]\n"
          ]
        }
      ],
      "source": [
        "ind = np.array([[3,7,2],[4,5,1]])\n",
        "\n",
        "print(ind)\n",
        "print(\"\\n\")\n",
        "print(x[ind])"
      ]
    },
    {
      "cell_type": "code",
      "execution_count": null,
      "metadata": {},
      "outputs": [
        {
          "name": "stdout",
          "output_type": "stream",
          "text": [
            "[[1 2]\n",
            " [5 6]\n",
            " [7 9]]\n"
          ]
        }
      ],
      "source": [
        "a=np.array([[1,2],[5,6],[7,9]])\n",
        "print(a)"
      ]
    },
    {
      "cell_type": "code",
      "execution_count": null,
      "metadata": {},
      "outputs": [
        {
          "name": "stdout",
          "output_type": "stream",
          "text": [
            "[[1 2 5]\n",
            " [6 7 9]]\n"
          ]
        }
      ],
      "source": [
        "a=a.reshape(2,3)\n",
        "print(a)"
      ]
    },
    {
      "cell_type": "code",
      "execution_count": null,
      "metadata": {},
      "outputs": [
        {
          "name": "stdout",
          "output_type": "stream",
          "text": [
            "[[ 0  1  2  3]\n",
            " [ 4  5  6  7]\n",
            " [ 8  9 10 11]]\n"
          ]
        }
      ],
      "source": [
        "a=np.arange(12).reshape((3,4))\n",
        "print(a)\n"
      ]
    },
    {
      "cell_type": "markdown",
      "metadata": {},
      "source": [
        "Combined Indexing"
      ]
    },
    {
      "cell_type": "code",
      "execution_count": null,
      "metadata": {},
      "outputs": [
        {
          "data": {
            "text/plain": [
              "array([4, 5, 6, 7])"
            ]
          },
          "execution_count": 17,
          "metadata": {},
          "output_type": "execute_result"
        }
      ],
      "source": [
        "a[1, [0,1,2,3]] # show the whole row 1 and columns 0,1,2,3"
      ]
    },
    {
      "cell_type": "code",
      "execution_count": null,
      "metadata": {},
      "outputs": [
        {
          "name": "stdout",
          "output_type": "stream",
          "text": [
            "\n",
            "Minimum from the whole array :  0\n",
            "\n",
            "Maximum from the whole array :  11\n",
            "\n",
            "Minimum for column :  [0 1 2 3]\n",
            "\n",
            "Minimum for row :  [0 4 8]\n",
            "\n",
            "Maximum for column :  [ 8  9 10 11]\n",
            "\n",
            "Maximum for row :  [ 3  7 11]\n",
            "\n",
            "Standard Deviation :  3.452052529534663\n",
            "\n",
            "Square Root : \n",
            "\n",
            " [[0.         1.         1.41421356 1.73205081]\n",
            " [2.         2.23606798 2.44948974 2.64575131]\n",
            " [2.82842712 3.         3.16227766 3.31662479]]\n",
            "\n",
            "Sum of the array :  66\n",
            "\n",
            "Sum of the array for column :  [12 15 18 21]\n",
            "\n",
            "Sum of the array for row :  [ 6 22 38]\n"
          ]
        }
      ],
      "source": [
        "print(\"\\nMinimum from the whole array : \",a.min())\n",
        "print(\"\\nMaximum from the whole array : \",a.max())\n",
        "print(\"\\nMinimum for column : \",a.min(axis=0))\n",
        "print(\"\\nMinimum for row : \",a.min(axis=1))\n",
        "print(\"\\nMaximum for column : \",a.max(axis=0))\n",
        "print(\"\\nMaximum for row : \",a.max(axis=1))\n",
        "print(\"\\nStandard Deviation : \",np.std(a))\n",
        "print(\"\\nSquare Root : \\n\\n\",np.sqrt(a))\n",
        "print(\"\\nSum of the array : \",a.sum())\n",
        "print(\"\\nSum of the array for column : \",a.sum(axis=0))\n",
        "print(\"\\nSum of the array for row : \",a.sum(axis=1))"
      ]
    },
    {
      "cell_type": "code",
      "execution_count": null,
      "metadata": {},
      "outputs": [
        {
          "name": "stdout",
          "output_type": "stream",
          "text": [
            "\n",
            "Addition of A and B : \n",
            "\n",
            " [[12 24 36]\n",
            " [20 22 24]]\n",
            "\n",
            "Multiplication of A and B : \n",
            "\n",
            " [[ 11  44  99]\n",
            " [100 121 144]]\n",
            "\n",
            "Division of A and B : \n",
            "\n",
            " [[0.09090909 0.09090909 0.09090909]\n",
            " [1.         1.         1.        ]]\n",
            "\n",
            "Multiplication of A by 3 : \n",
            "\n",
            " [[ 3  6  9]\n",
            " [30 33 36]]\n"
          ]
        }
      ],
      "source": [
        "a=np.array([[1,2,3],[10,11,12]])\n",
        "b=np.array([[11,22,33],[10,11,12]])\n",
        "\n",
        "print(\"\\nAddition of A and B : \\n\\n\",a+b)\n",
        "print(\"\\nMultiplication of A and B : \\n\\n\",a*b)\n",
        "print(\"\\nDivision of A and B : \\n\\n\",a/b)\n",
        "print(\"\\nMultiplication of A by 3 : \\n\\n\",a*3)"
      ]
    },
    {
      "cell_type": "markdown",
      "metadata": {},
      "source": [
        "Pandas"
      ]
    },
    {
      "cell_type": "code",
      "execution_count": null,
      "metadata": {},
      "outputs": [
        {
          "name": "stdout",
          "output_type": "stream",
          "text": [
            "\n",
            " [0.25 0.5  0.75 1.  ]\n",
            "\n",
            " RangeIndex(start=0, stop=4, step=1)\n",
            "\n",
            "[1] :  0.5\n",
            "\n",
            "[1] : [3]\n",
            "\n",
            "1    0.50\n",
            "2    0.75\n",
            "dtype: float64\n",
            "\n",
            "\n",
            "0    0.25\n",
            "1    0.50\n",
            "2    0.75\n",
            "3    1.00\n",
            "dtype: float64\n"
          ]
        }
      ],
      "source": [
        "data=pd.Series([0.25,0.5,0.75,1.0])\n",
        "\n",
        "print(\"\\n\",data.values)\n",
        "print(\"\\n\",data.index)\n",
        "print(\"\\n[1] : \",data[1])\n",
        "print(\"\\n[1] : [3]\\n\")\n",
        "print(data[1:3])\n",
        "print(\"\\n\")\n",
        "print(data)"
      ]
    },
    {
      "cell_type": "code",
      "execution_count": null,
      "metadata": {},
      "outputs": [
        {
          "name": "stdout",
          "output_type": "stream",
          "text": [
            "a    0.25\n",
            "b    0.50\n",
            "c    0.75\n",
            "d    1.00\n",
            "dtype: float64\n",
            "\n",
            "0.5\n",
            "\n",
            "2    0.25\n",
            "5    0.50\n",
            "3    0.75\n",
            "7    1.00\n",
            "dtype: float64\n",
            "\n",
            "0.5\n",
            "\n"
          ]
        }
      ],
      "source": [
        "data=pd.Series([0.25,0.5,0.75,1.0],index=['a','b','c','d'])\n",
        "\n",
        "print(data)\n",
        "print()\n",
        "\n",
        "print(data['b'])\n",
        "print()\n",
        "\n",
        "data=pd.Series([0.25,0.5,0.75,1.0],index=[2,5,3,7])\n",
        "\n",
        "print(data)\n",
        "print()\n",
        "\n",
        "print(data[5])\n",
        "print()\n",
        "\n",
        "# print(data[0])"
      ]
    },
    {
      "cell_type": "markdown",
      "metadata": {},
      "source": [
        "Dataframe"
      ]
    },
    {
      "cell_type": "markdown",
      "metadata": {},
      "source": [
        "Using List"
      ]
    },
    {
      "cell_type": "code",
      "execution_count": null,
      "metadata": {},
      "outputs": [
        {
          "data": {
            "text/html": [
              "<div>\n",
              "<style scoped>\n",
              "    .dataframe tbody tr th:only-of-type {\n",
              "        vertical-align: middle;\n",
              "    }\n",
              "\n",
              "    .dataframe tbody tr th {\n",
              "        vertical-align: top;\n",
              "    }\n",
              "\n",
              "    .dataframe thead th {\n",
              "        text-align: right;\n",
              "    }\n",
              "</style>\n",
              "<table border=\"1\" class=\"dataframe\">\n",
              "  <thead>\n",
              "    <tr style=\"text-align: right;\">\n",
              "      <th></th>\n",
              "      <th>Population</th>\n",
              "      <th>Area (sq Km)</th>\n",
              "    </tr>\n",
              "  </thead>\n",
              "  <tbody>\n",
              "    <tr>\n",
              "      <th>California</th>\n",
              "      <td>38332521</td>\n",
              "      <td>423967</td>\n",
              "    </tr>\n",
              "    <tr>\n",
              "      <th>Texas</th>\n",
              "      <td>26448193</td>\n",
              "      <td>695662</td>\n",
              "    </tr>\n",
              "    <tr>\n",
              "      <th>New York</th>\n",
              "      <td>19651127</td>\n",
              "      <td>141297</td>\n",
              "    </tr>\n",
              "  </tbody>\n",
              "</table>\n",
              "</div>"
            ],
            "text/plain": [
              "            Population  Area (sq Km)\n",
              "California    38332521        423967\n",
              "Texas         26448193        695662\n",
              "New York      19651127        141297"
            ]
          },
          "execution_count": 26,
          "metadata": {},
          "output_type": "execute_result"
        }
      ],
      "source": [
        "city1=[38332521,423967]\n",
        "city2=[26448193,695662]\n",
        "city3=[19651127,141297]\n",
        "pd.DataFrame([city1,city2,city3],index=[\"California\",\"Texas\",\"New York\"],columns=[\"Population\",\"Area (sq Km)\"])"
      ]
    },
    {
      "cell_type": "code",
      "execution_count": null,
      "metadata": {},
      "outputs": [
        {
          "data": {
            "text/html": [
              "<div>\n",
              "<style scoped>\n",
              "    .dataframe tbody tr th:only-of-type {\n",
              "        vertical-align: middle;\n",
              "    }\n",
              "\n",
              "    .dataframe tbody tr th {\n",
              "        vertical-align: top;\n",
              "    }\n",
              "\n",
              "    .dataframe thead th {\n",
              "        text-align: right;\n",
              "    }\n",
              "</style>\n",
              "<table border=\"1\" class=\"dataframe\">\n",
              "  <thead>\n",
              "    <tr style=\"text-align: right;\">\n",
              "      <th></th>\n",
              "      <th>Color</th>\n",
              "      <th>Count</th>\n",
              "    </tr>\n",
              "  </thead>\n",
              "  <tbody>\n",
              "    <tr>\n",
              "      <th>Mango</th>\n",
              "      <td>Yellow</td>\n",
              "      <td>50</td>\n",
              "    </tr>\n",
              "    <tr>\n",
              "      <th>Apple</th>\n",
              "      <td>Red</td>\n",
              "      <td>25</td>\n",
              "    </tr>\n",
              "    <tr>\n",
              "      <th>Orange</th>\n",
              "      <td>Orange</td>\n",
              "      <td>90</td>\n",
              "    </tr>\n",
              "  </tbody>\n",
              "</table>\n",
              "</div>"
            ],
            "text/plain": [
              "         Color  Count\n",
              "Mango   Yellow     50\n",
              "Apple      Red     25\n",
              "Orange  Orange     90"
            ]
          },
          "execution_count": 28,
          "metadata": {},
          "output_type": "execute_result"
        }
      ],
      "source": [
        "fruit1=[\"Yellow\",50]\n",
        "fruit2=[\"Red\",25]\n",
        "fruit3=[\"Orange\",90]\n",
        "pd.DataFrame([fruit1,fruit2,fruit3],index=[\"Mango\",\"Apple\",\"Orange\"],columns=[\"Color\",\"Count\"])"
      ]
    },
    {
      "cell_type": "markdown",
      "metadata": {},
      "source": [
        "Using Dict"
      ]
    },
    {
      "cell_type": "code",
      "execution_count": null,
      "metadata": {},
      "outputs": [
        {
          "name": "stdout",
          "output_type": "stream",
          "text": [
            "            Population    Area\n",
            "California    38332521  423967\n",
            "Texas         26448193  695662\n",
            "New York      19651127  141297\n",
            "Florida       19552860  170312\n",
            "Illinois      12882135  149995\n",
            "\n",
            "\n",
            "Dataframe Row Names : \n",
            " Index(['California', 'Texas', 'New York', 'Florida', 'Illinois'], dtype='object')\n",
            "\n",
            "Dataframe Columns Names : \n",
            " Index(['Population', 'Area'], dtype='object')\n"
          ]
        }
      ],
      "source": [
        "populationDictinonary={'California':38332521,\n",
        "                       'Texas':26448193,\n",
        "                       'New York':19651127,\n",
        "                       'Florida':19552860,\n",
        "                       'Illinois':12882135}\n",
        "\n",
        "areaDictinonary={'California':423967,\n",
        "                       'Texas':695662,\n",
        "                       'New York':141297,\n",
        "                       'Florida':170312,\n",
        "                       'Illinois':149995}\n",
        "\n",
        "states = pd.DataFrame({'Population':populationDictinonary,'Area':areaDictinonary})\n",
        "\n",
        "print(states)\n",
        "print()\n",
        "print(\"\\nDataframe Row Names : \\n\",states.index)\n",
        "print(\"\\nDataframe Columns Names : \\n\",states.columns)"
      ]
    },
    {
      "cell_type": "code",
      "execution_count": null,
      "metadata": {},
      "outputs": [
        {
          "name": "stdout",
          "output_type": "stream",
          "text": [
            "       Name         City  Age  Py-Score\n",
            "101  Xavier  Mexico City   41      88.0\n",
            "102     Ann      Toronto   28      79.0\n",
            "103    Jana       Prague   33      81.0\n",
            "104      Yi     Shanghai   34      80.0\n",
            "105   Robin   Manchester   38      68.0\n",
            "106    Amal        Cairo   31      61.0\n",
            "107    Nori        Osaka   37      84.0\n",
            "\n",
            "Name          Jana\n",
            "City        Prague\n",
            "Age             33\n",
            "Py-Score      81.0\n",
            "Name: 103, dtype: object\n",
            "\n",
            "101    Xavier\n",
            "102       Ann\n",
            "103      Jana\n",
            "104        Yi\n",
            "105     Robin\n",
            "106      Amal\n",
            "107      Nori\n",
            "Name: Name, dtype: object\n"
          ]
        }
      ],
      "source": [
        "nameDictinonary={101:\"Xavier\",\n",
        "                 102:\"Ann\",\n",
        "                 103:\"Jana\",\n",
        "                 104:\"Yi\",\n",
        "                 105:\"Robin\",\n",
        "                 106:\"Amal\",\n",
        "                 107:\"Nori\"}\n",
        "\n",
        "cityDictinonary={101:\"Mexico City\",\n",
        "                 102:\"Toronto\",\n",
        "                 103:\"Prague\",\n",
        "                 104:\"Shanghai\",\n",
        "                 105:\"Manchester\",\n",
        "                 106:\"Cairo\",\n",
        "                 107:\"Osaka\"}\n",
        "\n",
        "ageDictinonary={101:41,\n",
        "                102:28,\n",
        "                103:33,\n",
        "                104:34,\n",
        "                105:38,\n",
        "                106:31,\n",
        "                107:37}\n",
        "\n",
        "pyScoreDictinonary={101:88.0,\n",
        "                    102:79.0,\n",
        "                    103:81.0,\n",
        "                    104:80.0,\n",
        "                    105:68.0,\n",
        "                    106:61.0,\n",
        "                    107:84.0}\n",
        "\n",
        "student = pd.DataFrame({'Name':nameDictinonary,'City':cityDictinonary,'Age':ageDictinonary,'Py-Score':pyScoreDictinonary})\n",
        "\n",
        "print(student)\n",
        "print()\n",
        "#Accessing Row wise\n",
        "print(student.loc[103])\n",
        "print()\n",
        "#Accessing Column wise\n",
        "print(student.Name)"
      ]
    },
    {
      "cell_type": "markdown",
      "metadata": {},
      "source": [
        "Hierarchical Indexing"
      ]
    },
    {
      "cell_type": "code",
      "execution_count": null,
      "metadata": {},
      "outputs": [
        {
          "data": {
            "text/plain": [
              "(California, 2000)    38332521\n",
              "(California, 2010)    37253956\n",
              "(New York, 2000)      19651127\n",
              "(New York, 2010)      19378102\n",
              "(Texas, 2000)         26448193\n",
              "(Texas, 2010)         25145561\n",
              "dtype: int64"
            ]
          },
          "execution_count": 21,
          "metadata": {},
          "output_type": "execute_result"
        }
      ],
      "source": [
        "hindex=[('California',2000),('California',2010),\n",
        "       ('New York',2000),('New York',2010),\n",
        "       ('Texas',2000),('Texas',2010)]\n",
        "\n",
        "population=[38332521,37253956,\n",
        "            19651127,19378102,\n",
        "            26448193,25145561]\n",
        "\n",
        "pop=pd.Series(population,index=hindex)\n",
        "pop"
      ]
    },
    {
      "cell_type": "code",
      "execution_count": null,
      "metadata": {},
      "outputs": [
        {
          "data": {
            "text/plain": [
              "(California, 2010)    37253956\n",
              "(New York, 2010)      19378102\n",
              "(Texas, 2010)         25145561\n",
              "dtype: int64"
            ]
          },
          "execution_count": 22,
          "metadata": {},
          "output_type": "execute_result"
        }
      ],
      "source": [
        "pop[[i for i in pop.index if i[1]==2010]]"
      ]
    },
    {
      "cell_type": "code",
      "execution_count": null,
      "metadata": {},
      "outputs": [
        {
          "data": {
            "text/plain": [
              "MultiIndex([('California', 2000),\n",
              "            ('California', 2010),\n",
              "            (  'New York', 2000),\n",
              "            (  'New York', 2010),\n",
              "            (     'Texas', 2000),\n",
              "            (     'Texas', 2010)],\n",
              "           )"
            ]
          },
          "execution_count": 23,
          "metadata": {},
          "output_type": "execute_result"
        }
      ],
      "source": [
        "#pandas multiindex\n",
        "index=pd.MultiIndex.from_tuples(hindex)\n",
        "index"
      ]
    },
    {
      "cell_type": "code",
      "execution_count": null,
      "metadata": {},
      "outputs": [
        {
          "name": "stdout",
          "output_type": "stream",
          "text": [
            "nan\n",
            "nan nan nan\n",
            "0    1.0\n",
            "2    2.0\n",
            "3    3.0\n",
            "4    4.0\n",
            "dtype: float64\n",
            "0    False\n",
            "1     True\n",
            "2    False\n",
            "3    False\n",
            "4    False\n",
            "dtype: bool\n",
            "0     True\n",
            "1    False\n",
            "2     True\n",
            "3     True\n",
            "4     True\n",
            "dtype: bool\n",
            "0     1.0\n",
            "1    10.0\n",
            "2     2.0\n",
            "3     3.0\n",
            "4     4.0\n",
            "dtype: float64\n",
            "\n",
            "Forward Fill\n",
            "0    1.0\n",
            "1    1.0\n",
            "2    2.0\n",
            "3    3.0\n",
            "4    4.0\n",
            "dtype: float64\n",
            "\n",
            "Forward Fill\n",
            "0    1.0\n",
            "1    2.0\n",
            "2    2.0\n",
            "3    3.0\n",
            "4    4.0\n",
            "dtype: float64\n"
          ]
        }
      ],
      "source": [
        "print(1+np.nan)\n",
        "\n",
        "vals2=np.array([1,np.nan,2,3,4])\n",
        "print(vals2.sum(),vals2.max(),vals2.min())\n",
        "\n",
        "pdvals2=pd.Series(vals2)\n",
        "print(pdvals2.dropna())\n",
        "print(pdvals2.isnull())\n",
        "print(pdvals2.notnull())\n",
        "print(pdvals2.fillna(10))\n",
        "print()\n",
        "print(\"Forward Fill\")\n",
        "print(pdvals2.fillna(method='ffill'))\n",
        "print()\n",
        "print(\"Forward Fill\")\n",
        "print(pdvals2.fillna(method='bfill'))"
      ]
    },
    {
      "cell_type": "code",
      "execution_count": 7,
      "metadata": {},
      "outputs": [
        {
          "name": "stdout",
          "output_type": "stream",
          "text": [
            "   order               name  height(cm)\n",
            "0      1  George Washington       189.0\n",
            "1      2         John Adams       170.0\n",
            "2      3   Thomas Jefferson         NaN\n",
            "3      4      James Madison       163.0\n",
            "4      5       James Monroe       183.0\n"
          ]
        }
      ],
      "source": [
        "missdata=pd.read_csv(\"president_heights_missing.csv\")\n",
        "print(missdata.head(5))"
      ]
    },
    {
      "cell_type": "code",
      "execution_count": 14,
      "metadata": {},
      "outputs": [
        {
          "name": "stdout",
          "output_type": "stream",
          "text": [
            "order         0\n",
            "name          0\n",
            "height(cm)    5\n",
            "dtype: int64\n"
          ]
        }
      ],
      "source": [
        "print(missdata.isna().sum())"
      ]
    }
  ],
  "metadata": {
    "colab": {
      "provenance": []
    },
    "kernelspec": {
      "display_name": "Python 3",
      "name": "python3"
    },
    "language_info": {
      "codemirror_mode": {
        "name": "ipython",
        "version": 3
      },
      "file_extension": ".py",
      "mimetype": "text/x-python",
      "name": "python",
      "nbconvert_exporter": "python",
      "pygments_lexer": "ipython3",
      "version": "3.10.4"
    }
  },
  "nbformat": 4,
  "nbformat_minor": 0
}
