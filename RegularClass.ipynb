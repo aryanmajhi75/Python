{
  "nbformat": 4,
  "nbformat_minor": 0,
  "metadata": {
    "colab": {
      "provenance": []
    },
    "kernelspec": {
      "name": "python3",
      "display_name": "Python 3"
    },
    "language_info": {
      "name": "python"
    }
  },
  "cells": [
    {
      "cell_type": "markdown",
      "source": [
        "Lambda"
      ],
      "metadata": {
        "id": "jYWSWuMqF2Gv"
      }
    },
    {
      "cell_type": "code",
      "execution_count": null,
      "metadata": {
        "colab": {
          "base_uri": "https://localhost:8080/"
        },
        "id": "dGSunCJ8FsMJ",
        "outputId": "501a1423-a152-4077-a5ee-91923ee4ca42"
      },
      "outputs": [
        {
          "output_type": "stream",
          "name": "stdout",
          "text": [
            "15\n"
          ]
        }
      ],
      "source": [
        "x=lambda a,b: a*b\n",
        "x(1,2)\n",
        "print(x(3,5))"
      ]
    },
    {
      "cell_type": "code",
      "source": [
        "f=lambda x,y,z=0,w=0: x+2*y+3*z+4*w\n",
        "print(f(1,2))\n",
        "print(f(1,2,3))\n",
        "print(f(1,2,w=3))"
      ],
      "metadata": {
        "colab": {
          "base_uri": "https://localhost:8080/"
        },
        "id": "7h5ePCdQGLHq",
        "outputId": "b1855608-6ae2-44d2-dee2-9a7ba7b9c296"
      },
      "execution_count": null,
      "outputs": [
        {
          "output_type": "stream",
          "name": "stdout",
          "text": [
            "5\n",
            "14\n",
            "17\n"
          ]
        }
      ]
    },
    {
      "cell_type": "code",
      "source": [
        "f=lambda x,y=0,z=0,w: x+2*y+3*z+4*w\n",
        "f(1,2)"
      ],
      "metadata": {
        "colab": {
          "base_uri": "https://localhost:8080/",
          "height": 134
        },
        "id": "bYTMErTEGp-W",
        "outputId": "f4acc98f-d944-42d4-ad0a-6ff6038a00a9"
      },
      "execution_count": null,
      "outputs": [
        {
          "output_type": "error",
          "ename": "SyntaxError",
          "evalue": "ignored",
          "traceback": [
            "\u001b[0;36m  File \u001b[0;32m\"<ipython-input-7-d8c0cfc579c4>\"\u001b[0;36m, line \u001b[0;32m1\u001b[0m\n\u001b[0;31m    f=lambda x,y=0,z=0,w: x+2*y+3*z+4*w\u001b[0m\n\u001b[0m                       ^\u001b[0m\n\u001b[0;31mSyntaxError\u001b[0m\u001b[0;31m:\u001b[0m non-default argument follows default argument\n"
          ]
        }
      ]
    },
    {
      "cell_type": "markdown",
      "source": [
        "Express the expression x^3+y^2+5 in lambda"
      ],
      "metadata": {
        "id": "aXOtMxJKHYad"
      }
    },
    {
      "cell_type": "code",
      "source": [
        "f=lambda x=1,y=1: pow(x,3)+pow(y,2)+5\n",
        "f()"
      ],
      "metadata": {
        "colab": {
          "base_uri": "https://localhost:8080/"
        },
        "id": "6J3ooT_LG-Wx",
        "outputId": "a592bb38-3ac2-47e7-d972-4c38c98330ab"
      },
      "execution_count": null,
      "outputs": [
        {
          "output_type": "execute_result",
          "data": {
            "text/plain": [
              "7"
            ]
          },
          "metadata": {},
          "execution_count": 10
        }
      ]
    },
    {
      "cell_type": "code",
      "source": [
        "songList=[\"ZOOM\",\"POP\",\"Cupid\",\"Shinzo wo Sasageyo\",\"Way I Am\"]\n",
        "\n",
        "[print(x) for x in songList]"
      ],
      "metadata": {
        "colab": {
          "base_uri": "https://localhost:8080/"
        },
        "id": "T4b4EwA3LDDO",
        "outputId": "49fe53f2-50f4-4355-96db-b96680200206"
      },
      "execution_count": null,
      "outputs": [
        {
          "output_type": "stream",
          "name": "stdout",
          "text": [
            "ZOOM\n",
            "POP\n",
            "Cupid\n",
            "Shinzo wo Sasageyo\n",
            "Way I Am\n"
          ]
        },
        {
          "output_type": "execute_result",
          "data": {
            "text/plain": [
              "[None, None, None, None, None]"
            ]
          },
          "metadata": {},
          "execution_count": 12
        }
      ]
    },
    {
      "cell_type": "code",
      "source": [
        "newList=[x if x!=\"Shinzo wo Sasageyo\" else \"AOT\" for x in songList ]\n",
        "print(newList)"
      ],
      "metadata": {
        "colab": {
          "base_uri": "https://localhost:8080/"
        },
        "id": "y7HJxFmuL6Vo",
        "outputId": "ebe6f944-a743-48a0-f412-a4657112087a"
      },
      "execution_count": null,
      "outputs": [
        {
          "output_type": "stream",
          "name": "stdout",
          "text": [
            "['ZOOM', 'POP', 'Cupid', 'AOT', 'Way I Am']\n"
          ]
        }
      ]
    }
  ]
}