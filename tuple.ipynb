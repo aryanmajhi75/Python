{
 "cells": [
  {
   "cell_type": "code",
   "execution_count": 38,
   "metadata": {},
   "outputs": [
    {
     "name": "stdout",
     "output_type": "stream",
     "text": [
      "<class 'tuple'>\n",
      "<class 'tuple'>\n",
      "<class 'tuple'>\n"
     ]
    }
   ],
   "source": [
    "course=(\"MCA\",\"BCA\",\"BCOM\",\"BBA\",\"MSC\")\n",
    "semester=(1,2,5,6,4,3)\n",
    "reopen=(False,True,True,False,True,True)\n",
    "print(type(course))\n",
    "print(type(semester))\n",
    "print(type(reopen))"
   ]
  },
  {
   "cell_type": "code",
   "execution_count": 39,
   "metadata": {},
   "outputs": [
    {
     "name": "stdout",
     "output_type": "stream",
     "text": [
      "BSC\n",
      "()\n",
      "('BSC',)\n",
      "('MCA', 'BCA', 'BCOM')\n",
      "('MSCA',)\n",
      "('BCOM', 'BBA', 'MSC', 'MSCA')\n"
     ]
    }
   ],
   "source": [
    "a=(\"MCA\",\"BCA\",\"BCOM\",\"BBA\",\"MSC\",\"MSCA\",\"BSC\")\n",
    "print(a[-1])\n",
    "print(a[6:6])\n",
    "print(a[6:7])\n",
    "print(a[:3])\n",
    "print(a[-2:-1])\n",
    "print(a[-5:-1])"
   ]
  },
  {
   "cell_type": "code",
   "execution_count": 40,
   "metadata": {},
   "outputs": [
    {
     "name": "stdout",
     "output_type": "stream",
     "text": [
      "<class 'tuple'>\n",
      "<class 'tuple'>\n",
      "<class 'tuple'>\n"
     ]
    }
   ],
   "source": [
    "songList=(\n",
    "    \"Heaven\", \n",
    "    \"POP\", \n",
    "    \"some\", \n",
    "    \"Makdonarudo\", \n",
    "    \"ZOOM\", \n",
    "    \"Arcade\", \n",
    "    \"Ghost\", \n",
    "    \"Peaches\"\n",
    "    )\n",
    "duration=(\n",
    "    5.10, \n",
    "    6.29, \n",
    "    3.15, \n",
    "    10.13, \n",
    "    4.05, \n",
    "    5.06, \n",
    "    7.10, \n",
    "    4.50\n",
    ")\n",
    "likes_inMillions=(\n",
    "    10, \n",
    "    25, \n",
    "    50, \n",
    "    30, \n",
    "    23,\n",
    "    15, \n",
    "    11, \n",
    "    23\n",
    "    )\n",
    "print(type(songList))\n",
    "print(type(duration))\n",
    "print(type(likes_inMillions))"
   ]
  },
  {
   "cell_type": "code",
   "execution_count": 41,
   "metadata": {},
   "outputs": [
    {
     "name": "stdout",
     "output_type": "stream",
     "text": [
      "<class 'list'>\n",
      "['Heaven', 'POP', 'some', 'Makdonarudo', 'ZOOM', 'Arcade', 'Ghost', 'Peaches', 'Cupid']\n",
      "('Heaven', 'POP', 'some', 'Makdonarudo', 'ZOOM', 'Arcade', 'Ghost', 'Peaches', 'Cupid')\n"
     ]
    }
   ],
   "source": [
    "y=list(songList)\n",
    "print(type(y))\n",
    "y.append(\"Cupid\")\n",
    "print(y)\n",
    "songList=tuple(y)\n",
    "print(songList)"
   ]
  },
  {
   "cell_type": "code",
   "execution_count": 42,
   "metadata": {},
   "outputs": [
    {
     "name": "stdout",
     "output_type": "stream",
     "text": [
      "('Heaven', 'POP', 'some', 'Makdonarudo', 'ZOOM', 'Arcade', 'Ghost', 'Peaches', 'Cupid')\n",
      "1895673165184\n",
      "['Heaven', 'POP', 'some', 'Makdonarudo', 'ZOOM', 'Arcade', 'Ghost', 'Peaches', 'Cupid', 'Heaven', 'POP', 'some', 'Makdonarudo', 'ZOOM', 'Arcade', 'Ghost', 'Peaches', 'Cupid']\n",
      "('Heaven', 'POP', 'some', 'Makdonarudo', 'ZOOM', 'Arcade', 'Ghost', 'Peaches', 'Cupid')\n",
      "1895673165184\n"
     ]
    }
   ],
   "source": [
    "print(songList)\n",
    "print(id(y))\n",
    "y+=songList\n",
    "print(y)\n",
    "print(songList)\n",
    "print(id(y))"
   ]
  },
  {
   "cell_type": "code",
   "execution_count": 43,
   "metadata": {},
   "outputs": [
    {
     "name": "stdout",
     "output_type": "stream",
     "text": [
      "Searching song :  \n",
      "Song not found!\n"
     ]
    }
   ],
   "source": [
    "search=input(\"Search song : \")\n",
    "print(\"Searching song : \",search)\n",
    "if search in songList:\n",
    "\n",
    "    print(\"Song found!\")\n",
    "else:\n",
    "    print(\"Song not found!\")"
   ]
  },
  {
   "cell_type": "code",
   "execution_count": 44,
   "metadata": {},
   "outputs": [
    {
     "name": "stdout",
     "output_type": "stream",
     "text": [
      "(10, 25, 50, 30, 23, 15, 11, 23, 10, 25, 50, 30, 23, 15, 11, 23, 10, 25, 50, 30, 23, 15, 11, 23)\n",
      "('Heaven', 'POP', 'some', 'Makdonarudo', 'ZOOM', 'Arcade', 'Ghost', 'Peaches', 'Cupid', 'Heaven', 'POP', 'some', 'Makdonarudo', 'ZOOM', 'Arcade', 'Ghost', 'Peaches', 'Cupid', 'Heaven', 'POP', 'some', 'Makdonarudo', 'ZOOM', 'Arcade', 'Ghost', 'Peaches', 'Cupid')\n",
      "50\n",
      "10\n",
      "187\n"
     ]
    }
   ],
   "source": [
    "print(likes_inMillions*3)\n",
    "print(songList*3)\n",
    "print(max(likes_inMillions))\n",
    "print(min(likes_inMillions))\n",
    "print(sum(likes_inMillions))"
   ]
  },
  {
   "cell_type": "code",
   "execution_count": 45,
   "metadata": {},
   "outputs": [
    {
     "name": "stdout",
     "output_type": "stream",
     "text": [
      "10\n",
      "35\n",
      "85\n",
      "115\n",
      "138\n",
      "153\n",
      "164\n",
      "187\n",
      "Cumulative frequency =  187\n"
     ]
    }
   ],
   "source": [
    "s=0\n",
    "for x in likes_inMillions:\n",
    "    s+=x\n",
    "    print(s)\n",
    "print(\"Cumulative frequency = \",s)"
   ]
  },
  {
   "cell_type": "code",
   "execution_count": 46,
   "metadata": {},
   "outputs": [
    {
     "name": "stdout",
     "output_type": "stream",
     "text": [
      "3\n",
      "5\n",
      "7\n",
      "9\n",
      "11\n",
      "13\n",
      "15\n",
      "17\n",
      "19\n",
      "Length :  9\n",
      "9\n"
     ]
    }
   ],
   "source": [
    "x=range(3,20,2) #3,5,7,9....\n",
    "for i in x:\n",
    "    print(i)\n",
    "\n",
    "print(\"Length : \",len(x))\n",
    "print(x[3])"
   ]
  },
  {
   "cell_type": "code",
   "execution_count": 47,
   "metadata": {},
   "outputs": [
    {
     "name": "stdout",
     "output_type": "stream",
     "text": [
      "[1, 2, 3, 4, 5, 6, 7, 8, 9, 0, 10]\n",
      "[1, 2, 3, 4, 5, 6, 7, 8, 9, 10]\n",
      "[1, 2, 3, 4, 5, 6, 7, 8, 9, 10, 'e', 'l', 'e', 'v', 'e', 'n']\n"
     ]
    }
   ],
   "source": [
    "list1=[1,2,3,4,5,6,7,8,9,0]\n",
    "list1.append(10)\n",
    "print(list1)\n",
    "list1.remove(0)\n",
    "print(list1)\n",
    "list1.extend(\"eleven\")\n",
    "print(list1)"
   ]
  },
  {
   "cell_type": "code",
   "execution_count": 48,
   "metadata": {},
   "outputs": [
    {
     "name": "stdout",
     "output_type": "stream",
     "text": [
      "<class 'dict'>\n",
      "\n",
      " {'name': 'Perfect', 'year': 2017, 'genre': 'Pop', 'artist': 'Ed Sheeran', 'producers': ['Ed Sheeran', 'Will Hicks']}\n",
      "\n",
      " Perfect\n",
      "\n",
      " 2017\n",
      "\n",
      " Pop\n",
      "\n",
      " Ed Sheeran\n",
      "\n",
      " ['Ed Sheeran', 'Will Hicks']\n",
      "=================================\n",
      "2017\n",
      "1895644690752\n",
      "{'name': 'Perfect', 'year': 2017, 'genre': 'Pop', 'artist': 'Ed Sheeran', 'producers': ['Ed Sheeran', 'Will Hicks'], 'album': 'Divide'}\n",
      "{'name': 'Perfect', 'year': 2017, 'genre': 'Pop', 'artist': 'Ed Sheeran', 'producers': ['Ed Sheeran', 'Will Hicks'], 'album': 'Divided'}\n",
      "{'name': 'Perfect', 'year': 2017, 'genre': 'Pop', 'artist': 'Ed Sheeran', 'producers': ['Ed Sheeran', 'Will Hicks'], 'album': 'Divide'}\n",
      "{'name': 'Perfect', 'year': 2017, 'genre': 'Pop', 'artist': 'Ed Sheeran', 'producers': ['Ed Sheeran', 'Will Hicks']}\n",
      "{'name': 'Perfect', 'year': 2017, 'genre': 'Pop', 'artist': 'Ed Sheeran'}\n"
     ]
    },
    {
     "ename": "NameError",
     "evalue": "name 'song' is not defined",
     "output_type": "error",
     "traceback": [
      "\u001b[1;31m---------------------------------------------------------------------------\u001b[0m",
      "\u001b[1;31mNameError\u001b[0m                                 Traceback (most recent call last)",
      "\u001b[1;32mc:\\Users\\ASUS\\OneDrive\\Desktop\\CHRIST\\MCA\\Sem1\\Python\\tuple.ipynb Cell 11\u001b[0m in \u001b[0;36m<cell line: 32>\u001b[1;34m()\u001b[0m\n\u001b[0;32m     <a href='vscode-notebook-cell:/c%3A/Users/ASUS/OneDrive/Desktop/CHRIST/MCA/Sem1/Python/tuple.ipynb#X13sZmlsZQ%3D%3D?line=29'>30</a>\u001b[0m \u001b[39mprint\u001b[39m(song)\n\u001b[0;32m     <a href='vscode-notebook-cell:/c%3A/Users/ASUS/OneDrive/Desktop/CHRIST/MCA/Sem1/Python/tuple.ipynb#X13sZmlsZQ%3D%3D?line=30'>31</a>\u001b[0m \u001b[39mdel\u001b[39;00m song\n\u001b[1;32m---> <a href='vscode-notebook-cell:/c%3A/Users/ASUS/OneDrive/Desktop/CHRIST/MCA/Sem1/Python/tuple.ipynb#X13sZmlsZQ%3D%3D?line=31'>32</a>\u001b[0m \u001b[39mprint\u001b[39m(song)\n",
      "\u001b[1;31mNameError\u001b[0m: name 'song' is not defined"
     ]
    }
   ],
   "source": [
    "song={\n",
    "    \"name\":\"Perfect\",\n",
    "    \"year\": 2017,\n",
    "    \"genre\": \"Pop\",\n",
    "    \"artist\": \"Ed Sheeran\",\n",
    "    \"producers\": [\"Ed Sheeran\",\"Will Hicks\"]\n",
    "    }\n",
    "\n",
    "print(type(song))\n",
    "print(\"\\n\",song)\n",
    "print(\"\\n\",song[\"name\"])\n",
    "print(\"\\n\",song[\"year\"])\n",
    "print(\"\\n\",song[\"genre\"])\n",
    "print(\"\\n\",song[\"artist\"])\n",
    "print(\"\\n\",song[\"producers\"])\n",
    "print(\"=================================\")\n",
    "song.keys()\n",
    "print(song.get(\"year\"))\n",
    "print(id(song))\n",
    "song[\"album\"]=\"Divide\"\n",
    "print(song)\n",
    "song[\"album\"]=\"Divided\"\n",
    "print(song)\n",
    "song.update({\"album\":\"Divide\"})\n",
    "print(song)\n",
    "song.values()\n",
    "song.pop(\"album\")\n",
    "print(song)\n",
    "del song[\"producers\"]\n",
    "print(song)\n",
    "del song\n",
    "print(song)"
   ]
  },
  {
   "cell_type": "code",
   "execution_count": null,
   "metadata": {},
   "outputs": [
    {
     "ename": "TypeError",
     "evalue": "pop expected at least 1 argument, got 0",
     "output_type": "error",
     "traceback": [
      "\u001b[1;31m---------------------------------------------------------------------------\u001b[0m",
      "\u001b[1;31mTypeError\u001b[0m                                 Traceback (most recent call last)",
      "\u001b[1;32mc:\\Users\\ASUS\\OneDrive\\Desktop\\CHRIST\\MCA\\Sem1\\python\\tuple.ipynb Cell 12\u001b[0m in \u001b[0;36m<cell line: 1>\u001b[1;34m()\u001b[0m\n\u001b[1;32m----> <a href='vscode-notebook-cell:/c%3A/Users/ASUS/OneDrive/Desktop/CHRIST/MCA/Sem1/python/tuple.ipynb#X15sZmlsZQ%3D%3D?line=0'>1</a>\u001b[0m song\u001b[39m.\u001b[39;49mpop()\n\u001b[0;32m      <a href='vscode-notebook-cell:/c%3A/Users/ASUS/OneDrive/Desktop/CHRIST/MCA/Sem1/python/tuple.ipynb#X15sZmlsZQ%3D%3D?line=1'>2</a>\u001b[0m \u001b[39mprint\u001b[39m(song)\n",
      "\u001b[1;31mTypeError\u001b[0m: pop expected at least 1 argument, got 0"
     ]
    }
   ],
   "source": [
    "song.pop()\n",
    "print(song)"
   ]
  },
  {
   "cell_type": "code",
   "execution_count": null,
   "metadata": {},
   "outputs": [
    {
     "name": "stdout",
     "output_type": "stream",
     "text": [
      "=================================\n",
      "name\n",
      "year\n",
      "genre\n",
      "artist\n",
      "producers\n",
      "=================================\n",
      "Perfect\n",
      "2017\n",
      "Pop\n",
      "Ed Sheeran\n",
      "['Ed Sheeran', 'Will Hicks']\n",
      "=================================\n",
      "('name', 'Perfect')\n",
      "('year', 2017)\n",
      "('genre', 'Pop')\n",
      "('artist', 'Ed Sheeran')\n",
      "('producers', ['Ed Sheeran', 'Will Hicks'])\n",
      "=================================\n",
      "{'name': 'Perfect', 'year': 2017, 'genre': 'Pop', 'artist': 'Ed Sheeran', 'producers': ['Ed Sheeran', 'Will Hicks']}\n",
      "=================================\n",
      "{'name': 'Perfect', 'year': 2017, 'genre': 'Pop', 'artist': 'Ed Sheeran', 'producers': ['Ed Sheeran', 'Will Hicks']}\n",
      "=================================\n"
     ]
    },
    {
     "data": {
      "text/plain": [
       "'Christ University'"
      ]
     },
     "execution_count": 41,
     "metadata": {},
     "output_type": "execute_result"
    }
   ],
   "source": [
    "song={\n",
    "    \"name\":\"Perfect\",\n",
    "    \"year\": 2017,\n",
    "    \"genre\": \"Pop\",\n",
    "    \"artist\": \"Ed Sheeran\",\n",
    "    \"producers\": [\"Ed Sheeran\",\"Will Hicks\"]\n",
    "    }\n",
    "print(\"=================================\")\n",
    "\n",
    "for x in song:\n",
    "    print(x) \n",
    "\n",
    "print(\"=================================\")\n",
    "\n",
    "for x in song.values():\n",
    "    print(x)\n",
    "\n",
    "print(\"=================================\")\n",
    "\n",
    "for x in song.items():\n",
    "    print(x)\n",
    "\n",
    "print(\"=================================\")\n",
    "\n",
    "song1=song.copy()\n",
    "print(song1)\n",
    "\n",
    "print(\"=================================\")\n",
    "\n",
    "song2=dict(song)\n",
    "print(song2)\n",
    "\n",
    "print(\"=================================\")\n",
    "\n",
    "def f(a,b):\n",
    "    return a+\" \"+b\n",
    "\n",
    "d={\"a\":\"Christ\",\"b\":\"University\"}\n",
    "f(**d)"
   ]
  },
  {
   "cell_type": "code",
   "execution_count": null,
   "metadata": {},
   "outputs": [
    {
     "ename": "TypeError",
     "evalue": "f() got an unexpected keyword argument 'a'",
     "output_type": "error",
     "traceback": [
      "\u001b[1;31m---------------------------------------------------------------------------\u001b[0m",
      "\u001b[1;31mTypeError\u001b[0m                                 Traceback (most recent call last)",
      "\u001b[1;32mc:\\Users\\ASUS\\OneDrive\\Desktop\\CHRIST\\MCA\\Sem1\\python\\tuple.ipynb Cell 14\u001b[0m in \u001b[0;36m<cell line: 5>\u001b[1;34m()\u001b[0m\n\u001b[0;32m      <a href='vscode-notebook-cell:/c%3A/Users/ASUS/OneDrive/Desktop/CHRIST/MCA/Sem1/python/tuple.ipynb#X22sZmlsZQ%3D%3D?line=2'>3</a>\u001b[0m \u001b[39m#The value names should match\u001b[39;00m\n\u001b[0;32m      <a href='vscode-notebook-cell:/c%3A/Users/ASUS/OneDrive/Desktop/CHRIST/MCA/Sem1/python/tuple.ipynb#X22sZmlsZQ%3D%3D?line=3'>4</a>\u001b[0m d\u001b[39m=\u001b[39m{\u001b[39m\"\u001b[39m\u001b[39ma\u001b[39m\u001b[39m\"\u001b[39m:\u001b[39m\"\u001b[39m\u001b[39mChrist\u001b[39m\u001b[39m\"\u001b[39m,\u001b[39m\"\u001b[39m\u001b[39mb\u001b[39m\u001b[39m\"\u001b[39m:\u001b[39m\"\u001b[39m\u001b[39mUniversity\u001b[39m\u001b[39m\"\u001b[39m}\n\u001b[1;32m----> <a href='vscode-notebook-cell:/c%3A/Users/ASUS/OneDrive/Desktop/CHRIST/MCA/Sem1/python/tuple.ipynb#X22sZmlsZQ%3D%3D?line=4'>5</a>\u001b[0m f(\u001b[39m*\u001b[39m\u001b[39m*\u001b[39md)\n",
      "\u001b[1;31mTypeError\u001b[0m: f() got an unexpected keyword argument 'a'"
     ]
    }
   ],
   "source": [
    "def f(x,y):\n",
    "    return x+\" \"+y\n",
    "#The value names should match\n",
    "d={\"a\":\"Christ\",\"b\":\"University\"}\n",
    "f(**d)"
   ]
  },
  {
   "cell_type": "markdown",
   "metadata": {},
   "source": [
    "SETS and Frozen Sets"
   ]
  },
  {
   "cell_type": "code",
   "execution_count": 64,
   "metadata": {},
   "outputs": [
    {
     "name": "stdout",
     "output_type": "stream",
     "text": [
      "1895673732608\n",
      "1895673732608\n",
      "POP\n",
      "Shinzo wo Sasageyo\n",
      "ZOOM\n",
      "Cupid\n",
      "Way I Am\n",
      "Left&Right\n"
     ]
    }
   ],
   "source": [
    "songList={\"ZOOM\",\"POP\",\"Cupid\",\"Shinzo wo Sasageyo\",\"Way I Am\"}\n",
    "print(id(songList))\n",
    "songList.add(\"Left&Right\")\n",
    "print(id(songList))\n",
    "\n",
    "for i in songList:\n",
    "    print(i)"
   ]
  },
  {
   "cell_type": "code",
   "execution_count": 65,
   "metadata": {},
   "outputs": [
    {
     "name": "stdout",
     "output_type": "stream",
     "text": [
      "{'a', 'i', 'Cupid', 'Way I Am', 'Left&Right', 'u', 'POP', 'Shinzo wo Sasageyo', 'ZOOM', 'r', 'l', 'o', 's', 'H'}\n"
     ]
    }
   ],
   "source": [
    "songList.update(\"Hilarious\")\n",
    "print(songList)"
   ]
  },
  {
   "cell_type": "code",
   "execution_count": 66,
   "metadata": {},
   "outputs": [
    {
     "name": "stdout",
     "output_type": "stream",
     "text": [
      "{'a', 'i', 'Cupid', 'Way I Am', 'Left&Right', 'As It Was', 'u', 'POP', 'Shinzo wo Sasageyo', 'ZOOM', 'r', 'Hilarious', 'l', 'o', 's', 'H'}\n"
     ]
    }
   ],
   "source": [
    "temp=[\"Hilarious\",\"As It Was\",\"Cupid\"]\n",
    "songList.update(temp)\n",
    "print(songList)"
   ]
  },
  {
   "cell_type": "code",
   "execution_count": 67,
   "metadata": {},
   "outputs": [
    {
     "name": "stdout",
     "output_type": "stream",
     "text": [
      "{'a', 'i', 'Cupid', 'Way I Am', 'Left&Right', 'As It Was', 'u', 'POP', 'Shinzo wo Sasageyo', 'ZOOM', 'r', 'Hilarious', 'l', 'o', 's', 'Watermelon Sugar', 'H'}\n"
     ]
    }
   ],
   "source": [
    "songList.add(\"Watermelon Sugar\")\n",
    "print(songList)"
   ]
  },
  {
   "cell_type": "markdown",
   "metadata": {},
   "source": [
    "add() is faster than update() because it adds more than one element.\\\n",
    "differnet types of elements can be added to the set."
   ]
  },
  {
   "cell_type": "code",
   "execution_count": 68,
   "metadata": {},
   "outputs": [
    {
     "name": "stdout",
     "output_type": "stream",
     "text": [
      "1895673732608\n",
      "{'a', 'i', 'Cupid', 'Way I Am', 'Left&Right', 'As It Was', 'u', 'POP', 'Shinzo wo Sasageyo', 'ZOOM', 'r', 'Hilarious', 'l', 'o', 's', 'Watermelon Sugar', 'H'}\n"
     ]
    }
   ],
   "source": [
    "songList.add(\"POP\")\n",
    "print(id(songList))\n",
    "print(songList)"
   ]
  },
  {
   "cell_type": "code",
   "execution_count": null,
   "metadata": {},
   "outputs": [
    {
     "ename": "TypeError",
     "evalue": "unhashable type: 'list'",
     "output_type": "error",
     "traceback": [
      "\u001b[1;31m---------------------------------------------------------------------------\u001b[0m",
      "\u001b[1;31mTypeError\u001b[0m                                 Traceback (most recent call last)",
      "\u001b[1;32mc:\\Users\\ASUS\\OneDrive\\Desktop\\CHRIST\\MCA\\Sem1\\Python\\tuple.ipynb Cell 22\u001b[0m in \u001b[0;36m<cell line: 1>\u001b[1;34m()\u001b[0m\n\u001b[1;32m----> <a href='vscode-notebook-cell:/c%3A/Users/ASUS/OneDrive/Desktop/CHRIST/MCA/Sem1/Python/tuple.ipynb#X30sZmlsZQ%3D%3D?line=0'>1</a>\u001b[0m songList\u001b[39m.\u001b[39;49madd(temp)\n\u001b[0;32m      <a href='vscode-notebook-cell:/c%3A/Users/ASUS/OneDrive/Desktop/CHRIST/MCA/Sem1/Python/tuple.ipynb#X30sZmlsZQ%3D%3D?line=1'>2</a>\u001b[0m \u001b[39mprint\u001b[39m(songList)\n",
      "\u001b[1;31mTypeError\u001b[0m: unhashable type: 'list'"
     ]
    }
   ],
   "source": [
    "songList.add(temp)  #list is mutable and add() doesnt accept mutable elements\n",
    "print(songList)"
   ]
  },
  {
   "cell_type": "code",
   "execution_count": 69,
   "metadata": {},
   "outputs": [
    {
     "name": "stdout",
     "output_type": "stream",
     "text": [
      "Before :  {'a', 'i', 'Cupid', 'Way I Am', 'Left&Right', 'As It Was', 'u', 'POP', 'Shinzo wo Sasageyo', 'ZOOM', 'r', 'Hilarious', 'l', 'o', 's', 'Watermelon Sugar', 'H'}\n",
      "After remove :   {'a', 'i', 'Cupid', 'Way I Am', 'Left&Right', 'As It Was', 'u', 'POP', 'Shinzo wo Sasageyo', 'ZOOM', 'r', 'Hilarious', 'l', 'o', 'Watermelon Sugar', 'H'}\n",
      "After discard :   {'a', 'i', 'Cupid', 'Way I Am', 'Left&Right', 'As It Was', 'u', 'POP', 'Shinzo wo Sasageyo', 'ZOOM', 'r', 'l', 'o', 'Watermelon Sugar', 'H'}\n",
      "After pop :   {'i', 'Cupid', 'Way I Am', 'Left&Right', 'As It Was', 'u', 'POP', 'Shinzo wo Sasageyo', 'ZOOM', 'r', 'l', 'o', 'Watermelon Sugar', 'H'}\n"
     ]
    }
   ],
   "source": [
    "print(\"Before : \",songList)\n",
    "songList.remove(\"s\")    #remove will throw error if the element is not present\n",
    "print(\"After remove :  \",songList)\n",
    "songList.discard(\"Hilarious\")\n",
    "print(\"After discard :  \",songList)\n",
    "songList.pop()\n",
    "print(\"After pop :  \",songList)\n"
   ]
  },
  {
   "cell_type": "code",
   "execution_count": 70,
   "metadata": {},
   "outputs": [
    {
     "name": "stdout",
     "output_type": "stream",
     "text": [
      "True\n",
      "True\n",
      "False\n",
      "5\n",
      "2\n",
      "14\n",
      "<class 'set'>\n",
      "[2, 3, 4, 5]\n"
     ]
    }
   ],
   "source": [
    "a=set()\n",
    "print(all(a))\n",
    "print(all(songList))\n",
    "print(any(a))\n",
    "duration={2,3,2,4,5,5,3}\n",
    "print(max(duration))\n",
    "print(min(duration))\n",
    "print(sum(duration))\n",
    "print(type(duration))\n",
    "print(sorted(duration))"
   ]
  },
  {
   "cell_type": "code",
   "execution_count": 73,
   "metadata": {},
   "outputs": [
    {
     "name": "stdout",
     "output_type": "stream",
     "text": [
      "frozenset({'Tarif karun kya uski', 'Kya hua tera vada', 'Gulabi ankhen'})\n",
      "1895673733056\n"
     ]
    },
    {
     "ename": "AttributeError",
     "evalue": "'frozenset' object has no attribute 'add'",
     "output_type": "error",
     "traceback": [
      "\u001b[1;31m---------------------------------------------------------------------------\u001b[0m",
      "\u001b[1;31mAttributeError\u001b[0m                            Traceback (most recent call last)",
      "\u001b[1;32mc:\\Users\\ASUS\\OneDrive\\Desktop\\CHRIST\\MCA\\Sem1\\Python\\tuple.ipynb Cell 25\u001b[0m in \u001b[0;36m<cell line: 5>\u001b[1;34m()\u001b[0m\n\u001b[0;32m      <a href='vscode-notebook-cell:/c%3A/Users/ASUS/OneDrive/Desktop/CHRIST/MCA/Sem1/Python/tuple.ipynb#X33sZmlsZQ%3D%3D?line=2'>3</a>\u001b[0m \u001b[39mprint\u001b[39m(archieveSongs)\n\u001b[0;32m      <a href='vscode-notebook-cell:/c%3A/Users/ASUS/OneDrive/Desktop/CHRIST/MCA/Sem1/Python/tuple.ipynb#X33sZmlsZQ%3D%3D?line=3'>4</a>\u001b[0m \u001b[39mprint\u001b[39m(\u001b[39mid\u001b[39m(archieveSongs))\n\u001b[1;32m----> <a href='vscode-notebook-cell:/c%3A/Users/ASUS/OneDrive/Desktop/CHRIST/MCA/Sem1/Python/tuple.ipynb#X33sZmlsZQ%3D%3D?line=4'>5</a>\u001b[0m archieveSongs\u001b[39m.\u001b[39;49madd(\u001b[39m\"\u001b[39m\u001b[39mO mere dil k chain\u001b[39m\u001b[39m\"\u001b[39m)\n",
      "\u001b[1;31mAttributeError\u001b[0m: 'frozenset' object has no attribute 'add'"
     ]
    }
   ],
   "source": [
    "archieveSongs=frozenset([\"Tarif karun kya uski\",\"Kya hua tera vada\",\"Gulabi ankhen\"])\n",
    "archieveSongs1=frozenset([\"Gulabi ankhen\",\"Hilarious\",\"As It Was\",\"Cupid\"])\n",
    "print(archieveSongs)\n",
    "print(id(archieveSongs))\n",
    "archieveSongs.add(\"O mere dil k chain\")"
   ]
  },
  {
   "cell_type": "code",
   "execution_count": 80,
   "metadata": {},
   "outputs": [
    {
     "name": "stdout",
     "output_type": "stream",
     "text": [
      "\n",
      "Union : frozenset({'Cupid', 'As It Was', 'Hilarious', 'Tarif karun kya uski', 'Kya hua tera vada', 'Gulabi ankhen'})\n",
      "\n",
      "Intersection : frozenset({'Gulabi ankhen'})\n",
      "\n",
      "Difference : frozenset({'Tarif karun kya uski', 'Kya hua tera vada'})\n",
      "\n",
      "Symmetric Difference : frozenset({'Hilarious', 'Tarif karun kya uski', 'Kya hua tera vada', 'Cupid', 'As It Was'})\n"
     ]
    }
   ],
   "source": [
    "union=archieveSongs.union(archieveSongs1)\n",
    "intersection=archieveSongs.intersection(archieveSongs1)\n",
    "difference=archieveSongs.difference(archieveSongs1)\n",
    "symmetric_difference=archieveSongs.symmetric_difference(archieveSongs1)\n",
    "print(\"\\nUnion :\",union)\n",
    "print(\"\\nIntersection :\",intersection)\n",
    "print(\"\\nDifference :\",difference)\n",
    "print(\"\\nSymmetric Difference :\",symmetric_difference)"
   ]
  }
 ],
 "metadata": {
  "kernelspec": {
   "display_name": "Python 3",
   "language": "python",
   "name": "python3"
  },
  "language_info": {
   "codemirror_mode": {
    "name": "ipython",
    "version": 3
   },
   "file_extension": ".py",
   "mimetype": "text/x-python",
   "name": "python",
   "nbconvert_exporter": "python",
   "pygments_lexer": "ipython3",
   "version": "3.10.4"
  },
  "orig_nbformat": 4
 },
 "nbformat": 4,
 "nbformat_minor": 2
}
