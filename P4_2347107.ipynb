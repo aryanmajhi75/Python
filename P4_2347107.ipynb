{
 "cells": [
  {
   "cell_type": "markdown",
   "metadata": {},
   "source": [
    "P4:Demonstrate use of object-oriented programming concepts \n",
    "\n",
    "Create a class called \"Your Domain Name\" which has five attributes(2 string, 3 number). Initialize the variables in the \"__init_” method and write at least three more methods. With respect to your domain, you can create methods for getting Input, update the values, verify the condition, and etc,.\\\n",
    "\n",
    "1. Create two objects and call the functions. \n",
    "\n",
    "2. Implement the concept of Inheritance and Polymorphism."
   ]
  },
  {
   "cell_type": "code",
   "execution_count": null,
   "metadata": {},
   "outputs": [],
   "source": []
  }
 ],
 "metadata": {
  "language_info": {
   "name": "python"
  },
  "orig_nbformat": 4
 },
 "nbformat": 4,
 "nbformat_minor": 2
}
