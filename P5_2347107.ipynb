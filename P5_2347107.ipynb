{
 "cells": [
  {
   "cell_type": "markdown",
   "metadata": {},
   "source": [
    "                                            1MCA-A PYTHON Programming(MCA171) \n",
    "                                              23-08-2023 (Wednesday 09-11AM)\n",
    "                                                   Regular lab Questions\n",
    "Write a program which accepts as input a DOB in the format \"dd/mm/yyyy \"and prints AGE of the person. Validate the input using Exceptional Handling.\n",
    "\n",
    "If no input is given, prompt user to enter input\n",
    "\n",
    "If \"?\" is typed help the user by telling him/her to enter Data of Birth in the required format\n",
    "\n",
    "If date is entered validate the correctness of the date and print AGE\n",
    "\n",
    "If \"q\" or \"Q\" is entered invoke a user defined exception which quits the program after printing \"Bye! Hope you run this program again\"."
   ]
  },
  {
   "cell_type": "code",
   "execution_count": 37,
   "metadata": {},
   "outputs": [
    {
     "name": "stdout",
     "output_type": "stream",
     "text": [
      "Your age : 22\n"
     ]
    }
   ],
   "source": [
    "from datetime import datetime\n",
    "\n",
    "class InvalidDateFormatError(Exception):\n",
    "    pass\n",
    "\n",
    "def quit():\n",
    "    print(\"Bye! Hope you run this program again.\")\n",
    "def age(d,m,y):\n",
    "    today = datetime.now().date()\n",
    "    ty= today.year\n",
    "    # print(f\"{td}:{tm}:{ty}\")\n",
    "    age=ty-y\n",
    "    print(f\"Your age : {age}\")\n",
    "    \n",
    "\n",
    "if __name__ == \"__main__\":\n",
    "    try:\n",
    "        doB=input(\"Enter day of birth [dd-mm-yyyy] : \")\n",
    "        format=\"%d-%m-%Y\"\n",
    "        \n",
    "        if (doB == \"?\"):\n",
    "            print(\"------------------------------------------------------------------\\n\")\n",
    "            print(\"| Please enter a valid date in the following format [dd-mm-yyyy] |\")\n",
    "            print(\"\\n------------------------------------------------------------------\")\n",
    "        if (doB == \"q\" or doB == \"Q\"):\n",
    "            quit()\n",
    "            pass\n",
    "\n",
    "        dob_parts = doB.split('-')\n",
    "        if len(dob_parts) != 3:\n",
    "            raise InvalidDateFormatError(\"Invalid date format\")\n",
    "        d,m,y=map(int, dob_parts)\n",
    "        if not (1 <= d <= 31 and 1 <= m <= 12):\n",
    "            InvalidDateFormatError(\"Invalid date format\")\n",
    "\n",
    "        today=datetime.now().date()\n",
    "        current_year=today.year\n",
    "        \n",
    "        if current_year<y:\n",
    "            print(\"Wrong date of Birth\")\n",
    "        else:\n",
    "            age(d,m,y)\n",
    "\n",
    "    except ValueError :\n",
    "        res = False\n",
    "        quit()"
   ]
  },
  {
   "cell_type": "code",
   "execution_count": 6,
   "metadata": {},
   "outputs": [
    {
     "name": "stdout",
     "output_type": "stream",
     "text": [
      "2023-08-23\n",
      "23\n",
      "8\n",
      "2023\n"
     ]
    }
   ],
   "source": [
    "import datetime \n",
    "\n",
    "today = datetime.date.today()\n",
    "print(today)\n",
    "td,tm,ty= today.day,today.month,today.year\n",
    "print(f\"{td}\\n{tm}\\n{ty}\")"
   ]
  }
 ],
 "metadata": {
  "kernelspec": {
   "display_name": "Python 3",
   "language": "python",
   "name": "python3"
  },
  "language_info": {
   "codemirror_mode": {
    "name": "ipython",
    "version": 3
   },
   "file_extension": ".py",
   "mimetype": "text/x-python",
   "name": "python",
   "nbconvert_exporter": "python",
   "pygments_lexer": "ipython3",
   "version": "3.10.4"
  },
  "orig_nbformat": 4
 },
 "nbformat": 4,
 "nbformat_minor": 2
}
