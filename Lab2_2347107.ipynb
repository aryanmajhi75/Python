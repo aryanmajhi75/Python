{
 "cells": [
  {
   "cell_type": "markdown",
   "metadata": {},
   "source": [
    "Regular lab Questions - Q2\\\n",
    "02-08-2023(Wednesday 09-11AM)\\\n",
    "Q2: Demonstrate Lists and Dictionary comprehensions\n",
    "\n",
    "1. LIST\\\n",
    "Write a PYTHON script with List comprehension for the following:\\\n",
    "• Is the given list divisible by 3 or NOT?\\\n",
    "• Square of even numbers in a list\\\n",
    "• Sum of digits of all EVEN numbers in a list\\\n",
    "• Remove duplicate numbers in a list\n",
    "2. Dictionary\\\n",
    "Create a dictionary to store the details of your company employees (name as key and\n",
    "birthdate as value).\\\n",
    "{ ‘Virat Kohli’: ‘5 November 1988’, ‘Umesh Yadav’: ‘25 October 1987’, ‘Manish Pandey’:\n",
    "‘10 September 1989’, ‘Rohit Sharma’: ‘30 April 1987’, ‘Ravindra Jadeja’: ‘6 December\n",
    "1988’, ‘Hardik Pandya’: ‘11 October 1993’ }\\\n",
    "Write a function birthDate() that takes the full name of your employees(as a string) and\n",
    "displays the given employee’s birthdate.\\\n",
    "    >>birthDate(‘Rohit Sharma’)\\\n",
    "    ‘30 April 1987’"
   ]
  },
  {
   "cell_type": "markdown",
   "metadata": {},
   "source": [
    "Question 1 : List"
   ]
  },
  {
   "cell_type": "code",
   "execution_count": 14,
   "metadata": {},
   "outputs": [
    {
     "name": "stdout",
     "output_type": "stream",
     "text": [
      "[3, 6, 9, 9]\n",
      "[16, 36, 64, 100]\n",
      "28\n"
     ]
    }
   ],
   "source": [
    "duration=[1,3,4,5,6,7,8,9,9,10,11]\n",
    "\n",
    "divBy3= [x for x in duration if x%3==0]\n",
    "print(divBy3)\n",
    "\n",
    "evenSquare= [x*x for x in duration if x%2==0]\n",
    "print(evenSquare)\n",
    "sum=0\n",
    "[sum:=sum+x for x in duration if x%2==0]\n",
    "print(sum)\n",
    "# print(sumEven)"
   ]
  },
  {
   "cell_type": "code",
   "execution_count": 9,
   "metadata": {},
   "outputs": [
    {
     "name": "stdout",
     "output_type": "stream",
     "text": [
      "\n",
      "Menu:\n",
      "1. Check divisibility by 3\n",
      "2. Square of even numbers\n",
      "3. Sum of even values in list\n",
      "4. Remove duplicate values\n",
      "5. Check album release date\n",
      "6. Exit\n",
      "Values stored :  [1, 2, 4, 2, 4, 6, 6, 7, 84]\n",
      "108\n",
      "\n",
      "Menu:\n",
      "1. Check divisibility by 3\n",
      "2. Square of even numbers\n",
      "3. Sum of even values in list\n",
      "4. Remove duplicate values\n",
      "5. Check album release date\n",
      "6. Exit\n",
      "Thank You..\n",
      "Bye\n",
      "Bye\n"
     ]
    }
   ],
   "source": [
    "import time\n",
    "\n",
    "def divBy3():\n",
    "    try:\n",
    "        # print(\"Enter values : \")\n",
    "        duration=[]\n",
    "        while True:\n",
    "            duration.append(int(input(\"Enter values : \")))\n",
    "    except:\n",
    "        print(\"Values stored : \",duration)\n",
    "        Mod3= [x for x in duration if x%3==0]\n",
    "    print(Mod3)\n",
    "\n",
    "def EvenSquare():\n",
    "    try:        \n",
    "        # print(\"Enter values : \")\n",
    "        duration=[]\n",
    "        while True:\n",
    "            duration.append(int(input(\"Enter values : \")))\n",
    "    except:\n",
    "        print(\"Values stored : \",duration)\n",
    "        evenSquare=0\n",
    "        evenSquare=[x*x for x in duration if x%2==0]\n",
    "    print(evenSquare)\n",
    "\n",
    "def removeDuplicates():\n",
    "    try:\n",
    "        # print(\"Enter values : \")\n",
    "        duration=[]\n",
    "        while True:\n",
    "            duration.append(int(input(\"Enter values : \")))\n",
    "    except:\n",
    "        print(\"Values stored : \",duration)\n",
    "        noDuplicates=[]\n",
    "        [noDuplicates.append(x) for x in duration if x not in noDuplicates]\n",
    "    print(noDuplicates)\n",
    "\n",
    "def sumEven():\n",
    "    try:\n",
    "        # print(\"Enter values : \")    \n",
    "        duration=[]\n",
    "        while True:\n",
    "            duration.append(int(input(\"Enter values : \")))\n",
    "    except:\n",
    "        print(\"Values stored : \",duration)\n",
    "        evenSum=0\n",
    "        [evenSum:=evenSum+x for x in duration if x%2==0]\n",
    "    print(evenSum)\n",
    "\n",
    "def birthDate():\n",
    "    albums={\"1989\":\"27 October 2014\",\n",
    "            \"Four\":\"17 November 2014\",\n",
    "            \"Doo-Wops&Hooligans\":\"4 October 2010\",\n",
    "            \"21\":\"22 February 2011\",\n",
    "            \"Bloom\":\"31 August 2018\",\n",
    "            \"Divide\":\"3 March 2017\"}\n",
    "    \n",
    "    print(\"Available albums : \")\n",
    "    for x in albums:\n",
    "        print(x)\n",
    "\n",
    "    search=input(\"Enter the album name : \")\n",
    "    albums.get(search)\n",
    "\n",
    "\n",
    "def main():\n",
    "    while True:\n",
    "        print(\"\\nMenu:\")\n",
    "        print(\"1. Check divisibility by 3\")\n",
    "        print(\"2. Square of even numbers\")\n",
    "        print(\"3. Sum of even values in list\")\n",
    "        print(\"4. Remove duplicate values\")\n",
    "        print(\"5. Check album release date\")\n",
    "        print(\"6. Exit\")\n",
    "\n",
    "        choice = input(\"Enter your choice (1/2/3/4/5/6): \")\n",
    "\n",
    "        if choice == \"1\":\n",
    "            divBy3()\n",
    "        elif choice == \"2\":\n",
    "            EvenSquare()\n",
    "        elif choice == \"3\":\n",
    "            sumEven()\n",
    "        elif choice == \"4\":\n",
    "            removeDuplicates()\n",
    "        elif choice == \"5\":\n",
    "            birthDate()\n",
    "        elif choice == \"6\":\n",
    "            time.sleep(1)\n",
    "            print(\"Thank You..\")\n",
    "            for i in range(0,2):\n",
    "              time.sleep(1)\n",
    "              print(\"Bye\")\n",
    "            break\n",
    "        else:\n",
    "            print(\"Invalid choice! Please select a valid option i.e. -> (1/2/3/4/5/6).\")\n",
    "\n",
    "if __name__ == \"__main__\":\n",
    "    main()"
   ]
  },
  {
   "cell_type": "code",
   "execution_count": 10,
   "metadata": {},
   "outputs": [
    {
     "name": "stdout",
     "output_type": "stream",
     "text": [
      "[9, 6, 9, 3]\n",
      "[9, 6, 3]\n"
     ]
    }
   ],
   "source": [
    "duration=[9,6,9,3]\n",
    "print(duration)\n",
    "noDuplicate=[]\n",
    "[noDuplicate.append(x) for x in duration if x not in noDuplicate]\n",
    "print(noDuplicate)"
   ]
  },
  {
   "cell_type": "markdown",
   "metadata": {},
   "source": [
    "Question 2 : Dictionary"
   ]
  },
  {
   "cell_type": "code",
   "execution_count": 4,
   "metadata": {},
   "outputs": [
    {
     "data": {
      "text/plain": [
       "'27 October 2014'"
      ]
     },
     "execution_count": 4,
     "metadata": {},
     "output_type": "execute_result"
    }
   ],
   "source": [
    "albums={\"1989\":\"27 October 2014\",\n",
    "            \"Four\":\"17 November 2014\",\n",
    "            \"Doo-Wops&Hooligans\":\"4 October 2010\",\n",
    "            \"21\":\"22 February 2011\",\n",
    "            \"Bloom\":\"31 August 2018\",\n",
    "            \"Divide\":\"3 March 2017\"}\n",
    "\n",
    "# for x in albums:\n",
    "albums.get(\"1989\")"
   ]
  }
 ],
 "metadata": {
  "kernelspec": {
   "display_name": "Python 3",
   "language": "python",
   "name": "python3"
  },
  "language_info": {
   "codemirror_mode": {
    "name": "ipython",
    "version": 3
   },
   "file_extension": ".py",
   "mimetype": "text/x-python",
   "name": "python",
   "nbconvert_exporter": "python",
   "pygments_lexer": "ipython3",
   "version": "3.10.4"
  },
  "orig_nbformat": 4
 },
 "nbformat": 4,
 "nbformat_minor": 2
}
