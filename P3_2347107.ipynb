{
 "cells": [
  {
   "cell_type": "code",
   "execution_count": 1,
   "metadata": {},
   "outputs": [
    {
     "name": "stdout",
     "output_type": "stream",
     "text": [
      "\n",
      "Menu:\n",
      "1. Make Codewords\n",
      "2. Exit\n",
      "------------------------------------------\n",
      "| *Input word should be within 5 letters |\n",
      "------------------------------------------\n",
      "\n",
      "Converted Code Word for aryan : 100000001100001010000001110010001000001111001000100001100001000010001101110\n",
      "\n",
      "------------------------------------\n",
      "| Ask Your Friends to Try it Now ! |\n",
      "------------------------------------\n",
      "\n",
      "Menu:\n",
      "1. Make Codewords\n",
      "2. Exit\n",
      "Thank You..\n",
      "Bye\n",
      "Bye\n"
     ]
    }
   ],
   "source": [
    "import QRmodule\n",
    "QRmodule.menu()"
   ]
  }
 ],
 "metadata": {
  "kernelspec": {
   "display_name": "Python 3",
   "language": "python",
   "name": "python3"
  },
  "language_info": {
   "codemirror_mode": {
    "name": "ipython",
    "version": 3
   },
   "file_extension": ".py",
   "mimetype": "text/x-python",
   "name": "python",
   "nbconvert_exporter": "python",
   "pygments_lexer": "ipython3",
   "version": "3.10.4"
  },
  "orig_nbformat": 4
 },
 "nbformat": 4,
 "nbformat_minor": 2
}
