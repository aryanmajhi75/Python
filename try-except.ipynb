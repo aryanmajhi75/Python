{
 "cells": [
  {
   "cell_type": "markdown",
   "metadata": {},
   "source": [
    "Division by Zero Error"
   ]
  },
  {
   "cell_type": "code",
   "execution_count": 1,
   "metadata": {},
   "outputs": [],
   "source": [
    "def f(x):\n",
    "    try:\n",
    "        print(1.0/x)\n",
    "    except ZeroDivisionError:\n",
    "        print(\"Division by 0\")\n",
    "    except (TypeError,ValueError):\n",
    "        print(\"Type or Value ERROR\")"
   ]
  },
  {
   "cell_type": "code",
   "execution_count": 2,
   "metadata": {},
   "outputs": [
    {
     "name": "stdout",
     "output_type": "stream",
     "text": [
      "1.0\n"
     ]
    }
   ],
   "source": [
    "f(1)"
   ]
  },
  {
   "cell_type": "code",
   "execution_count": 3,
   "metadata": {},
   "outputs": [
    {
     "name": "stdout",
     "output_type": "stream",
     "text": [
      "Type or Value ERROR\n"
     ]
    }
   ],
   "source": [
    "f('abc')"
   ]
  },
  {
   "cell_type": "markdown",
   "metadata": {},
   "source": [
    "Index Error"
   ]
  },
  {
   "cell_type": "code",
   "execution_count": 4,
   "metadata": {},
   "outputs": [
    {
     "name": "stdout",
     "output_type": "stream",
     "text": [
      "Wrong Index\n",
      "Done\n"
     ]
    }
   ],
   "source": [
    "def g(x):\n",
    "    arr=[1,1,1,3,3,3]\n",
    "    try:\n",
    "        print(arr[x])\n",
    "    except IndexError:\n",
    "        print(\"Wrong Index\")\n",
    "    finally:\n",
    "        print(\"Done\")\n",
    "\n",
    "g(10)"
   ]
  },
  {
   "cell_type": "markdown",
   "metadata": {},
   "source": [
    "Type Error"
   ]
  },
  {
   "cell_type": "code",
   "execution_count": 8,
   "metadata": {},
   "outputs": [
    {
     "name": "stdout",
     "output_type": "stream",
     "text": [
      "Type Error\n",
      "Done\n"
     ]
    }
   ],
   "source": [
    "g = \"Geek\"\n",
    "num = 4\n",
    "\n",
    "try:\n",
    "    print(g + num + g)\n",
    "except TypeError:\n",
    "    print(\"Type Error\")\n",
    "finally:\n",
    "    print(\"Done\")"
   ]
  },
  {
   "cell_type": "markdown",
   "metadata": {},
   "source": [
    "Out of Range Error"
   ]
  },
  {
   "cell_type": "code",
   "execution_count": 11,
   "metadata": {},
   "outputs": [
    {
     "name": "stdout",
     "output_type": "stream",
     "text": [
      "Type Error\n",
      "Done\n"
     ]
    }
   ],
   "source": [
    "g = [\"Geek\",\"Geeks\"]\n",
    "\n",
    "try:\n",
    "    print(g[3])\n",
    "except IndexError:\n",
    "    print(\"Type Error\")\n",
    "finally:\n",
    "    print(\"Done\")"
   ]
  }
 ],
 "metadata": {
  "kernelspec": {
   "display_name": "Python 3",
   "language": "python",
   "name": "python3"
  },
  "language_info": {
   "codemirror_mode": {
    "name": "ipython",
    "version": 3
   },
   "file_extension": ".py",
   "mimetype": "text/x-python",
   "name": "python",
   "nbconvert_exporter": "python",
   "pygments_lexer": "ipython3",
   "version": "3.11.4"
  },
  "orig_nbformat": 4
 },
 "nbformat": 4,
 "nbformat_minor": 2
}
