{
 "cells": [
  {
   "cell_type": "code",
   "execution_count": 1,
   "metadata": {},
   "outputs": [
    {
     "name": "stdout",
     "output_type": "stream",
     "text": [
      "[(1000, 'Trbati', 'Yolanda', 'F', 'Programmer')\n",
      " (1001, 'Kleinn', 'Joel', 'M', 'Programmer')\n",
      " (1002, 'Ginsburg', 'Laura', 'F', 'President')\n",
      " (1003, 'Cox', 'Jennifer', 'F', 'Programmer')\n",
      " (1005, 'Ziada', 'Mauri', 'M', 'Product Designer')\n",
      " (1006, 'Keyser', 'Cara', 'F', 'Account Executive')\n",
      " (1010, 'Smith', 'Roxie', 'M', 'Programmer')\n",
      " (1011, 'Nelson', 'Robert', 'M', 'Programmer')\n",
      " (1012, 'Sachsen', 'Lars', 'M', 'Support Technician')\n",
      " (1013, 'Shannon', 'Don', 'M', 'Product Designer')]\n"
     ]
    }
   ],
   "source": [
    "import numpy as np\n",
    "dtypes = [('emp_id', int), ('last_name', 'U20'), ('first_name', 'U20'), ('gender', 'U20'), ('Title', 'U20')]\n",
    "\n",
    "employee_table = np.array([], dtype=dtypes)\n",
    "emp1 = (1000, \"Trbati\", \"Yolanda\", \"F\", \"Programmer\")\n",
    "emp2 = (1001, \"Kleinn\", \"Joel\", \"M\", \"Programmer\")\n",
    "emp3 = (1002, \"Ginsburg\", \"Laura\", \"F\", \"President\")\n",
    "emp4 = (1003, \"Cox\", \"Jennifer\", \"F\", \"Programmer\")\n",
    "emp5 = (1005, \"Ziada\", \"Mauri\", \"M\", \"Product Designer\")\n",
    "emp6 = (1006, \"Keyser\", \"Cara\", \"F\", \"Account Executive\")\n",
    "emp7 = (1010, \"Smith\", \"Roxie\", \"M\", \"Programmer\")\n",
    "emp8 = (1011, \"Nelson\", \"Robert\", \"M\", \"Programmer\")\n",
    "emp9 = (1012, \"Sachsen\", \"Lars\", \"M\", \"Support Technician\")\n",
    "emp10 = (1013, \"Shannon\", \"Don\", \"M\", \"Product Designer\")\n",
    "\n",
    "employee_table = np.append(employee_table, np.array([emp1, emp2, emp3,emp4,emp5,emp6,emp7,emp8,emp9,emp10], dtype=dtypes))\n",
    "print(employee_table)\n",
    "\n",
    "\n",
    "\n",
    "\n"
   ]
  },
  {
   "cell_type": "code",
   "execution_count": 2,
   "metadata": {},
   "outputs": [
    {
     "name": "stdout",
     "output_type": "stream",
     "text": [
      "Number of Male Employees: 6\n",
      "[(1010, 'Smith', 'Roxie', 'M', 'Programmer')\n",
      " (1012, 'Sachsen', 'Lars', 'M', 'Support Technician')\n",
      " (1013, 'Shannon', 'Don', 'M', 'Product Designer')]\n",
      "(1000, 'Trbati', 'Yolanda', 'F', 'Programmer')\n",
      "(1002, 'Ginsburg', 'Laura', 'F', 'President')\n",
      "(1003, 'Cox', 'Jennifer', 'F', 'Programmer')\n",
      "(1006, 'Keyser', 'Cara', 'F', 'Account Executive')\n"
     ]
    }
   ],
   "source": [
    "import numpy as np\n",
    "dtypes = [('emp_id', int), ('last_name', 'U20'), ('first_name', 'U20'), ('gender', 'U20'), ('Title', 'U20')]\n",
    "employee_table = np.array([], dtype=dtypes)\n",
    "emp1 = (1000, \"Trbati\", \"Yolanda\", \"F\", \"Programmer\")\n",
    "emp2 = (1001, \"Kleinn\", \"Joel\", \"M\", \"Programmer\")\n",
    "emp3 = (1002, \"Ginsburg\", \"Laura\", \"F\", \"President\")\n",
    "emp4 = (1003, \"Cox\", \"Jennifer\", \"F\", \"Programmer\")\n",
    "emp5 = (1005, \"Ziada\", \"Mauri\", \"M\", \"Product Designer\")\n",
    "emp6 = (1006, \"Keyser\", \"Cara\", \"F\", \"Account Executive\")\n",
    "emp7 = (1010, \"Smith\", \"Roxie\", \"M\", \"Programmer\")\n",
    "emp8 = (1011, \"Nelson\", \"Robert\", \"M\", \"Programmer\")\n",
    "emp9 = (1012, \"Sachsen\", \"Lars\", \"M\", \"Support Technician\")\n",
    "emp10 = (1013, \"Shannon\", \"Don\", \"M\", \"Product Designer\")\n",
    "employee_table = np.append(employee_table, np.array([emp1, emp2, emp3, emp4, emp5, emp6, emp7, emp8, emp9, emp10], dtype=dtypes))\n",
    "male_employee_count = np.sum(employee_table['gender'] == 'M')\n",
    "print(\"Number of Male Employees:\", male_employee_count)\n",
    "s_emp = employee_table[np.char.startswith(employee_table['last_name'], 'S')]\n",
    "print(s_emp)\n",
    "female_employees = employee_table[employee_table['gender'] == 'F']\n",
    "sorted_female_employees = female_employees[np.argsort(female_employees['first_name'])[::-1]]\n",
    "for emp in sorted_female_employees:\n",
    "    print(emp)\n",
    "\n",
    "\n",
    "\n",
    "\n",
    "\n",
    "\n"
   ]
  },
  {
   "cell_type": "code",
   "execution_count": 3,
   "metadata": {},
   "outputs": [
    {
     "name": "stdout",
     "output_type": "stream",
     "text": [
      "(1000, 'Trbati', 'Yolanda', 'F', 'Programmer')\n",
      "(1002, 'Ginsburg', 'Laura', 'F', 'President')\n",
      "(1003, 'Cox', 'Jennifer', 'F', 'Programmer')\n",
      "(1006, 'Keyser', 'Cara', 'F', 'Account Executive')\n"
     ]
    }
   ],
   "source": [
    "sorted_female_employees = female_employees[np.argsort(female_employees['first_name'])[::-1]]\n",
    "for emp in sorted_female_employees:\n",
    "    print(emp)\n"
   ]
  },
  {
   "cell_type": "code",
   "execution_count": 4,
   "metadata": {},
   "outputs": [
    {
     "name": "stdout",
     "output_type": "stream",
     "text": [
      "Number of Male Employees: 6\n",
      "[(1010, 'Smith', 'Roxie', 'M', 'Programmer')\n",
      " (1012, 'Sachsen', 'Lars', 'M', 'Support Technician')\n",
      " (1013, 'Shannon', 'Don', 'M', 'Product Designer')]\n"
     ]
    }
   ],
   "source": [
    "male_employee_count = np.sum(employee_table['gender'] == 'M')\n",
    "print(\"Number of Male Employees:\", male_employee_count)\n",
    "s_emp = employee_table[np.char.startswith(employee_table['last_name'], 'S')]\n",
    "print(s_emp)\n",
    "female_employees = employee_table[employee_table['gender'] == 'F']"
   ]
  },
  {
   "cell_type": "code",
   "execution_count": 5,
   "metadata": {},
   "outputs": [
    {
     "name": "stdout",
     "output_type": "stream",
     "text": [
      "2D Array:\n",
      "[[(1000, 'Trbati', 'Yolanda', 'F', 'Programmer')\n",
      "  (1001, 'Kleinn', 'Joel', 'M', 'Programmer')\n",
      "  (1002, 'Ginsburg', 'Laura', 'F', 'President')\n",
      "  (1003, 'Cox', 'Jennifer', 'F', 'Programmer')\n",
      "  (1005, 'Ziada', 'Mauri', 'M', 'Product Designer')]\n",
      " [(1006, 'Keyser', 'Cara', 'F', 'Account Executive')\n",
      "  (1010, 'Smith', 'Roxie', 'M', 'Programmer')\n",
      "  (1011, 'Nelson', 'Robert', 'M', 'Programmer')\n",
      "  (1012, 'Sachsen', 'Lars', 'M', 'Support Technician')\n",
      "  (1013, 'Shannon', 'Don', 'M', 'Product Designer')]]\n"
     ]
    }
   ],
   "source": [
    "\n",
    "one_dim_array = employee_table.view(np.ndarray).ravel()\n",
    "two_dim_array = one_dim_array.reshape(-1, 5) \n",
    "print(\"2D Array:\")\n",
    "print(two_dim_array)"
   ]
  },
  {
   "cell_type": "code",
   "execution_count": 6,
   "metadata": {},
   "outputs": [
    {
     "name": "stdout",
     "output_type": "stream",
     "text": [
      "[(1002, 'Ginsburg', 'President') (1003, 'Cox', 'Programmer')\n",
      " (1005, 'Ziada', 'Product Designer') (1006, 'Keyser', 'Account Executive')\n",
      " (1010, 'Smith', 'Programmer') (1011, 'Nelson', 'Programmer')\n",
      " (1012, 'Sachsen', 'Support Technician')]\n"
     ]
    }
   ],
   "source": [
    "start_emp_id = 1002\n",
    "end_emp_id = 1012\n",
    "mask = (employee_table['emp_id'] >= start_emp_id) & (employee_table['emp_id'] <= end_emp_id)\n",
    "columns_to_extract = ['emp_id', 'last_name', 'Title']\n",
    "filtered_data = employee_table[mask][columns_to_extract]\n",
    "print(filtered_data)"
   ]
  }
 ],
 "metadata": {
  "kernelspec": {
   "display_name": "Python 3",
   "language": "python",
   "name": "python3"
  },
  "language_info": {
   "codemirror_mode": {
    "name": "ipython",
    "version": 3
   },
   "file_extension": ".py",
   "mimetype": "text/x-python",
   "name": "python",
   "nbconvert_exporter": "python",
   "pygments_lexer": "ipython3",
   "version": "3.10.4"
  },
  "orig_nbformat": 4
 },
 "nbformat": 4,
 "nbformat_minor": 2
}
