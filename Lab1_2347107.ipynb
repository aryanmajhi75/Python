{
  "cells": [
    {
      "cell_type": "markdown",
      "metadata": {
        "id": "-dJGBxgIiywX"
      },
      "source": [
        "1MCA-B PYTHON Programming\\\n",
        "26-07-2023(Wednesday 09-11AM)\n",
        "\n",
        "Regular lab Questions - Q1\n",
        "\n",
        "1. Demonstrate use of Python data structures.\\\n",
        "STR\n",
        "\n",
        "(a) Write a paragraph on your identified domain. Write a python program\\\n",
        "to find the frequency of the given word(your domain name) in the paragraph.\\\n",
        "to compute the number of characters, words and lines in the paragraph\\\n",
        "to arrange the letters of the given word(your domain name) in alphabetical order\n",
        "\n",
        "(b) Write a python program to encrypt a given string(your domain name) using the following method:\\\n",
        "Encrypt Method: Add a number ‘n’(given by the user ) to each alphabet in the\n",
        "given string to create the corresponding letter.\\\n",
        "Example: \\\n",
        "Input: bat\\\n",
        "Encrypt Method:value of n = 3\\\n",
        "Output:edw.\\\n",
        "\n",
        "2. Functions\\\n",
        "Implement a function pay() that takes as input two arguments: an hourly wage and the number of hours an employee worked last week. Your function should compute and return the employee’s pay. Any hours worked beyond 40 is overtime and should be paid 1.5 times the regular hourly wage.\n",
        ">>> pay(10,35)\\\n",
        "350\\\n",
        ">>>pay(10,45)\\\n",
        "475\n",
        "\n",
        "3. Tuple\\\n",
        "Create a list of tuples that consists of two neumatic and one string\n",
        "For example houses for rent, the number of bedrooms and their prices, like so:\\\n",
        "\\[ ('main st.', 4, 4000), ('elm st.', 1, 1200), ('pine st.', 2, 1600)]\\\n",
        "Sort the list in the following ways:\\\n",
        "In ascending order by first numeric value\\\n",
        "In descending order by second numeric value\\\n",
        "In alphabetical order of string value\\\n",
        "\n"
      ]
    },
    {
      "cell_type": "code",
      "execution_count": 2,
      "metadata": {
        "id": "2NCmJT7CmzLe"
      },
      "outputs": [],
      "source": [
        "import time"
      ]
    },
    {
      "cell_type": "markdown",
      "metadata": {
        "id": "nZiYa583uPUs"
      },
      "source": [
        "Question 1 : Strings"
      ]
    },
    {
      "cell_type": "code",
      "execution_count": 3,
      "metadata": {
        "id": "T1jEhQZAix95"
      },
      "outputs": [],
      "source": [
        "lyrics=\"\"\"I found a love, for me\n",
        "Darling, just dive right in and follow my lead\n",
        "Well, I found a girl, beautiful and sweet\n",
        "Oh, I never knew you were the someone waiting for me\n",
        "'Cause we were just kids when we fell in love\n",
        "Not knowing what it was\n",
        "I will not give you up this time\n",
        "But darling, just kiss me slow\n",
        "Your heart is all I own\n",
        "And in your eyes, you're holding mine\n",
        "Baby, I'm dancing in the dark\n",
        "With you between my arms\n",
        "Barefoot on the grass\n",
        "Listening to our favourite song\n",
        "When you said you looked a mess\n",
        "I whispered underneath my breath\n",
        "But you heard it\n",
        "Darling, you look perfect tonight\n",
        "Well, I found a woman, stronger than anyone I know\n",
        "She shares my dreams, I hope that someday I'll share her home\n",
        "I found a lover, to carry more than just my secrets\n",
        "To carry love, to carry children of our own\n",
        "We are still kids, but we're so in love\n",
        "Fighting against all odds\n",
        "I know we'll be alright this time\n",
        "Darling, just hold my hand\n",
        "Be my girl, I'll be your man\n",
        "I see my future in your eyes\n",
        "Baby, I'm dancing in the dark\n",
        "With you between my arms\n",
        "Barefoot on the grass\n",
        "Listening to our favorite song\n",
        "When I saw you in that dress, looking so beautiful\n",
        "I don't deserve this\n",
        "Darling, you look perfect tonight\n",
        "Baby, I'm dancing in the dark\n",
        "With you between my arms\n",
        "Barefoot on the grass\n",
        "Listening to our favorite song\n",
        "I have faith in what I see\n",
        "Now I know I have met an angel in person\n",
        "And she looks perfect\n",
        "I don't deserve this\n",
        "You look perfect tonight\"\"\""
      ]
    },
    {
      "cell_type": "code",
      "execution_count": 11,
      "metadata": {
        "colab": {
          "base_uri": "https://localhost:8080/"
        },
        "id": "TI3i-SlNj1sf",
        "outputId": "f6e04dba-78fd-450c-ee22-92b84cc5587b"
      },
      "outputs": [
        {
          "name": "stdout",
          "output_type": "stream",
          "text": [
            "\n",
            "Menu:\n",
            "1. Token verification\n",
            "2. Check Word Frequency\n",
            "3. Find number of character, words and lines\n",
            "4. Arrange the whole song in alphabetical order (a-z)\n",
            "5. Exit\n"
          ]
        },
        {
          "name": "stdout",
          "output_type": "stream",
          "text": [
            "\n",
            "\n",
            "WELCOME TO SPOTIFY :)\n",
            " Your token is : [ abcefwedsad ]\n",
            "fghjk\n",
            "SORRY! invalid token id \n",
            "\n",
            "Menu:\n",
            "1. Token verification\n",
            "2. Check Word Frequency\n",
            "3. Find number of character, words and lines\n",
            "4. Arrange the whole song in alphabetical order (a-z)\n",
            "5. Exit\n",
            "You selected option to check for word frequency!\n",
            "\n",
            "Song selected (default): Perfect [by Ed Sheeran]\n",
            "\n",
            "Keyword : i\n",
            "Number of occeurrences of i : 69\n",
            "\n",
            "Menu:\n",
            "1. Token verification\n",
            "2. Check Word Frequency\n",
            "3. Find number of character, words and lines\n",
            "4. Arrange the whole song in alphabetical order (a-z)\n",
            "5. Exit\n",
            "You selected option to check for word frequency!\n",
            "\n",
            "Song selected (default): Perfect [by Ed Sheeran]\n",
            "\n",
            "Keyword : are\n",
            "Number of occeurrences of are : 6\n",
            "\n",
            "Menu:\n",
            "1. Token verification\n",
            "2. Check Word Frequency\n",
            "3. Find number of character, words and lines\n",
            "4. Arrange the whole song in alphabetical order (a-z)\n",
            "5. Exit\n",
            "You selected option to check for word frequency!\n",
            "\n",
            "Song selected (default): Perfect [by Ed Sheeran]\n",
            "\n",
            "Keyword : i\n",
            "Number of occeurrences of i : 69\n",
            "\n",
            "Menu:\n",
            "1. Token verification\n",
            "2. Check Word Frequency\n",
            "3. Find number of character, words and lines\n",
            "4. Arrange the whole song in alphabetical order (a-z)\n",
            "5. Exit\n",
            "You selected option list number of words,characters and lines!\n",
            "\n",
            "Song selected (default): Perfect [by Ed Sheeran]\n",
            "\n",
            "Number of characters : 1437\n",
            "Number of words : 286\n",
            "Number of lines : 44\n",
            "\n",
            "Menu:\n",
            "1. Token verification\n",
            "2. Check Word Frequency\n",
            "3. Find number of character, words and lines\n",
            "4. Arrange the whole song in alphabetical order (a-z)\n",
            "5. Exit\n",
            "You selected option arrange lyrics in ascending order!\n",
            "\n",
            "Song selected (default): Perfect [by Ed Sheeran]\n",
            "\n",
            "'Cause And And Baby, Baby, Baby, Barefoot Barefoot Barefoot Be But But Darling, Darling, Darling, Darling, Fighting I I I I I I I I I I I I I I I I I I I I'll I'll I'm I'm I'm Listening Listening Listening Not Now Oh, She To We Well, Well, When When With With With You Your a a a a a against all all alright an and and angel anyone are arms arms arms be be beautiful beautiful between between between breath but carry carry carry children dancing dancing dancing dark dark dark darling, deserve deserve dive don't don't dreams, dress, eyes eyes, faith favorite favorite favourite fell follow for for found found found found future girl, girl, give grass grass grass hand have have heard heart her hold holding home hope in in in in in in in in in in in is it it just just just just just kids kids, kiss knew know know know knowing lead look look look looked looking looks love love love, love, lover, man me me me mess met mine more my my my my my my my my my my never not odds of on on on our our our our own own perfect perfect perfect perfect person right said saw secrets see see share shares she slow so so someday someone song song song still stronger sweet than than that that the the the the the the the this this this this time time to to to to to tonight tonight tonight underneath up waiting was we we we'll we're were were what what when whispered will woman, you you you you you you you you you you you you're your your your\n",
            "\n",
            "Menu:\n",
            "1. Token verification\n",
            "2. Check Word Frequency\n",
            "3. Find number of character, words and lines\n",
            "4. Arrange the whole song in alphabetical order (a-z)\n",
            "5. Exit\n",
            "Thank You..\n",
            "Bye\n",
            "Bye\n"
          ]
        }
      ],
      "source": [
        "def wordFreq():\n",
        "    print(\"You selected option to check for word frequency!\\n\")\n",
        "    print(\"Song selected (default): Perfect [by Ed Sheeran]\\n\")\n",
        "    time.sleep(1)\n",
        "    word=input(\"Enter any word to check its frequency : \")\n",
        "    time.sleep(0.5)\n",
        "    print(f\"Keyword : {word}\")\n",
        "    word.lower()\n",
        "    lyrics.lower()\n",
        "    frequency=lyrics.count(word)\n",
        "    print(f\"Number of occeurrences of {word} : {frequency}\")\n",
        "\n",
        "def numberOfCharWordsLines():\n",
        "    print(\"You selected option list number of words,characters and lines!\\n\")\n",
        "    print(\"Song selected (default): Perfect [by Ed Sheeran]\\n\")\n",
        "    ncharacters=len(lyrics)\n",
        "    nwords=len(lyrics.split())\n",
        "    nlines=len(lyrics.splitlines())\n",
        "    time.sleep(0.5)\n",
        "    print(f\"Number of characters : {ncharacters}\")\n",
        "    time.sleep(0.5)\n",
        "    print(f\"Number of words : {nwords}\")\n",
        "    time.sleep(0.5)\n",
        "    print(f\"Number of lines : {nlines}\")\n",
        "\n",
        "def arrangeAsc():\n",
        "    print(\"You selected option arrange lyrics in ascending order!\\n\")\n",
        "    print(\"Song selected (default): Perfect [by Ed Sheeran]\\n\")\n",
        "    words = lyrics.split()\n",
        "    words.sort()\n",
        "    arranged_lyrics = \" \".join(words)\n",
        "    time.sleep(0.5)\n",
        "    print(arranged_lyrics)\n",
        "\n",
        "def login():\n",
        "    welcome_text=\"WELCOME TO SPOTIFY :)\"\n",
        "    print(\"\\n\")\n",
        "    for char in welcome_text:\n",
        "        print(char,end='',flush=True)\n",
        "        time.sleep(0.1)\n",
        "    print()\n",
        "    token=input(\"Enter your token id : \") #[ valid token : aryan@12345 ]\n",
        "    print(f\" Your token is : [ {token} ]\")\n",
        "    key=\"\"\n",
        "    shiftKey=token[:5]\n",
        "    for i in shiftKey:\n",
        "      # print(i)\n",
        "      passkey=chr((ord(i.lower()) - ord('a') + 5) % 26 + ord('a'))#value increased by 5\n",
        "      key+=passkey\n",
        "    print(key)\n",
        "    key+=token[5:]\n",
        "      # print(f\"key : {passkey}\")\n",
        "      # print(f\"key : {key}\")\n",
        "    if(key==\"fwdfs@12345\"):\n",
        "      print(\"WELCOME aRyAn !\")\n",
        "    else:\n",
        "      print(\"SORRY! invalid token id \")\n",
        "      # exit(0)\n",
        "\n",
        "def main():\n",
        "    while True:\n",
        "        print(\"\\nMenu:\")\n",
        "        print(\"1. Token verification\")\n",
        "        print(\"2. Check Word Frequency\")\n",
        "        print(\"3. Find number of character, words and lines\")\n",
        "        print(\"4. Arrange the whole song in alphabetical order (a-z)\")\n",
        "        print(\"5. Exit\")\n",
        "\n",
        "        choice = input(\"Enter your choice (1/2/3/4/5): \")\n",
        "\n",
        "        if choice == \"1\":\n",
        "            login()\n",
        "        elif choice == \"2\":\n",
        "            wordFreq()\n",
        "        elif choice == \"3\":\n",
        "            numberOfCharWordsLines()\n",
        "        elif choice == \"4\":\n",
        "            arrangeAsc()\n",
        "        elif choice == \"5\":\n",
        "            time.sleep(1)\n",
        "            print(\"Thank You..\")\n",
        "            for i in range(0,2):\n",
        "              time.sleep(1)\n",
        "              print(\"Bye\")\n",
        "            break\n",
        "        else:\n",
        "            print(\"Invalid choice! Please select a valid option i.e. -> (1/2/3/4/5).\")\n",
        "\n",
        "if __name__ == \"__main__\":\n",
        "    main()\n"
      ]
    },
    {
      "cell_type": "code",
      "execution_count": 5,
      "metadata": {
        "colab": {
          "base_uri": "https://localhost:8080/"
        },
        "id": "C5sA5-aX4jB4",
        "outputId": "f9ea842a-945d-479a-8164-b0033f48e899"
      },
      "outputs": [
        {
          "name": "stdout",
          "output_type": "stream",
          "text": [
            "16\n"
          ]
        }
      ],
      "source": [
        "print(ord('r')-ord('b'))"
      ]
    },
    {
      "cell_type": "code",
      "execution_count": 6,
      "metadata": {
        "colab": {
          "base_uri": "https://localhost:8080/",
          "height": 127
        },
        "id": "UgTvZCR99Vbm",
        "outputId": "18c6cf42-4faa-4931-e1e3-f4fb71c24f2d"
      },
      "outputs": [
        {
          "name": "stdout",
          "output_type": "stream",
          "text": [
            "97\n",
            "0\n",
            "5\n",
            "5\n",
            "102\n"
          ]
        },
        {
          "data": {
            "text/plain": [
              "'f'"
            ]
          },
          "execution_count": 6,
          "metadata": {},
          "output_type": "execute_result"
        }
      ],
      "source": [
        "print(ord('a'))\n",
        "print(ord('a') - ord('a'))\n",
        "print(ord('a') - ord('a')+5)\n",
        "print((ord('a') - ord('a')+5) %26)\n",
        "print((ord('a') - ord('a')+5) %26+ord('a'))\n",
        "chr(102)"
      ]
    },
    {
      "cell_type": "code",
      "execution_count": 7,
      "metadata": {
        "colab": {
          "base_uri": "https://localhost:8080/"
        },
        "id": "G_YRngo8ukM5",
        "outputId": "9b08f18d-14cb-4ef2-a468-2792876a9fbc"
      },
      "outputs": [
        {
          "name": "stdout",
          "output_type": "stream",
          "text": [
            "@12345\n",
            "aryan\n",
            "a\n",
            "key : f\n",
            "r\n",
            "key : w\n",
            "y\n",
            "key : d\n",
            "a\n",
            "key : f\n",
            "n\n",
            "key : s\n",
            "key : fwdfs@12345\n"
          ]
        }
      ],
      "source": [
        "token=\"aryan@12345\"\n",
        "change= token[:5]\n",
        "print(token[5:])\n",
        "print(change)\n",
        "key=\"\"\n",
        "for i in change:\n",
        "  print(i)\n",
        "  passkey=chr((ord(i.lower()) - ord('a') + 5) % 26 + ord('a'))#chr((ord(char.lower()) - ord('a') + shift) % 26 + ord('a'))\n",
        "  key+=passkey\n",
        "  print(f\"key : {passkey}\")\n",
        "key+=token[5:]\n",
        "print(f\"key : {key}\")"
      ]
    },
    {
      "cell_type": "markdown",
      "metadata": {
        "id": "BMrOtBKwugZO"
      },
      "source": [
        "Question 2 : Functions"
      ]
    },
    {
      "cell_type": "code",
      "execution_count": 12,
      "metadata": {
        "colab": {
          "base_uri": "https://localhost:8080/"
        },
        "id": "lyPClyGwAyp_",
        "outputId": "554ee550-88f7-4ac2-d6e0-9e6e3fed2234"
      },
      "outputs": [
        {
          "name": "stdout",
          "output_type": "stream",
          "text": [
            "\n",
            "Menu:\n",
            "1. Add Spotify Plan\n",
            "2. Exit\n",
            "---------------------------------------------------------------------------------------------------------------\n",
            "| ? Custom Plan lets u choose how many hours u will use the app and billing happens accordingly *T&C applied  |\n",
            "---------------------------------------------------------------------------------------------------------------\n",
            "No. of hours to be used : 45\n",
            "No. of days to be used : 15\n",
            "* For playtime more than 40 hours will charge 5.985\n",
            "Your bill for 15 days : $4039.875\n",
            "\n",
            "Menu:\n",
            "1. Add Spotify Plan\n",
            "2. Exit\n",
            "---------------------------------------------------------------------------------------------------------------\n",
            "| ? Custom Plan lets u choose how many hours u will use the app and billing happens accordingly *T&C applied  |\n",
            "---------------------------------------------------------------------------------------------------------------\n",
            "No. of hours to be used : 40\n",
            "No. of days to be used : 15\n",
            "Your bill for 15 days : $2394.0\n",
            "\n",
            "Menu:\n",
            "1. Add Spotify Plan\n",
            "2. Exit\n",
            "Thank You..\n",
            "Bye\n",
            "Bye\n"
          ]
        }
      ],
      "source": [
        "import time\n",
        "\n",
        "def customPlan(hours,days):\n",
        "  if hours<=40:\n",
        "    bill=hours*days*3.99\n",
        "  else:\n",
        "    bill=hours*days*(1.5*3.99)\n",
        "  if(hours>40):\n",
        "    print(\"* For playtime more than 40 hours will charge 5.985\")\n",
        "  print(f\"Your bill for {days} days : ${bill}\") \n",
        "def main():\n",
        "    while True:\n",
        "        print(\"\\nMenu:\")\n",
        "        print(\"1. Add Spotify Plan\")\n",
        "        print(\"2. Exit\")\n",
        "\n",
        "        choice = input(\"Enter your choice (1/2): \")\n",
        "\n",
        "        if choice == \"1\":\n",
        "            print(\"---------------------------------------------------------------------------------------------------------------\")\n",
        "            print(\"| ? Custom Plan lets u choose how many hours u will use the app and billing happens accordingly *T&C applied  |\")\n",
        "            print(\"---------------------------------------------------------------------------------------------------------------\")\n",
        "            hours=int(input(\"Enter number of hours you want to avail this plan : \"))\n",
        "            print(f\"No. of hours to be used : {hours}\")\n",
        "            days=int(input(\"Enter number of days you want to avail this plan : \"))\n",
        "            print(f\"No. of days to be used : {days}\")\n",
        "            customPlan(hours,days)\n",
        "        # elif choice == \"2\":\n",
        "        #     wordFreq()\n",
        "        # elif choice == \"3\":\n",
        "        #     numberOfCharWordsLines()\n",
        "        # elif choice == \"4\":\n",
        "        #     arrangeAsc()\n",
        "        elif choice == \"2\":\n",
        "            time.sleep(1)\n",
        "            print(\"Thank You..\")\n",
        "            for i in range(0,2):\n",
        "              time.sleep(1)\n",
        "              print(\"Bye\")\n",
        "            break\n",
        "        else:\n",
        "            print(\"Invalid choice! Please select a valid option i.e. -> (1/2).\")\n",
        "\n",
        "if __name__ == \"__main__\":\n",
        "\n",
        "    main()"
      ]
    },
    {
      "cell_type": "markdown",
      "metadata": {
        "id": "Ly6efbcrGqTz"
      },
      "source": [
        "Question : 3 Tuple"
      ]
    },
    {
      "cell_type": "code",
      "execution_count": 14,
      "metadata": {
        "colab": {
          "base_uri": "https://localhost:8080/"
        },
        "id": "Ltl4vgH0GxcA",
        "outputId": "f3b65643-aad7-496f-c83b-1d4cc2f7b07c"
      },
      "outputs": [
        {
          "name": "stdout",
          "output_type": "stream",
          "text": [
            "\n",
            "Menu:\n",
            "1. Add Spotify Plan\n",
            "2. Sort plans by plan prices (Asc)\n",
            "3. Sort plans by plan prices (Desc)\n",
            "4. Sort plans by Names\n",
            "5. Display Saved Plans\n",
            "6. Exit\n",
            "\n",
            "Your first name : Aryan \n",
            "\n",
            "Your last name : Majhi\n",
            "\n",
            "Plan used by u : 4.85\n",
            "\n",
            "Plan added for Aryan  Majhi\n",
            "\n",
            "Menu:\n",
            "1. Add Spotify Plan\n",
            "2. Sort plans by plan prices (Asc)\n",
            "3. Sort plans by plan prices (Desc)\n",
            "4. Sort plans by Names\n",
            "5. Display Saved Plans\n",
            "6. Exit\n",
            "\n",
            "Sorting by Plans in ascending order\n",
            "DONE!\n",
            "\n",
            "Menu:\n",
            "1. Add Spotify Plan\n",
            "2. Sort plans by plan prices (Asc)\n",
            "3. Sort plans by plan prices (Desc)\n",
            "4. Sort plans by Names\n",
            "5. Display Saved Plans\n",
            "6. Exit\n",
            "\n",
            "Displaying all plans : \n",
            "\n",
            "('Aryan ', 'Majhi', 4.85)\n",
            "\n",
            "Menu:\n",
            "1. Add Spotify Plan\n",
            "2. Sort plans by plan prices (Asc)\n",
            "3. Sort plans by plan prices (Desc)\n",
            "4. Sort plans by Names\n",
            "5. Display Saved Plans\n",
            "6. Exit\n",
            "\n",
            "Your first name : anupam\n",
            "\n",
            "Your last name : kumar\n",
            "\n",
            "Plan used by u : 3.99\n",
            "\n",
            "Plan added for anupam kumar\n",
            "\n",
            "Menu:\n",
            "1. Add Spotify Plan\n",
            "2. Sort plans by plan prices (Asc)\n",
            "3. Sort plans by plan prices (Desc)\n",
            "4. Sort plans by Names\n",
            "5. Display Saved Plans\n",
            "6. Exit\n",
            "\n",
            "Displaying all plans : \n",
            "\n",
            "('Aryan ', 'Majhi', 4.85)\n",
            "('anupam', 'kumar', 3.99)\n",
            "\n",
            "Menu:\n",
            "1. Add Spotify Plan\n",
            "2. Sort plans by plan prices (Asc)\n",
            "3. Sort plans by plan prices (Desc)\n",
            "4. Sort plans by Names\n",
            "5. Display Saved Plans\n",
            "6. Exit\n",
            "\n",
            "Thank You..\n",
            "Bye\n",
            "Bye\n"
          ]
        }
      ],
      "source": [
        "import time\n",
        "\n",
        "listPlans = []\n",
        "\n",
        "def addPlan(firstName,lastName,price):\n",
        "\n",
        "  tuplePlans = ()\n",
        "  print(f\"Plan added for {firstName} {lastName}\")\n",
        "  tuplePlans=(firstName,lastName,price)\n",
        "  listPlans.append(tuplePlans)\n",
        "\n",
        "def sortAscPlan():\n",
        "  time.sleep(0.5)\n",
        "  print(\"Sorting by Plans in ascending order\")\n",
        "  listPlans.sort(key=lambda a:a[2])\n",
        "  time.sleep(0.5)\n",
        "  print(\"DONE!\")\n",
        "\n",
        "def sortDescPlan():\n",
        "  time.sleep(0.5)\n",
        "  print(\"Sorting by Plans in descending order\")\n",
        "  listPlans.sort(key=lambda a:a[2],reverse=True)\n",
        "  time.sleep(0.5)\n",
        "  print(\"DONE!\")\n",
        "\n",
        "def sortfirstName():\n",
        "  time.sleep(0.5)\n",
        "  print(\"Sorting by Names in ascending order\")\n",
        "  listPlans.sort(key=lambda a:a[0])\n",
        "  time.sleep(0.5)\n",
        "  print(\"DONE!\")\n",
        "\n",
        "def displayPlans():\n",
        "  time.sleep(0.5)\n",
        "  print(\"Displaying all plans : \\n\")\n",
        "  for i in range(0,len(listPlans)):\n",
        "    time.sleep(0.5)\n",
        "    print(listPlans[i])\n",
        "\n",
        "def main():\n",
        "    while True:\n",
        "        print(\"\\nMenu:\")\n",
        "        print(\"1. Add Spotify Plan\")\n",
        "        print(\"2. Sort plans by plan prices (Asc)\")\n",
        "        print(\"3. Sort plans by plan prices (Desc)\")\n",
        "        print(\"4. Sort plans by Names\")\n",
        "        print(\"5. Display Saved Plans\")\n",
        "        print(\"6. Exit\\n\")\n",
        "\n",
        "        choice = input(\"Enter your choice (1/2): \")\n",
        "\n",
        "        if choice == \"1\":\n",
        "            firstName=input(\"\\nEnter your first name : \")\n",
        "            print(f\"Your first name : {firstName}\\n\")\n",
        "            lastName=input(\"\\nEnter your last name : \")\n",
        "            print(f\"Your last name : {lastName}\\n\")\n",
        "            price=float(input(\"\\nEnter the plan u are using : \"))\n",
        "            print(f\"Plan used by u : {price}\\n\")\n",
        "            addPlan(firstName,lastName,price)\n",
        "        elif choice == \"2\":\n",
        "            sortAscPlan()\n",
        "        elif choice == \"3\":\n",
        "            sortDescPlan()\n",
        "        elif choice == \"4\":\n",
        "            sortfirstName()\n",
        "        elif choice == \"5\":\n",
        "            displayPlans()\n",
        "        elif choice == \"6\":\n",
        "            time.sleep(1)\n",
        "            print(\"Thank You..\")\n",
        "            for i in range(0,2):\n",
        "              time.sleep(1)\n",
        "              print(\"Bye\")\n",
        "            break\n",
        "        else:\n",
        "            print(\"Invalid choice! Please select a valid option i.e. -> (1/2).\")\n",
        "\n",
        "if __name__ == \"__main__\":\n",
        "\n",
        "    main()"
      ]
    },
    {
      "cell_type": "code",
      "execution_count": 10,
      "metadata": {
        "colab": {
          "base_uri": "https://localhost:8080/"
        },
        "id": "csxHQ0rqJ1Mf",
        "outputId": "3bf0a93d-57be-47a2-cd7a-562bf702a585"
      },
      "outputs": [
        {
          "name": "stdout",
          "output_type": "stream",
          "text": [
            "('aryan', 'majhi', 3.99)\n",
            "[]\n",
            "[('aryan', 'majhi', 3.99)]\n",
            "[('aryan', 'majhi', 3.99), ('anupam', 'kumar', 5.99)]\n",
            "2\n",
            "('aryan', 'majhi', 3.99)\n",
            "('anupam', 'kumar', 5.99)\n"
          ]
        }
      ],
      "source": [
        "tuple1=(\"aryan\",\"majhi\",3.99)\n",
        "tuple2=(\"anupam\",\"kumar\",5.99)\n",
        "print(tuple1)\n",
        "list1=[]\n",
        "print(list1)\n",
        "list1.append(tuple1)\n",
        "print(list1)\n",
        "list1.append(tuple2)\n",
        "print(list1)\n",
        "print(len(list1))\n",
        "for i in range (0,2):\n",
        "  print(list1[i])"
      ]
    }
  ],
  "metadata": {
    "colab": {
      "provenance": []
    },
    "kernelspec": {
      "display_name": "Python 3",
      "name": "python3"
    },
    "language_info": {
      "codemirror_mode": {
        "name": "ipython",
        "version": 3
      },
      "file_extension": ".py",
      "mimetype": "text/x-python",
      "name": "python",
      "nbconvert_exporter": "python",
      "pygments_lexer": "ipython3",
      "version": "3.10.4"
    }
  },
  "nbformat": 4,
  "nbformat_minor": 0
}
