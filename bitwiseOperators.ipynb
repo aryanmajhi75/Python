{
 "cells": [
  {
   "cell_type": "code",
   "execution_count": 3,
   "metadata": {},
   "outputs": [
    {
     "name": "stdout",
     "output_type": "stream",
     "text": [
      "~x =  2\n",
      "2\n",
      "3\n",
      "-4\n",
      "1\n",
      "0\n",
      "16\n"
     ]
    }
   ],
   "source": [
    "x=2\n",
    "y=3\n",
    "a=x&y\n",
    "b=x|y\n",
    "c=~y\n",
    "d=x^y\n",
    "e=x>>y\n",
    "f=x<<y\n",
    "x=2\n",
    "~x\n",
    "print(\"~x = \",x)\n",
    "\n",
    "print(a)\n",
    "print(b)\n",
    "print(c)\n",
    "print(d)\n",
    "print(e)\n",
    "print(f)"
   ]
  },
  {
   "cell_type": "code",
   "execution_count": 5,
   "metadata": {},
   "outputs": [
    {
     "name": "stdout",
     "output_type": "stream",
     "text": [
      "6\n",
      "-4\n",
      "1876\n",
      "1876\n",
      "2.5\n",
      "\n"
     ]
    }
   ],
   "source": [
    "print(1+3*2-5+4)\n",
    "print(1+3*(2-5)+4)\n",
    "print(5**2**2*3+1)\n",
    "print(5**(2**2)*3+1)\n",
    "print(1+3/2)"
   ]
  },
  {
   "cell_type": "code",
   "execution_count": 9,
   "metadata": {},
   "outputs": [
    {
     "name": "stdout",
     "output_type": "stream",
     "text": [
      "100000.0\n",
      "3.1622776601683795\n"
     ]
    }
   ],
   "source": [
    "import math \n",
    "\n",
    "print(math.pow(10,5))\n",
    "print(math.sqrt(10))"
   ]
  },
  {
   "cell_type": "markdown",
   "metadata": {},
   "source": [
    "Celsius to Fahrenheit"
   ]
  },
  {
   "cell_type": "code",
   "execution_count": 12,
   "metadata": {},
   "outputs": [
    {
     "name": "stdout",
     "output_type": "stream",
     "text": [
      "The temperature in Fahrenheit is :  32.0\n"
     ]
    }
   ],
   "source": [
    "celsius=float(input(\"Enter temperature in Celsius : \"))\n",
    "fahrenheit=celsius*(9/5)+32\n",
    "print(\"The temperature in Fahrenheit is : \",fahrenheit)"
   ]
  },
  {
   "cell_type": "markdown",
   "metadata": {},
   "source": [
    "Metre to Foot"
   ]
  },
  {
   "cell_type": "code",
   "execution_count": 14,
   "metadata": {},
   "outputs": [
    {
     "name": "stdout",
     "output_type": "stream",
     "text": [
      "The temperature in Fahrenheit is :  6.56168\n"
     ]
    }
   ],
   "source": [
    "metre=float(input(\"Enter the length in Meters : \"))\n",
    "foot=3.28084*metre\n",
    "print(\"The temperature in Fahrenheit is : \",foot)"
   ]
  },
  {
   "cell_type": "markdown",
   "metadata": {},
   "source": [
    "Acre to Square Metre"
   ]
  },
  {
   "cell_type": "code",
   "execution_count": 15,
   "metadata": {},
   "outputs": [
    {
     "name": "stdout",
     "output_type": "stream",
     "text": [
      "The temperature in Fahrenheit is :  4046.86\n"
     ]
    }
   ],
   "source": [
    "acre=float(input(\"Enter the length in Meters : \"))\n",
    "sqMetre=4046.86*acre\n",
    "print(\"The temperature in Fahrenheit is : \",sqMetre)"
   ]
  },
  {
   "cell_type": "markdown",
   "metadata": {},
   "source": [
    "Pound to Kilogram"
   ]
  },
  {
   "cell_type": "code",
   "execution_count": 20,
   "metadata": {},
   "outputs": [
    {
     "name": "stdout",
     "output_type": "stream",
     "text": [
      "The temperature in Fahrenheit is :  0.907184\n"
     ]
    }
   ],
   "source": [
    "Pound=float(input(\"Enter the length in Meters : \"))\n",
    "Kg=0.453592*Pound\n",
    "print(\"The temperature in Fahrenheit is : \",Kg)"
   ]
  },
  {
   "cell_type": "code",
   "execution_count": 21,
   "metadata": {},
   "outputs": [
    {
     "name": "stdout",
     "output_type": "stream",
     "text": [
      "0\n",
      "1\n",
      "2\n",
      "Done with i  3\n"
     ]
    }
   ],
   "source": [
    "i=0\n",
    "while i<3:\n",
    "    print(i)\n",
    "    i+=1\n",
    "else:\n",
    "    print(\"Done with i \",i)"
   ]
  },
  {
   "cell_type": "markdown",
   "metadata": {},
   "source": [
    "Generates a random no between 1-100, and the user tries to guess it. Every time the user enters a guess, the computer tells whether the guessed no is greater than equal to, or case the guess is correct, the game ends. "
   ]
  },
  {
   "cell_type": "code",
   "execution_count": 2,
   "metadata": {},
   "outputs": [
    {
     "name": "stdout",
     "output_type": "stream",
     "text": [
      "Guessed Number :  23.0\n",
      "Guessed Number is smaller from the computer generated number\n",
      "Guessed Number :  54.0\n",
      "Guessed Number is smaller from the computer generated number\n",
      "Guessed Number :  67.0\n",
      "Guessed Number is smaller from the computer generated number\n",
      "Guessed Number :  98.0\n",
      "Guessed Number is larger from the computer generated number\n",
      "Guessed Number :  80.0\n",
      "Guessed Number is smaller from the computer generated number\n",
      "Guessed Number :  85.0\n",
      "!!YOU WIN!!\n",
      "Random Number :  85\n"
     ]
    }
   ],
   "source": [
    "import random as rand\n",
    "i=0\n",
    "randomNumber=rand.randint(1,100)\n",
    "guessNumber=float(input(\"Guess a number between 1 - 100 : \"))\n",
    "print(\"Guessed Number : \",guessNumber)\n",
    "while randomNumber!= guessNumber:\n",
    "    # i+=1\n",
    "    # if(i>3):\n",
    "    #     q=input(\"Leave Game? (y/n)\").lower()[0]\n",
    "    #     if q==\"y\":\n",
    "    #         break\n",
    "    # else:    \n",
    "    if(guessNumber>randomNumber):\n",
    "        print(\"Guessed Number is larger from the computer generated number\")\n",
    "    elif(guessNumber<randomNumber):\n",
    "        print(\"Guessed Number is smaller from the computer generated number\")\n",
    "        # randomNumber=rand.randint(1,100)\n",
    "    guessNumber=float(input(\"Guess another number between 1 - 100 : \"))\n",
    "        # print(\"Random Number : \",randomNumber)\n",
    "    print(\"Guessed Number : \",guessNumber)\n",
    "else:\n",
    "    print(\"!!YOU WIN!!\")\n",
    "    print(\"Random Number : \",randomNumber)"
   ]
  }
 ],
 "metadata": {
  "kernelspec": {
   "display_name": "Python 3",
   "language": "python",
   "name": "python3"
  },
  "language_info": {
   "codemirror_mode": {
    "name": "ipython",
    "version": 3
   },
   "file_extension": ".py",
   "mimetype": "text/x-python",
   "name": "python",
   "nbconvert_exporter": "python",
   "pygments_lexer": "ipython3",
   "version": "3.10.4"
  },
  "orig_nbformat": 4
 },
 "nbformat": 4,
 "nbformat_minor": 2
}
